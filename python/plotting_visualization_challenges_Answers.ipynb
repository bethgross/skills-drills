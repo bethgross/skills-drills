{
 "cells": [
  {
   "cell_type": "markdown",
   "metadata": {},
   "source": "# Answers"
  },
  {
   "cell_type": "markdown",
   "metadata": {},
   "source": "## A1 \u2013 Bill Scatter Overview\n\n_Load seaborn's `penguins` dataset, set a colorblind theme, and plot bill length vs bill depth colored by species._"
  },
  {
   "cell_type": "code",
   "metadata": {},
   "execution_count": null,
   "outputs": [],
   "source": "import pandas as pd\nimport seaborn as sns\nimport matplotlib.pyplot as plt\n\nsns.set_theme(style='whitegrid', palette='colorblind')\n\npenguins = sns.load_dataset('penguins')\nfig, ax = plt.subplots(figsize=(6, 4))\nsns.scatterplot(data=penguins, x='bill_length_mm', y='bill_depth_mm', hue='species', ax=ax, alpha=0.8)\nax.set_title('Bill Measurements by Species')\nplt.tight_layout()\nplt.show()\n# Observation: Gentoo penguins cluster with long bills but shallow depths compared with Adelie and Chinstrap birds.\n"
  },
  {
   "cell_type": "markdown",
   "metadata": {},
   "source": "## A2 \u2013 Facet Scatter\n\n_Create a facet grid of flipper length vs body mass, splitting columns by sex and coloring points by species._"
  },
  {
   "cell_type": "code",
   "metadata": {},
   "execution_count": null,
   "outputs": [],
   "source": "g = sns.relplot(\n    data=penguins,\n    x='flipper_length_mm',\n    y='body_mass_g',\n    hue='species',\n    col='sex',\n    kind='scatter',\n    height=4,\n    aspect=1\n)\ng.set_titles('{col_name}')\nplt.show()\n# Observation: Male penguins tend to be heavier for a given flipper length across every species.\n"
  },
  {
   "cell_type": "markdown",
   "metadata": {},
   "source": "## A3 \u2013 Markers by Island\n\n_Draw a scatter of bill length vs body mass using different markers per island and position the legend outside the plot._"
  },
  {
   "cell_type": "code",
   "metadata": {},
   "execution_count": null,
   "outputs": [],
   "source": "fig, ax = plt.subplots(figsize=(6, 4))\nsns.scatterplot(\n    data=penguins,\n    x='bill_length_mm',\n    y='body_mass_g',\n    style='island',\n    hue='species',\n    ax=ax\n)\nax.legend(title='Species / Island', bbox_to_anchor=(1.05, 1), loc='upper left')\nax.set_title('Body Mass by Bill Length and Island')\nplt.tight_layout()\nplt.show()\n# Observation: Biscoe island birds dominate the heavier mass range regardless of species.\n"
  },
  {
   "cell_type": "markdown",
   "metadata": {},
   "source": "## A4 \u2013 Overlapping Histograms\n\n_Plot overlapping histograms of `flipper_length_mm` for each species using transparency and contrasting edge colors._"
  },
  {
   "cell_type": "code",
   "metadata": {},
   "execution_count": null,
   "outputs": [],
   "source": "fig, ax = plt.subplots(figsize=(6, 4))\nfor species, df_subset in penguins.groupby('species'):\n    ax.hist(\n        df_subset['flipper_length_mm'].dropna(),\n        bins=20,\n        alpha=0.5,\n        edgecolor='black',\n        label=species\n    )\nax.set_xlabel('Flipper Length (mm)')\nax.set_ylabel('Count')\nax.legend(title='Species')\nax.set_title('Flipper Length Distribution by Species')\nplt.tight_layout()\nplt.show()\n# Observation: Gentoo flippers skew longest, shifting their histogram noticeably to the right.\n"
  },
  {
   "cell_type": "markdown",
   "metadata": {},
   "source": "## A5 \u2013 Bill Depth Density\n\n_Create shaded KDE curves for bill depth by species on shared axes, including a vertical line at the overall median._"
  },
  {
   "cell_type": "code",
   "metadata": {},
   "execution_count": null,
   "outputs": [],
   "source": "fig, ax = plt.subplots(figsize=(6, 4))\nfor species, df_subset in penguins.groupby('species'):\n    sns.kdeplot(df_subset['bill_depth_mm'], ax=ax, fill=True, alpha=0.4, label=species)\nax.axvline(penguins['bill_depth_mm'].median(), color='black', linestyle='--', linewidth=1)\nax.set_title('Bill Depth Density by Species')\nax.set_xlabel('Bill Depth (mm)')\nplt.tight_layout()\nplt.show()\n# Observation: Adelies concentrate around deeper bills relative to the overall median reference line.\n"
  },
  {
   "cell_type": "markdown",
   "metadata": {},
   "source": "## A6 \u2013 Violin with Means\n\n_Plot body mass by species using a violin plot with inner quartile boxes and annotate the mean mass atop each violin._"
  },
  {
   "cell_type": "code",
   "metadata": {},
   "execution_count": null,
   "outputs": [],
   "source": "fig, ax = plt.subplots(figsize=(6, 4))\nsns.violinplot(data=penguins, x='species', y='body_mass_g', inner='box', ax=ax)\nmean_masses = penguins.groupby('species')['body_mass_g'].mean()\nfor idx, (species, mean_val) in enumerate(mean_masses.items()):\n    ax.text(idx, mean_val + 50, f'{mean_val:.0f}', ha='center', va='bottom', fontsize=9)\nax.set_title('Body Mass by Species')\nplt.tight_layout()\nplt.show()\n# Observation: Gentoo penguins average near 5,000 grams, towering over the other species.\n"
  },
  {
   "cell_type": "markdown",
   "metadata": {},
   "source": "## A7 \u2013 Pairplot Tweaks\n\n_Construct a pairplot over numeric penguin features with species hue, smaller markers, and histograms on the diagonal._"
  },
  {
   "cell_type": "code",
   "metadata": {},
   "execution_count": null,
   "outputs": [],
   "source": "sns.pairplot(\n    data=penguins,\n    vars=['bill_length_mm', 'bill_depth_mm', 'flipper_length_mm', 'body_mass_g'],\n    hue='species',\n    plot_kws={'s': 30, 'alpha': 0.7},\n    diag_kind='hist'\n)\nplt.show()\n# Observation: Species clusters are clearly separated on bill depth versus bill length axes.\n"
  },
  {
   "cell_type": "markdown",
   "metadata": {},
   "source": "## A8 \u2013 Correlation Heatmap\n\n_Compute the correlation matrix of numeric penguin features and display it with a diverging heatmap and annotations._"
  },
  {
   "cell_type": "code",
   "metadata": {},
   "execution_count": null,
   "outputs": [],
   "source": "corr = penguins[['bill_length_mm', 'bill_depth_mm', 'flipper_length_mm', 'body_mass_g']].corr()\nfig, ax = plt.subplots(figsize=(5, 4))\nsns.heatmap(corr, annot=True, cmap='coolwarm', center=0, fmt='.2f', ax=ax)\nax.set_title('Penguin Feature Correlations')\nplt.tight_layout()\nplt.show()\n# Observation: Flipper length and body mass exhibit the strongest positive relationship.\n"
  },
  {
   "cell_type": "markdown",
   "metadata": {},
   "source": "## A9 \u2013 Dual-Axis Trend\n\n_Using the `flights` dataset, plot monthly passengers on the primary axis and a 12-month rolling sum on the secondary axis._"
  },
  {
   "cell_type": "code",
   "metadata": {},
   "execution_count": null,
   "outputs": [],
   "source": "flights = sns.load_dataset('flights')\nflights['date'] = pd.to_datetime(flights['year'].astype(str) + '-' + flights['month'].astype(str))\nflights = flights.set_index('date').sort_index()\nflights['rolling_year'] = flights['passengers'].rolling(12, min_periods=1).sum()\n\nfig, ax1 = plt.subplots(figsize=(8, 4))\nax2 = ax1.twinx()\nax1.plot(flights.index, flights['passengers'], color='tab:blue', label='Monthly passengers')\nax2.plot(flights.index, flights['rolling_year'], color='tab:orange', label='12-month sum')\nax1.set_ylabel('Passengers')\nax2.set_ylabel('Rolling annual passengers')\nax1.set_title('Monthly vs Rolling Annual Passenger Counts')\nax1.legend(loc='upper left')\nax2.legend(loc='upper right')\nplt.tight_layout()\nplt.show()\n# Observation: The rolling series smooths spikes yet mirrors the broader upward trajectory.\n"
  },
  {
   "cell_type": "markdown",
   "metadata": {},
   "source": "## A10 \u2013 Area Chart\n\n_Plot a filled area chart of normalized monthly passengers (divided by max) from the flights data._"
  },
  {
   "cell_type": "code",
   "metadata": {},
   "execution_count": null,
   "outputs": [],
   "source": "normalized = flights['passengers'] / flights['passengers'].max()\nfig, ax = plt.subplots(figsize=(8, 3.5))\nax.fill_between(flights.index, normalized, color='steelblue', alpha=0.6)\nax.set_ylabel('Share of Max Passengers')\nax.set_title('Normalized Monthly Passenger Volume')\nplt.tight_layout()\nplt.show()\n# Observation: Seasonal peaks recur annually while steadily creeping closer to 100% of the max.\n"
  },
  {
   "cell_type": "markdown",
   "metadata": {},
   "source": "## A11 \u2013 Peak Annotation\n\n_Add an annotation for the month with the highest passenger count showing the value on the flights line series._"
  },
  {
   "cell_type": "code",
   "metadata": {},
   "execution_count": null,
   "outputs": [],
   "source": "max_idx = flights['passengers'].idxmax()\nmax_val = flights['passengers'].max()\nfig, ax = plt.subplots(figsize=(8, 3.5))\nax.plot(flights.index, flights['passengers'], color='tab:blue')\nax.scatter([max_idx], [max_val], color='red')\nax.annotate(\n    f'{max_val} passengers',\n    xy=(max_idx, max_val),\n    xytext=(max_idx, max_val + 30),\n    arrowprops=dict(arrowstyle='->')\n)\nax.set_ylabel('Passengers')\nax.set_title('Monthly Passenger Counts with Peak Highlighted')\nplt.tight_layout()\nplt.show()\n# Observation: The peak lands near mid-1960 as the series culminates.\n"
  },
  {
   "cell_type": "markdown",
   "metadata": {},
   "source": "## A12 \u2013 Load Tips Dataset\n\n_Load seaborn's `tips` dataset for the remaining plotting tasks and preview the first rows._"
  },
  {
   "cell_type": "code",
   "metadata": {},
   "execution_count": null,
   "outputs": [],
   "source": "tips = sns.load_dataset('tips')\ntips.head()\n# Observation: The table captures meal context, bill size, and gratuities across several days.\n"
  },
  {
   "cell_type": "markdown",
   "metadata": {},
   "source": "## A13 \u2013 Stacked Bar Chart\n\n_Create a stacked bar chart of total tips by day and smoker status with custom colors and an external legend._"
  },
  {
   "cell_type": "code",
   "metadata": {},
   "execution_count": null,
   "outputs": [],
   "source": "tips_summary = tips.groupby(['day', 'smoker'])['tip'].sum().unstack(fill_value=0)\ncolors = ['#1b9e77', '#d95f02']\nfig, ax = plt.subplots(figsize=(6, 4))\ntips_summary.plot(kind='bar', stacked=True, color=colors, ax=ax)\nax.set_ylabel('Total Tips ($)')\nax.set_title('Tips by Day and Smoker Status')\nax.legend(title='Smoker', bbox_to_anchor=(1.02, 1), loc='upper left')\nplt.tight_layout()\nplt.show()\n# Observation: Weekend dinners account for the bulk of tipping volume, especially among non-smokers.\n"
  },
  {
   "cell_type": "markdown",
   "metadata": {},
   "source": "## A14 \u2013 Boxen and Swarm\n\n_Combine a boxen plot of total bill by day with an overlaid swarm plot colored by meal time._"
  },
  {
   "cell_type": "code",
   "metadata": {},
   "execution_count": null,
   "outputs": [],
   "source": "fig, ax = plt.subplots(figsize=(6, 4))\nsns.boxenplot(data=tips, x='day', y='total_bill', ax=ax, color='lightgray')\nsns.swarmplot(data=tips, x='day', y='total_bill', hue='time', dodge=True, size=4, ax=ax)\nax.set_title('Total Bill Distribution by Day')\nax.legend(title='Meal Time', bbox_to_anchor=(1.02, 1), loc='upper left')\nplt.tight_layout()\nplt.show()\n# Observation: Dinner bills stretch higher, particularly on Saturday nights.\n"
  },
  {
   "cell_type": "markdown",
   "metadata": {},
   "source": "## A15 \u2013 Manual Facet Histograms\n\n_Use matplotlib subplots to plot histograms of total bill for each day (2\u00d72 grid) with shared axes._"
  },
  {
   "cell_type": "code",
   "metadata": {},
   "execution_count": null,
   "outputs": [],
   "source": "days = tips['day'].unique()\nfig, axes = plt.subplots(2, 2, figsize=(8, 6), sharex=True, sharey=True)\naxes = axes.flatten()\nfor ax, day in zip(axes, days):\n    subset = tips.loc[tips['day'] == day, 'total_bill']\n    ax.hist(subset, bins=15, color='skyblue', edgecolor='black')\n    ax.set_title(day)\nfig.suptitle('Total Bill by Day', fontsize=14)\nplt.tight_layout(rect=[0, 0, 1, 0.96])\nplt.show()\n# Observation: Saturday distributions appear widest, underscoring weekend spending.\n"
  },
  {
   "cell_type": "markdown",
   "metadata": {},
   "source": "## A16 \u2013 Tip Percentage Catplot\n\n_Calculate tip percentage and draw a seaborn catplot (pointplot) of average tip percentage by day for each meal time._"
  },
  {
   "cell_type": "code",
   "metadata": {},
   "execution_count": null,
   "outputs": [],
   "source": "tips = tips.assign(tip_pct=tips['tip'] / tips['total_bill'])\nsns.catplot(\n    data=tips,\n    x='day',\n    y='tip_pct',\n    hue='time',\n    kind='point',\n    dodge=True,\n    markers=['o', 's'],\n    capsize=0.1,\n    height=4,\n    aspect=1.2\n)\nplt.title('Average Tip Percentage by Day and Meal')\nplt.show()\n# Observation: Dinner tips edge out lunch tips by a couple of percentage points across most days.\n"
  },
  {
   "cell_type": "markdown",
   "metadata": {},
   "source": "## A17 \u2013 Joint Regression Plot\n\n_Create a seaborn jointplot of total bill vs tip with a regression line and marginal histograms._"
  },
  {
   "cell_type": "code",
   "metadata": {},
   "execution_count": null,
   "outputs": [],
   "source": "sns.jointplot(data=tips, x='total_bill', y='tip', kind='reg', height=5)\nplt.show()\n# Observation: A strong positive linear relationship emerges with modest variance around the fit line.\n"
  },
  {
   "cell_type": "markdown",
   "metadata": {},
   "source": "## A18 \u2013 ECDF Plot\n\n_Plot an empirical cumulative distribution function (ECDF) of total bill amounts grouped by meal time._"
  },
  {
   "cell_type": "code",
   "metadata": {},
   "execution_count": null,
   "outputs": [],
   "source": "fig, ax = plt.subplots(figsize=(6, 4))\nfor meal, subset in tips.groupby('time'):\n    sns.ecdfplot(subset['total_bill'], ax=ax, label=meal)\nax.set_xlabel('Total Bill ($)')\nax.set_ylabel('ECDF')\nax.set_title('Total Bill ECDF by Meal Time')\nax.legend(title='Meal Time')\nplt.tight_layout()\nplt.show()\n# Observation: Lunch bills accumulate faster at lower amounts, confirming dinners run pricier.\n"
  },
  {
   "cell_type": "markdown",
   "metadata": {},
   "source": "## A19 \u2013 Hexbin Density\n\n_Use matplotlib's `hexbin` to visualize the density of total bill vs tip values with a colorbar._"
  },
  {
   "cell_type": "code",
   "metadata": {},
   "execution_count": null,
   "outputs": [],
   "source": "fig, ax = plt.subplots(figsize=(6, 4))\nhb = ax.hexbin(tips['total_bill'], tips['tip'], gridsize=25, cmap='viridis')\ncb = fig.colorbar(hb, ax=ax)\ncb.set_label('Count')\nax.set_xlabel('Total Bill')\nax.set_ylabel('Tip')\nax.set_title('Tip vs Total Bill Density')\nplt.tight_layout()\nplt.show()\n# Observation: The densest concentration sits around $10\u2013$20 bills with $2\u2013$4 tips.\n"
  },
  {
   "cell_type": "markdown",
   "metadata": {},
   "source": "## A20 \u2013 Style Context\n\n_Within a seaborn style context (`darkgrid`), plot the average tip percentage by day to demonstrate temporary styling._"
  },
  {
   "cell_type": "code",
   "metadata": {},
   "execution_count": null,
   "outputs": [],
   "source": "with sns.axes_style('darkgrid'):\n    fig, ax = plt.subplots(figsize=(6, 3.5))\n    tip_pct_by_day = tips.groupby('day')['tip_pct'].mean().reindex(['Thur', 'Fri', 'Sat', 'Sun'])\n    tip_pct_by_day.plot(kind='bar', color='tab:purple', ax=ax)\n    ax.set_ylabel('Average Tip %')\n    ax.set_title('Tip Percentage by Day (Darkgrid Style)')\nplt.tight_layout()\nplt.show()\n# Observation: Styling contexts offer quick aesthetic swaps without altering global settings.\n"
  }
 ],
 "metadata": {
  "kernelspec": {
   "display_name": "leet-ish",
   "language": "python",
   "name": "python3"
  },
  "language_info": {
   "codemirror_mode": {
    "name": "ipython",
    "version": 3
   },
   "file_extension": ".py",
   "mimetype": "text/x-python",
   "name": "python",
   "nbconvert_exporter": "python",
   "pygments_lexer": "ipython3",
   "version": "3.12.11"
  }
 },
 "nbformat": 4,
 "nbformat_minor": 5
}
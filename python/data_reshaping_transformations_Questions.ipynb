{
 "cells": [
  {
   "cell_type": "markdown",
   "metadata": {},
   "source": "# Questions"
  },
  {
   "cell_type": "markdown",
   "metadata": {},
   "source": "## Q1 \u2013 Load Flights Dataset\n\nImport the `flights` dataset from seaborn, report its shape, and preview the first rows."
  },
  {
   "cell_type": "code",
   "metadata": {},
   "execution_count": null,
   "outputs": [],
   "source": ""
  },
  {
   "cell_type": "markdown",
   "metadata": {},
   "source": "## Q2 \u2013 Ordered Months\n\nEnsure the `month` column is an ordered categorical variable following calendar order, then display its categories."
  },
  {
   "cell_type": "code",
   "metadata": {},
   "execution_count": null,
   "outputs": [],
   "source": ""
  },
  {
   "cell_type": "markdown",
   "metadata": {},
   "source": "## Q3 \u2013 Monthly Pivot\n\nPivot the data into a matrix of `month` by `year` showing passenger counts, naming the result `flights_pivot`."
  },
  {
   "cell_type": "code",
   "metadata": {},
   "execution_count": null,
   "outputs": [],
   "source": ""
  },
  {
   "cell_type": "markdown",
   "metadata": {},
   "source": "## Q4 \u2013 Monthly Totals\n\nAdd a `total` column to `flights_pivot` representing the sum across all years for each month."
  },
  {
   "cell_type": "code",
   "metadata": {},
   "execution_count": null,
   "outputs": [],
   "source": ""
  },
  {
   "cell_type": "markdown",
   "metadata": {},
   "source": "## Q5 \u2013 Year-over-Year Growth\n\nCompute the year-over-year percentage change across columns in `flights_pivot` (excluding `total`) and store it as `flights_growth`."
  },
  {
   "cell_type": "code",
   "metadata": {},
   "execution_count": null,
   "outputs": [],
   "source": ""
  },
  {
   "cell_type": "markdown",
   "metadata": {},
   "source": "## Q6 \u2013 Stacked View\n\nStack `flights_pivot` (without the `total` column) back to a long index with `month` and `year`, naming the series `passengers`."
  },
  {
   "cell_type": "code",
   "metadata": {},
   "execution_count": null,
   "outputs": [],
   "source": ""
  },
  {
   "cell_type": "markdown",
   "metadata": {},
   "source": "## Q7 \u2013 Datetime Period\n\nCreate a `date` column in the original `flights` frame combining `year` and `month` as the first day of the month, then set it as the index."
  },
  {
   "cell_type": "code",
   "metadata": {},
   "execution_count": null,
   "outputs": [],
   "source": ""
  },
  {
   "cell_type": "markdown",
   "metadata": {},
   "source": "## Q8 \u2013 Quarterly Aggregation\n\nResample the flights data to quarterly frequency, summing passengers into `flights_q`."
  },
  {
   "cell_type": "code",
   "metadata": {},
   "execution_count": null,
   "outputs": [],
   "source": ""
  },
  {
   "cell_type": "markdown",
   "metadata": {},
   "source": "## Q9 \u2013 Quarter-on-Quarter Change\n\nCompute the quarter-on-quarter percentage change of `flights_q` and name the Series `qoq_change`."
  },
  {
   "cell_type": "code",
   "metadata": {},
   "execution_count": null,
   "outputs": [],
   "source": ""
  },
  {
   "cell_type": "markdown",
   "metadata": {},
   "source": "## Q10 \u2013 Rolling Annual Total\n\nCalculate a 12-month rolling sum of passengers in the monthly data and assign it to `flights['rolling_year']`."
  },
  {
   "cell_type": "code",
   "metadata": {},
   "execution_count": null,
   "outputs": [],
   "source": ""
  },
  {
   "cell_type": "markdown",
   "metadata": {},
   "source": "## Q11 \u2013 Load Tips Dataset\n\nImport the `tips` dataset for use in reshaping exercises and display its head."
  },
  {
   "cell_type": "code",
   "metadata": {},
   "execution_count": null,
   "outputs": [],
   "source": ""
  },
  {
   "cell_type": "markdown",
   "metadata": {},
   "source": "## Q12 \u2013 Day-Time Pivot\n\nCreate `tips_pivot` summarizing average tip percentage (`tip / total_bill`) by `day` (rows) and `time` (columns)."
  },
  {
   "cell_type": "code",
   "metadata": {},
   "execution_count": null,
   "outputs": [],
   "source": ""
  },
  {
   "cell_type": "markdown",
   "metadata": {},
   "source": "## Q13 \u2013 Flatten Columns\n\nReset the index on `tips_pivot` and flatten the resulting columns into simple snake_case names."
  },
  {
   "cell_type": "code",
   "metadata": {},
   "execution_count": null,
   "outputs": [],
   "source": ""
  },
  {
   "cell_type": "markdown",
   "metadata": {},
   "source": "## Q14 \u2013 Melt Back to Long\n\nMelt the flattened pivot back into long format with columns `day`, `time`, and `tip_pct`."
  },
  {
   "cell_type": "code",
   "metadata": {},
   "execution_count": null,
   "outputs": [],
   "source": ""
  },
  {
   "cell_type": "markdown",
   "metadata": {},
   "source": "## Q15 \u2013 Customer Size Buckets\n\nBin party `size` into labels (`solo`, `pair`, `small_group`, `large_group`) and append this to the `tips` frame."
  },
  {
   "cell_type": "code",
   "metadata": {},
   "execution_count": null,
   "outputs": [],
   "source": ""
  },
  {
   "cell_type": "markdown",
   "metadata": {},
   "source": "## Q16 \u2013 Nested Pivot\n\nCreate a pivot table showing average `tip_pct` by `day` and `party_bucket`, with `time` as columns (a three-level summary)."
  },
  {
   "cell_type": "code",
   "metadata": {},
   "execution_count": null,
   "outputs": [],
   "source": ""
  },
  {
   "cell_type": "markdown",
   "metadata": {},
   "source": "## Q17 \u2013 Stack MultiIndex\n\nStack the columns of `nested_pivot` to produce a Series with a three-level MultiIndex (day, party_bucket, time)."
  },
  {
   "cell_type": "code",
   "metadata": {},
   "execution_count": null,
   "outputs": [],
   "source": ""
  },
  {
   "cell_type": "markdown",
   "metadata": {},
   "source": "## Q18 \u2013 Cross Tabulation\n\nBuild a contingency table counting meals by `smoker` status and `time`, storing the result in `smoker_time_ct`."
  },
  {
   "cell_type": "code",
   "metadata": {},
   "execution_count": null,
   "outputs": [],
   "source": ""
  },
  {
   "cell_type": "markdown",
   "metadata": {},
   "source": "## Q19 \u2013 Normalize Crosstab\n\nNormalize `smoker_time_ct` by row totals to obtain proportional shares per smoker group."
  },
  {
   "cell_type": "code",
   "metadata": {},
   "execution_count": null,
   "outputs": [],
   "source": ""
  },
  {
   "cell_type": "markdown",
   "metadata": {},
   "source": "## Q20 \u2013 Wide-to-Long Slice\n\nUsing `flights_pivot`, reshape passenger counts for 1956\u20131959 into a long DataFrame with columns `month`, `year`, `passengers` only for that slice."
  },
  {
   "cell_type": "code",
   "metadata": {},
   "execution_count": null,
   "outputs": [],
   "source": ""
  }
 ],
 "metadata": {
  "kernelspec": {
   "display_name": "leet-ish",
   "language": "python",
   "name": "python3"
  },
  "language_info": {
   "codemirror_mode": {
    "name": "ipython",
    "version": 3
   },
   "file_extension": ".py",
   "mimetype": "text/x-python",
   "name": "python",
   "nbconvert_exporter": "python",
   "pygments_lexer": "ipython3",
   "version": "3.12.11"
  }
 },
 "nbformat": 4,
 "nbformat_minor": 5
}
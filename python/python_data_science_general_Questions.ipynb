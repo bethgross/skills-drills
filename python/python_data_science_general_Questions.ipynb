{
 "cells": [
  {
   "cell_type": "markdown",
   "id": "32b7adf4",
   "metadata": {},
   "source": [
    "# Questions"
   ]
  },
  {
   "cell_type": "markdown",
   "id": "125abae2",
   "metadata": {},
   "source": [
    "## Q1 – Goal: Simple Data Exploration.\n",
    "\n",
    "Load the `tips` dataset from seaborn, report its shape, and preview the first five rows."
   ]
  },
  {
   "cell_type": "code",
   "execution_count": null,
   "id": "98ef5d29",
   "metadata": {},
   "outputs": [],
   "source": []
  },
  {
   "cell_type": "markdown",
   "id": "53c6529d",
   "metadata": {},
   "source": [
    "## Q2.\n",
    "\n",
    "Using the `tips` data, generate summary statistics for the numeric columns and note any skewness you observe in `total_bill`."
   ]
  },
  {
   "cell_type": "code",
   "execution_count": null,
   "id": "8187c598",
   "metadata": {},
   "outputs": [],
   "source": []
  },
  {
   "cell_type": "markdown",
   "id": "3fe68d24",
   "metadata": {},
   "source": [
    "## Q3.\n",
    "\n",
    "Create a new `tip_pct` feature (tip divided by total bill) and report the average tip percentage by customer sex."
   ]
  },
  {
   "cell_type": "code",
   "execution_count": null,
   "id": "51b25a82",
   "metadata": {},
   "outputs": [],
   "source": []
  },
  {
   "cell_type": "markdown",
   "id": "495c0da2",
   "metadata": {},
   "source": [
    "## Q4.\n",
    "\n",
    "Build a pivot table that compares average tip percentage by day of week and meal time, rounded to three decimals."
   ]
  },
  {
   "cell_type": "code",
   "execution_count": null,
   "id": "5e01915a",
   "metadata": {},
   "outputs": [],
   "source": []
  },
  {
   "cell_type": "markdown",
   "id": "c6e5a8a9",
   "metadata": {},
   "source": [
    "## Q5.\n",
    "\n",
    "Plot the relationship between `total_bill` and `tip` to assess whether a linear trend exists."
   ]
  },
  {
   "cell_type": "code",
   "execution_count": null,
   "id": "e3dceefd",
   "metadata": {},
   "outputs": [],
   "source": []
  },
  {
   "cell_type": "markdown",
   "id": "bc2b63da",
   "metadata": {},
   "source": [
    "## Q6.\n",
    "\n",
    "Identify the ten highest tip percentages and display their key details (bill, tip, tip_pct, day, time, size)."
   ]
  },
  {
   "cell_type": "code",
   "execution_count": null,
   "id": "c934241e",
   "metadata": {},
   "outputs": [],
   "source": []
  },
  {
   "cell_type": "markdown",
   "id": "b6cceb6e",
   "metadata": {},
   "source": [
    "## Q7.\n",
    "\n",
    "Create and visualize the correlation matrix for the numeric tipping features to diagnose multicollinearity."
   ]
  },
  {
   "cell_type": "code",
   "execution_count": null,
   "id": "2daed5df",
   "metadata": {},
   "outputs": [],
   "source": []
  },
  {
   "cell_type": "markdown",
   "id": "8bc96b03",
   "metadata": {},
   "source": [
    "## Q8.\n",
    "\n",
    "Test whether dinner tip percentages differ from lunch tip percentages using an appropriate statistical test."
   ]
  },
  {
   "cell_type": "code",
   "execution_count": null,
   "id": "53677dea",
   "metadata": {},
   "outputs": [],
   "source": []
  },
  {
   "cell_type": "markdown",
   "id": "5f34adf5",
   "metadata": {},
   "source": [
    "## Q9.\n",
    "\n",
    "Train a linear regression model to predict `tip` from bill size, party size, and categorical context (sex, smoker, day, time). Report RMSE and R² on a hold-out set."
   ]
  },
  {
   "cell_type": "code",
   "execution_count": null,
   "id": "efb5723d",
   "metadata": {},
   "outputs": [],
   "source": []
  },
  {
   "cell_type": "markdown",
   "id": "67c0bfff",
   "metadata": {},
   "source": [
    "## Q10.\n",
    "\n",
    "Diagnose the regression model by visualizing residuals and checking for systematic patterns."
   ]
  },
  {
   "cell_type": "code",
   "execution_count": null,
   "id": "9370051d",
   "metadata": {},
   "outputs": [],
   "source": []
  },
  {
   "cell_type": "markdown",
   "id": "dda33e5b",
   "metadata": {},
   "source": [
    "## Q11 – Goal: Multivariate Profiling.\n",
    "\n",
    "Load the `penguins` dataset and quantify missing values per column."
   ]
  },
  {
   "cell_type": "code",
   "execution_count": null,
   "id": "1ebd3390",
   "metadata": {},
   "outputs": [],
   "source": []
  },
  {
   "cell_type": "markdown",
   "id": "1c2a5456",
   "metadata": {},
   "source": [
    "## Q12.\n",
    "\n",
    "Impute missing numeric values in `penguins` with the median and confirm that imputed columns are now complete."
   ]
  },
  {
   "cell_type": "code",
   "execution_count": null,
   "id": "9937b8d6",
   "metadata": {},
   "outputs": [],
   "source": []
  },
  {
   "cell_type": "markdown",
   "id": "f50ef2a4",
   "metadata": {},
   "source": [
    "## Q13.\n",
    "\n",
    "Produce a species-level summary table showing mean numeric measurements, ordered by flipper length."
   ]
  },
  {
   "cell_type": "code",
   "execution_count": null,
   "id": "dc1090db",
   "metadata": {},
   "outputs": [],
   "source": []
  },
  {
   "cell_type": "markdown",
   "id": "fd3b085a",
   "metadata": {},
   "source": [
    "## Q14.\n",
    "\n",
    "Use a pair plot to compare bill and flipper measurements across species."
   ]
  },
  {
   "cell_type": "code",
   "execution_count": null,
   "id": "e3cdd469",
   "metadata": {},
   "outputs": [],
   "source": []
  },
  {
   "cell_type": "markdown",
   "id": "5bef1766",
   "metadata": {},
   "source": [
    "## Q15.\n",
    "\n",
    "Train a multinomial logistic regression model to classify penguin species using numeric and categorical features; evaluate with 5-fold cross-validation accuracy."
   ]
  },
  {
   "cell_type": "code",
   "execution_count": null,
   "id": "06f8469f",
   "metadata": {},
   "outputs": [],
   "source": []
  },
  {
   "cell_type": "markdown",
   "id": "2d6055a1",
   "metadata": {},
   "source": [
    "## Q16 – Goal: Applied Modeling.\n",
    "\n",
    "Load the `mpg` dataset and compute average miles-per-gallon by car origin and cylinder count."
   ]
  },
  {
   "cell_type": "code",
   "execution_count": null,
   "id": "b5bfcab6",
   "metadata": {},
   "outputs": [],
   "source": []
  },
  {
   "cell_type": "markdown",
   "id": "69f8d48d",
   "metadata": {},
   "source": [
    "## Q17.\n",
    "\n",
    "Evaluate whether cylinder count and origin are independent using a chi-squared test."
   ]
  },
  {
   "cell_type": "code",
   "execution_count": null,
   "id": "bf26a9e7",
   "metadata": {},
   "outputs": [],
   "source": []
  },
  {
   "cell_type": "markdown",
   "id": "8abbcb00",
   "metadata": {},
   "source": [
    "## Q18.\n",
    "\n",
    "Build a random forest regression pipeline (with appropriate preprocessing) to predict `mpg`; report RMSE and R² on a hold-out set."
   ]
  },
  {
   "cell_type": "code",
   "execution_count": null,
   "id": "f6c2ac2b",
   "metadata": {},
   "outputs": [],
   "source": []
  },
  {
   "cell_type": "markdown",
   "id": "5adad212",
   "metadata": {},
   "source": [
    "## Q19.\n",
    "\n",
    "Estimate permutation feature importances for the random forest model on the test data and list the top drivers."
   ]
  },
  {
   "cell_type": "code",
   "execution_count": null,
   "id": "66fdee84",
   "metadata": {},
   "outputs": [],
   "source": []
  },
  {
   "cell_type": "markdown",
   "id": "97a536cf",
   "metadata": {},
   "source": [
    "## Q20.\n",
    "\n",
    "Plot predicted versus actual `mpg` for the test set and report mean absolute error to judge calibration."
   ]
  },
  {
   "cell_type": "code",
   "execution_count": null,
   "id": "d25575ab",
   "metadata": {},
   "outputs": [],
   "source": []
  }
 ],
 "metadata": {
  "kernelspec": {
   "display_name": "leet-ish",
   "language": "python",
   "name": "python3"
  },
  "language_info": {
   "codemirror_mode": {
    "name": "ipython",
    "version": 3
   },
   "file_extension": ".py",
   "mimetype": "text/x-python",
   "name": "python",
   "nbconvert_exporter": "python",
   "pygments_lexer": "ipython3",
   "version": "3.12.11"
  }
 },
 "nbformat": 4,
 "nbformat_minor": 5
}

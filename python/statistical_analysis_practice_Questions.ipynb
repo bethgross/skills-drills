{
 "cells": [
  {
   "cell_type": "markdown",
   "metadata": {},
   "source": "# Questions"
  },
  {
   "cell_type": "markdown",
   "metadata": {},
   "source": "## Q1 \u2013 Load Tips Dataset\n\nImport seaborn's `tips` dataset, calculate tip percentage (`tip_pct`), and display the first rows."
  },
  {
   "cell_type": "code",
   "metadata": {},
   "execution_count": null,
   "outputs": [],
   "source": ""
  },
  {
   "cell_type": "markdown",
   "metadata": {},
   "source": "## Q2 \u2013 Summary Statistics\n\nGenerate descriptive statistics (count, mean, std, quartiles) for `total_bill`, `tip`, and `tip_pct`."
  },
  {
   "cell_type": "code",
   "metadata": {},
   "execution_count": null,
   "outputs": [],
   "source": ""
  },
  {
   "cell_type": "markdown",
   "metadata": {},
   "source": "## Q3 \u2013 Bootstrap CI\n\nEstimate a 95% bootstrap confidence interval for the mean tip percentage using 5,000 resamples."
  },
  {
   "cell_type": "code",
   "metadata": {},
   "execution_count": null,
   "outputs": [],
   "source": ""
  },
  {
   "cell_type": "markdown",
   "metadata": {},
   "source": "## Q4 \u2013 Dinner vs Lunch T-Test\n\nUse Welch's t-test to compare mean tip percentage between dinner and lunch meals."
  },
  {
   "cell_type": "code",
   "metadata": {},
   "execution_count": null,
   "outputs": [],
   "source": ""
  },
  {
   "cell_type": "markdown",
   "metadata": {},
   "source": "## Q5 \u2013 Smoker Mann\u2013Whitney\n\nCompare tip percentages for smokers vs non-smokers using the Mann\u2013Whitney U test."
  },
  {
   "cell_type": "code",
   "metadata": {},
   "execution_count": null,
   "outputs": [],
   "source": ""
  },
  {
   "cell_type": "markdown",
   "metadata": {},
   "source": "## Q6 \u2013 Smoker vs Time Chi-Square\n\nConstruct a contingency table for `smoker` versus `time` and run a chi-square independence test."
  },
  {
   "cell_type": "code",
   "metadata": {},
   "execution_count": null,
   "outputs": [],
   "source": ""
  },
  {
   "cell_type": "markdown",
   "metadata": {},
   "source": "## Q7 \u2013 Pearson Correlation\n\nCompute the Pearson correlation and p-value between `total_bill` and `tip`."
  },
  {
   "cell_type": "code",
   "metadata": {},
   "execution_count": null,
   "outputs": [],
   "source": ""
  },
  {
   "cell_type": "markdown",
   "metadata": {},
   "source": "## Q8 \u2013 OLS Regression\n\nFit an OLS regression predicting `tip` from `total_bill` and `size`, then print the model summary (abridged)."
  },
  {
   "cell_type": "code",
   "metadata": {},
   "execution_count": null,
   "outputs": [],
   "source": ""
  },
  {
   "cell_type": "markdown",
   "metadata": {},
   "source": "## Q9 \u2013 Regression Coefficients\n\nDisplay the estimated coefficients with 95% confidence intervals from the OLS model."
  },
  {
   "cell_type": "code",
   "metadata": {},
   "execution_count": null,
   "outputs": [],
   "source": ""
  },
  {
   "cell_type": "markdown",
   "metadata": {},
   "source": "## Q10 \u2013 Residual Normality\n\nApply the Shapiro\u2013Wilk test to the OLS residuals to assess normality."
  },
  {
   "cell_type": "code",
   "metadata": {},
   "execution_count": null,
   "outputs": [],
   "source": ""
  },
  {
   "cell_type": "markdown",
   "metadata": {},
   "source": "## Q11 \u2013 Cohen's d by Sex\n\nCompute Cohen's d effect size for tip percentage differences between male and female patrons."
  },
  {
   "cell_type": "code",
   "metadata": {},
   "execution_count": null,
   "outputs": [],
   "source": ""
  },
  {
   "cell_type": "markdown",
   "metadata": {},
   "source": "## Q12 \u2013 Load Penguins Dataset\n\nLoad seaborn's `penguins` dataset, drop rows missing key numeric fields, and preview the head."
  },
  {
   "cell_type": "code",
   "metadata": {},
   "execution_count": null,
   "outputs": [],
   "source": ""
  },
  {
   "cell_type": "markdown",
   "metadata": {},
   "source": "## Q13 \u2013 Numeric Summary\n\nGenerate descriptive statistics for the numeric penguin measurements."
  },
  {
   "cell_type": "code",
   "metadata": {},
   "execution_count": null,
   "outputs": [],
   "source": ""
  },
  {
   "cell_type": "markdown",
   "metadata": {},
   "source": "## Q14 \u2013 Body Mass Confidence Intervals\n\nCompute mean body mass with 95% confidence intervals for each species using standard error estimates."
  },
  {
   "cell_type": "code",
   "metadata": {},
   "execution_count": null,
   "outputs": [],
   "source": ""
  },
  {
   "cell_type": "markdown",
   "metadata": {},
   "source": "## Q15 \u2013 Flipper Length ANOVA\n\nRun a one-way ANOVA to test whether mean flipper length differs across species."
  },
  {
   "cell_type": "code",
   "metadata": {},
   "execution_count": null,
   "outputs": [],
   "source": ""
  },
  {
   "cell_type": "markdown",
   "metadata": {},
   "source": "## Q16 \u2013 Tukey HSD\n\nPerform Tukey's Honest Significant Difference test for flipper length across species."
  },
  {
   "cell_type": "code",
   "metadata": {},
   "execution_count": null,
   "outputs": [],
   "source": ""
  },
  {
   "cell_type": "markdown",
   "metadata": {},
   "source": "## Q17 \u2013 Spearman Correlations\n\nCompute the Spearman correlation matrix for the penguin numeric features."
  },
  {
   "cell_type": "code",
   "metadata": {},
   "execution_count": null,
   "outputs": [],
   "source": ""
  },
  {
   "cell_type": "markdown",
   "metadata": {},
   "source": "## Q18 \u2013 Regression on Body Mass\n\nFit a linear model predicting `body_mass_g` from `flipper_length_mm`, `bill_depth_mm`, and species indicators using statsmodels."
  },
  {
   "cell_type": "code",
   "metadata": {},
   "execution_count": null,
   "outputs": [],
   "source": ""
  },
  {
   "cell_type": "markdown",
   "metadata": {},
   "source": "## Q19 \u2013 Regression Diagnostics\n\nApply the Shapiro\u2013Wilk test to the residuals of the body mass regression model."
  },
  {
   "cell_type": "code",
   "metadata": {},
   "execution_count": null,
   "outputs": [],
   "source": ""
  },
  {
   "cell_type": "markdown",
   "metadata": {},
   "source": "## Q20 \u2013 Logistic Model Setup\n\nPrepare a logistic regression dataset by encoding `sex` as 1 for male and 0 for female, creating dummy variables for species."
  },
  {
   "cell_type": "code",
   "metadata": {},
   "execution_count": null,
   "outputs": [],
   "source": ""
  },
  {
   "cell_type": "markdown",
   "metadata": {},
   "source": "## Q21 \u2013 Fit Logistic Regression\n\nFit a statsmodels Logit model predicting male penguins and report pseudo R-squared based on model deviance."
  },
  {
   "cell_type": "code",
   "metadata": {},
   "execution_count": null,
   "outputs": [],
   "source": ""
  },
  {
   "cell_type": "markdown",
   "metadata": {},
   "source": "## Q22 \u2013 Logistic Confusion Matrix\n\nGenerate predicted probabilities, classify using a 0.5 threshold, and display the confusion matrix with overall accuracy."
  },
  {
   "cell_type": "code",
   "metadata": {},
   "execution_count": null,
   "outputs": [],
   "source": ""
  }
 ],
 "metadata": {
  "kernelspec": {
   "display_name": "leet-ish",
   "language": "python",
   "name": "python3"
  },
  "language_info": {
   "codemirror_mode": {
    "name": "ipython",
    "version": 3
   },
   "file_extension": ".py",
   "mimetype": "text/x-python",
   "name": "python",
   "nbconvert_exporter": "python",
   "pygments_lexer": "ipython3",
   "version": "3.12.11"
  }
 },
 "nbformat": 4,
 "nbformat_minor": 5
}
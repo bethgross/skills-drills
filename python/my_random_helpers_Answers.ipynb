{
 "cells": [
  {
   "cell_type": "markdown",
   "id": "7435345e",
   "metadata": {},
   "source": [
    "# Answers"
   ]
  },
  {
   "cell_type": "markdown",
   "id": "882bc1dc",
   "metadata": {},
   "source": [
    "## A1 – Load secrets from .env\n",
    "\n",
    "Import the relevant libraries to load environment vairables and load the environment variable. \n",
    "\n",
    "Include a check to return an error if the database variable is set. "
   ]
  },
  {
   "cell_type": "code",
   "execution_count": null,
   "id": "fbb7f7e7",
   "metadata": {},
   "outputs": [
    {
     "name": "stdout",
     "output_type": "stream",
     "text": [
      "Successfully loaded database path\n"
     ]
    }
   ],
   "source": [
    "# Import necessary libraries\n",
    "import os\n",
    "import dotenv\n",
    "\n",
    "# Load environment variables from .env file\n",
    "dotenv.load_dotenv()\n",
    "\n",
    "DATABASE = os.getenv(\"DATABASE_PATH\")\n",
    "\n",
    "if not DATABASE:\n",
    "    raise ValueError(\"DATABASE_PATH environment variable is not set.\")\n",
    "else:\n",
    "    print(f\"Successfully loaded database path\")\n",
    "\n"
   ]
  }
 ],
 "metadata": {
  "kernelspec": {
   "display_name": "leet-ish",
   "language": "python",
   "name": "python3"
  },
  "language_info": {
   "codemirror_mode": {
    "name": "ipython",
    "version": 3
   },
   "file_extension": ".py",
   "mimetype": "text/x-python",
   "name": "python",
   "nbconvert_exporter": "python",
   "pygments_lexer": "ipython3",
   "version": "3.12.11"
  }
 },
 "nbformat": 4,
 "nbformat_minor": 5
}

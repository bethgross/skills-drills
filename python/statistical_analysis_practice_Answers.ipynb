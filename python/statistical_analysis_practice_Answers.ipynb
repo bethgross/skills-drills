{
 "cells": [
  {
   "cell_type": "markdown",
   "metadata": {},
   "source": "# Answers"
  },
  {
   "cell_type": "markdown",
   "metadata": {},
   "source": "## A1 \u2013 Load Tips Dataset\n\n_Import seaborn's `tips` dataset, calculate tip percentage (`tip_pct`), and display the first rows._"
  },
  {
   "cell_type": "code",
   "metadata": {},
   "execution_count": null,
   "outputs": [],
   "source": "import pandas as pd\nimport numpy as np\nimport seaborn as sns\nfrom scipy import stats\nimport statsmodels.api as sm\nimport statsmodels.formula.api as smf\nfrom statsmodels.stats.multicomp import pairwise_tukeyhsd\n\nsns.set_theme(style='whitegrid')\n\ntips = sns.load_dataset('tips')\ntips = tips.assign(tip_pct=tips['tip'] / tips['total_bill'])\ntips.head()\n# Observation: Tip percentages cluster around 15\u201320% across the previewed rows.\n"
  },
  {
   "cell_type": "markdown",
   "metadata": {},
   "source": "## A2 \u2013 Summary Statistics\n\n_Generate descriptive statistics (count, mean, std, quartiles) for `total_bill`, `tip`, and `tip_pct`._"
  },
  {
   "cell_type": "code",
   "metadata": {},
   "execution_count": null,
   "outputs": [],
   "source": "tips[['total_bill', 'tip', 'tip_pct']].describe().round(3)\n# Observation: Tip percentage has a mean near 0.16 with modest dispersion.\n"
  },
  {
   "cell_type": "markdown",
   "metadata": {},
   "source": "## A3 \u2013 Bootstrap CI\n\n_Estimate a 95% bootstrap confidence interval for the mean tip percentage using 5,000 resamples._"
  },
  {
   "cell_type": "code",
   "metadata": {},
   "execution_count": null,
   "outputs": [],
   "source": "rng = np.random.default_rng(42)\nboot_means = []\nfor _ in range(5000):\n    sample = rng.choice(tips['tip_pct'], size=len(tips), replace=True)\n    boot_means.append(sample.mean())\nci_lower, ci_upper = np.percentile(boot_means, [2.5, 97.5])\n(ci_lower, ci_upper)\n# Observation: The bootstrap interval typically brackets the 15\u201318% tipping range.\n"
  },
  {
   "cell_type": "markdown",
   "metadata": {},
   "source": "## A4 \u2013 Dinner vs Lunch T-Test\n\n_Use Welch's t-test to compare mean tip percentage between dinner and lunch meals._"
  },
  {
   "cell_type": "code",
   "metadata": {},
   "execution_count": null,
   "outputs": [],
   "source": "dinner_tip = tips.loc[tips['time'] == 'Dinner', 'tip_pct']\nlunch_tip = tips.loc[tips['time'] == 'Lunch', 'tip_pct']\nt_stat, p_value = stats.ttest_ind(dinner_tip, lunch_tip, equal_var=False)\nprint(f't-statistic: {t_stat:.3f}, p-value: {p_value:.4f}')\n# Observation: The p-value usually falls below 0.05, indicating higher dinner tipping rates.\n"
  },
  {
   "cell_type": "markdown",
   "metadata": {},
   "source": "## A5 \u2013 Smoker Mann\u2013Whitney\n\n_Compare tip percentages for smokers vs non-smokers using the Mann\u2013Whitney U test._"
  },
  {
   "cell_type": "code",
   "metadata": {},
   "execution_count": null,
   "outputs": [],
   "source": "smoker_tip = tips.loc[tips['smoker'] == 'Yes', 'tip_pct']\nnon_smoker_tip = tips.loc[tips['smoker'] == 'No', 'tip_pct']\nstat, p_value = stats.mannwhitneyu(smoker_tip, non_smoker_tip, alternative='two-sided')\nprint(f'U-statistic: {stat:.3f}, p-value: {p_value:.4f}')\n# Observation: The non-parametric test suggests no dramatic difference between smoker groups.\n"
  },
  {
   "cell_type": "markdown",
   "metadata": {},
   "source": "## A6 \u2013 Smoker vs Time Chi-Square\n\n_Construct a contingency table for `smoker` versus `time` and run a chi-square independence test._"
  },
  {
   "cell_type": "code",
   "metadata": {},
   "execution_count": null,
   "outputs": [],
   "source": "contingency = pd.crosstab(tips['smoker'], tips['time'])\nchi2, p_value, dof, expected = stats.chi2_contingency(contingency)\nprint(f'Chi-square: {chi2:.2f}, p-value: {p_value:.4f}, dof: {dof}')\n# Observation: Dependence between smoker status and meal timing is modest but noticeable.\n"
  },
  {
   "cell_type": "markdown",
   "metadata": {},
   "source": "## A7 \u2013 Pearson Correlation\n\n_Compute the Pearson correlation and p-value between `total_bill` and `tip`._"
  },
  {
   "cell_type": "code",
   "metadata": {},
   "execution_count": null,
   "outputs": [],
   "source": "corr_coef, p_value = stats.pearsonr(tips['total_bill'], tips['tip'])\nprint(f'Correlation: {corr_coef:.3f}, p-value: {p_value:.4e}')\n# Observation: Tip size correlates strongly with bill size, and the relationship is highly significant.\n"
  },
  {
   "cell_type": "markdown",
   "metadata": {},
   "source": "## A8 \u2013 OLS Regression\n\n_Fit an OLS regression predicting `tip` from `total_bill` and `size`, then print the model summary (abridged)._"
  },
  {
   "cell_type": "code",
   "metadata": {},
   "execution_count": null,
   "outputs": [],
   "source": "ols_model = smf.ols('tip ~ total_bill + size', data=tips).fit()\nols_model.summary().tables[0]\n# Observation: Both predictors register significant coefficients with respectable model fit.\n"
  },
  {
   "cell_type": "markdown",
   "metadata": {},
   "source": "## A9 \u2013 Regression Coefficients\n\n_Display the estimated coefficients with 95% confidence intervals from the OLS model._"
  },
  {
   "cell_type": "code",
   "metadata": {},
   "execution_count": null,
   "outputs": [],
   "source": "ols_model.conf_int(alpha=0.05).assign(coef=ols_model.params).rename(columns={0: 'lower', 1: 'upper'})\n# Observation: Confidence intervals exclude zero, reinforcing the positive slopes.\n"
  },
  {
   "cell_type": "markdown",
   "metadata": {},
   "source": "## A10 \u2013 Residual Normality\n\n_Apply the Shapiro\u2013Wilk test to the OLS residuals to assess normality._"
  },
  {
   "cell_type": "code",
   "metadata": {},
   "execution_count": null,
   "outputs": [],
   "source": "residuals = ols_model.resid\nshapiro_stat, shapiro_p = stats.shapiro(residuals)\nprint(f'Shapiro-Wilk W: {shapiro_stat:.3f}, p-value: {shapiro_p:.4f}')\n# Observation: Mild deviations from normality appear but rarely trigger strong significance.\n"
  },
  {
   "cell_type": "markdown",
   "metadata": {},
   "source": "## A11 \u2013 Cohen's d by Sex\n\n_Compute Cohen's d effect size for tip percentage differences between male and female patrons._"
  },
  {
   "cell_type": "code",
   "metadata": {},
   "execution_count": null,
   "outputs": [],
   "source": "male = tips.loc[tips['sex'] == 'Male', 'tip_pct']\nfemale = tips.loc[tips['sex'] == 'Female', 'tip_pct']\npooled_std = np.sqrt(((len(male) - 1) * male.var() + (len(female) - 1) * female.var()) / (len(male) + len(female) - 2))\ncohens_d = (male.mean() - female.mean()) / pooled_std\nprint(f\"Cohen's d: {cohens_d:.3f}\")\n# Observation: The gender effect size on tipping is small in magnitude.\n"
  },
  {
   "cell_type": "markdown",
   "metadata": {},
   "source": "## A12 \u2013 Load Penguins Dataset\n\n_Load seaborn's `penguins` dataset, drop rows missing key numeric fields, and preview the head._"
  },
  {
   "cell_type": "code",
   "metadata": {},
   "execution_count": null,
   "outputs": [],
   "source": "penguins = sns.load_dataset('penguins')\npenguins = penguins.dropna(subset=['bill_length_mm', 'bill_depth_mm', 'flipper_length_mm', 'body_mass_g', 'species', 'sex'])\npenguins.head()\n# Observation: Cleaning removes a small number of rows while preserving all three species.\n"
  },
  {
   "cell_type": "markdown",
   "metadata": {},
   "source": "## A13 \u2013 Numeric Summary\n\n_Generate descriptive statistics for the numeric penguin measurements._"
  },
  {
   "cell_type": "code",
   "metadata": {},
   "execution_count": null,
   "outputs": [],
   "source": "penguins[['bill_length_mm', 'bill_depth_mm', 'flipper_length_mm', 'body_mass_g']].describe().round(2)\n# Observation: Flipper lengths center around 201 mm with a 15 mm standard deviation.\n"
  },
  {
   "cell_type": "markdown",
   "metadata": {},
   "source": "## A14 \u2013 Body Mass Confidence Intervals\n\n_Compute mean body mass with 95% confidence intervals for each species using standard error estimates._"
  },
  {
   "cell_type": "code",
   "metadata": {},
   "execution_count": null,
   "outputs": [],
   "source": "body_mass_summary = (\n    penguins.groupby('species')['body_mass_g']\n    .agg(['mean', 'std', 'count'])\n    .assign(sem=lambda df_: df_['std'] / np.sqrt(df_['count']))\n)\nbody_mass_summary = body_mass_summary.assign(\n    ci_lower=lambda df_: df_['mean'] - 1.96 * df_['sem'],\n    ci_upper=lambda df_: df_['mean'] + 1.96 * df_['sem']\n).round(1)\nbody_mass_summary[['mean', 'ci_lower', 'ci_upper']]\n# Observation: Gentoo mass averages well above 5 kg with tight confidence bounds.\n"
  },
  {
   "cell_type": "markdown",
   "metadata": {},
   "source": "## A15 \u2013 Flipper Length ANOVA\n\n_Run a one-way ANOVA to test whether mean flipper length differs across species._"
  },
  {
   "cell_type": "code",
   "metadata": {},
   "execution_count": null,
   "outputs": [],
   "source": "groups = [group['flipper_length_mm'].values for _, group in penguins.groupby('species')]\nstat, p_value = stats.f_oneway(*groups)\nprint(f'F-statistic: {stat:.2f}, p-value: {p_value:.4e}')\n# Observation: The extremely small p-value confirms species-level differences in flipper length.\n"
  },
  {
   "cell_type": "markdown",
   "metadata": {},
   "source": "## A16 \u2013 Tukey HSD\n\n_Perform Tukey's Honest Significant Difference test for flipper length across species._"
  },
  {
   "cell_type": "code",
   "metadata": {},
   "execution_count": null,
   "outputs": [],
   "source": "tukey = pairwise_tukeyhsd(endog=penguins['flipper_length_mm'], groups=penguins['species'])\nprint(tukey)\n# Observation: Every species pair shows significant flipper-length separation.\n"
  },
  {
   "cell_type": "markdown",
   "metadata": {},
   "source": "## A17 \u2013 Spearman Correlations\n\n_Compute the Spearman correlation matrix for the penguin numeric features._"
  },
  {
   "cell_type": "code",
   "metadata": {},
   "execution_count": null,
   "outputs": [],
   "source": "spearman_corr = penguins[['bill_length_mm', 'bill_depth_mm', 'flipper_length_mm', 'body_mass_g']].corr(method='spearman').round(3)\nspearman_corr\n# Observation: Body mass tracks most strongly with flipper length under Spearman's rho.\n"
  },
  {
   "cell_type": "markdown",
   "metadata": {},
   "source": "## A18 \u2013 Regression on Body Mass\n\n_Fit a linear model predicting `body_mass_g` from `flipper_length_mm`, `bill_depth_mm`, and species indicators using statsmodels._"
  },
  {
   "cell_type": "code",
   "metadata": {},
   "execution_count": null,
   "outputs": [],
   "source": "lm_model = smf.ols('body_mass_g ~ flipper_length_mm + bill_depth_mm + C(species)', data=penguins).fit()\nlm_model.summary().tables[1]\n# Observation: Flipper length carries the largest positive coefficient even after controlling for species.\n"
  },
  {
   "cell_type": "markdown",
   "metadata": {},
   "source": "## A19 \u2013 Regression Diagnostics\n\n_Apply the Shapiro\u2013Wilk test to the residuals of the body mass regression model._"
  },
  {
   "cell_type": "code",
   "metadata": {},
   "execution_count": null,
   "outputs": [],
   "source": "lm_residuals = lm_model.resid\nlm_shapiro, lm_shapiro_p = stats.shapiro(lm_residuals)\nprint(f'Shapiro-Wilk W: {lm_shapiro:.3f}, p-value: {lm_shapiro_p:.4f}')\n# Observation: Residuals are reasonably symmetric with mild departures from perfect normality.\n"
  },
  {
   "cell_type": "markdown",
   "metadata": {},
   "source": "## A20 \u2013 Logistic Model Setup\n\n_Prepare a logistic regression dataset by encoding `sex` as 1 for male and 0 for female, creating dummy variables for species._"
  },
  {
   "cell_type": "code",
   "metadata": {},
   "execution_count": null,
   "outputs": [],
   "source": "penguins_logit = penguins.copy()\npenguins_logit['sex_male'] = (penguins_logit['sex'] == 'Male').astype(int)\nX = pd.get_dummies(penguins_logit[['bill_length_mm', 'bill_depth_mm', 'flipper_length_mm', 'species']], drop_first=True)\nX = sm.add_constant(X)\ny = penguins_logit['sex_male']\nX.head()\n# Observation: The design matrix now includes intercept, numeric predictors, and two species dummies.\n"
  },
  {
   "cell_type": "markdown",
   "metadata": {},
   "source": "## A21 \u2013 Fit Logistic Regression\n\n_Fit a statsmodels Logit model predicting male penguins and report pseudo R-squared based on model deviance._"
  },
  {
   "cell_type": "code",
   "metadata": {},
   "execution_count": null,
   "outputs": [],
   "source": "logit_model = sm.Logit(y, X).fit(disp=False)\npseudo_r2 = 1 - logit_model.deviance / logit_model.null_deviance\nprint(f'Pseudo R^2: {pseudo_r2:.3f}')\n# Observation: Bill and flipper measurements alongside species provide strong separation between sexes.\n"
  },
  {
   "cell_type": "markdown",
   "metadata": {},
   "source": "## A22 \u2013 Logistic Confusion Matrix\n\n_Generate predicted probabilities, classify using a 0.5 threshold, and display the confusion matrix with overall accuracy._"
  },
  {
   "cell_type": "code",
   "metadata": {},
   "execution_count": null,
   "outputs": [],
   "source": "pred_probs = logit_model.predict(X)\npred_labels = (pred_probs >= 0.5).astype(int)\nconf_matrix = pd.crosstab(y, pred_labels, rownames=['Actual'], colnames=['Predicted'])\naccuracy = (pred_labels == y).mean()\nprint(conf_matrix)\nprint(f'Accuracy: {accuracy:.3f}')\n# Observation: The classifier achieves high accuracy with few misclassifications at the 0.5 cutoff.\n"
  }
 ],
 "metadata": {
  "kernelspec": {
   "display_name": "leet-ish",
   "language": "python",
   "name": "python3"
  },
  "language_info": {
   "codemirror_mode": {
    "name": "ipython",
    "version": 3
   },
   "file_extension": ".py",
   "mimetype": "text/x-python",
   "name": "python",
   "nbconvert_exporter": "python",
   "pygments_lexer": "ipython3",
   "version": "3.12.11"
  }
 },
 "nbformat": 4,
 "nbformat_minor": 5
}
{
 "cells": [
  {
   "cell_type": "markdown",
   "metadata": {},
   "source": "# Questions"
  },
  {
   "cell_type": "markdown",
   "metadata": {},
   "source": "## Q1 \u2013 Initial Overview\n\nLoad the `titanic` dataset from seaborn, report its shape, and preview the first five rows."
  },
  {
   "cell_type": "code",
   "metadata": {},
   "execution_count": null,
   "outputs": [],
   "source": ""
  },
  {
   "cell_type": "markdown",
   "metadata": {},
   "source": "## Q2 \u2013 Column Types\n\nInspect the current data types and convert passenger descriptors (`sex`, `embarked`, `class`, `who`, `adult_male`, `alone`, `alive`) to categorical dtypes."
  },
  {
   "cell_type": "code",
   "metadata": {},
   "execution_count": null,
   "outputs": [],
   "source": ""
  },
  {
   "cell_type": "markdown",
   "metadata": {},
   "source": "## Q3 \u2013 Missingness Scan\n\nCompute the count and percentage of missing values for every column, sorted by the highest percentage first."
  },
  {
   "cell_type": "code",
   "metadata": {},
   "execution_count": null,
   "outputs": [],
   "source": ""
  },
  {
   "cell_type": "markdown",
   "metadata": {},
   "source": "## Q4 \u2013 Median Age Imputation\n\nCreate an `age_filled` column by imputing missing ages with the median age within each passenger class."
  },
  {
   "cell_type": "code",
   "metadata": {},
   "execution_count": null,
   "outputs": [],
   "source": ""
  },
  {
   "cell_type": "markdown",
   "metadata": {},
   "source": "## Q5 \u2013 Embarkation Cleanup\n\nFill missing `embarked` values with the most frequent embarkation port in the dataset and confirm no nulls remain."
  },
  {
   "cell_type": "code",
   "metadata": {},
   "execution_count": null,
   "outputs": [],
   "source": ""
  },
  {
   "cell_type": "markdown",
   "metadata": {},
   "source": "## Q6 \u2013 Duplicate Detection\n\nCheck for duplicate passenger records using all columns and remove any that exist, keeping the first occurrence."
  },
  {
   "cell_type": "code",
   "metadata": {},
   "execution_count": null,
   "outputs": [],
   "source": ""
  },
  {
   "cell_type": "markdown",
   "metadata": {},
   "source": "## Q7 \u2013 Cabin Availability Flag\n\nCreate a boolean `has_cabin` indicator based on whether the `cabin` field is known, and show the value counts."
  },
  {
   "cell_type": "code",
   "metadata": {},
   "execution_count": null,
   "outputs": [],
   "source": ""
  },
  {
   "cell_type": "markdown",
   "metadata": {},
   "source": "## Q8 \u2013 Deck Extraction\n\nDerive a new categorical `deck` column by taking the first letter of `cabin` and report its distribution."
  },
  {
   "cell_type": "code",
   "metadata": {},
   "execution_count": null,
   "outputs": [],
   "source": ""
  },
  {
   "cell_type": "markdown",
   "metadata": {},
   "source": "## Q9 \u2013 Deck Imputation\n\nFill missing `deck` values with `'Unknown'` and store the result as an ordered categorical feature with `Unknown` last."
  },
  {
   "cell_type": "code",
   "metadata": {},
   "execution_count": null,
   "outputs": [],
   "source": ""
  },
  {
   "cell_type": "markdown",
   "metadata": {},
   "source": "## Q10 \u2013 Fare Log Transform\n\nAdd a `fare_log` column using the natural log of `fare + 1` to dampen skewness, and describe the new feature."
  },
  {
   "cell_type": "code",
   "metadata": {},
   "execution_count": null,
   "outputs": [],
   "source": ""
  },
  {
   "cell_type": "markdown",
   "metadata": {},
   "source": "## Q11 \u2013 Age Bands\n\nBin `age_filled` into categorical bands (`Child`, `Teen`, `Adult`, `Mature`, `Senior`) using appropriate numeric cutoffs."
  },
  {
   "cell_type": "code",
   "metadata": {},
   "execution_count": null,
   "outputs": [],
   "source": ""
  },
  {
   "cell_type": "markdown",
   "metadata": {},
   "source": "## Q12 \u2013 Family Size Feature\n\nCreate `family_size` as `sibsp + parch + 1` and display its distribution."
  },
  {
   "cell_type": "code",
   "metadata": {},
   "execution_count": null,
   "outputs": [],
   "source": ""
  },
  {
   "cell_type": "markdown",
   "metadata": {},
   "source": "## Q13 \u2013 Fare Outliers\n\nCalculate the interquartile range for `fare` and count how many fares exceed the upper fence."
  },
  {
   "cell_type": "code",
   "metadata": {},
   "execution_count": null,
   "outputs": [],
   "source": ""
  },
  {
   "cell_type": "markdown",
   "metadata": {},
   "source": "## Q14 \u2013 Fare Capping\n\nCreate a `fare_capped` column where values above the upper fence are replaced with the 95th percentile fare."
  },
  {
   "cell_type": "code",
   "metadata": {},
   "execution_count": null,
   "outputs": [],
   "source": ""
  },
  {
   "cell_type": "markdown",
   "metadata": {},
   "source": "## Q15 \u2013 Scaled Ages\n\nStandardize `age_filled` to a 0\u20131 range as `age_scaled` and confirm the min/max boundaries."
  },
  {
   "cell_type": "code",
   "metadata": {},
   "execution_count": null,
   "outputs": [],
   "source": ""
  },
  {
   "cell_type": "markdown",
   "metadata": {},
   "source": "## Q16 \u2013 Boolean Encoding\n\nConvert the `adult_male` indicator to an integer `adult_male_int` column."
  },
  {
   "cell_type": "code",
   "metadata": {},
   "execution_count": null,
   "outputs": [],
   "source": ""
  },
  {
   "cell_type": "markdown",
   "metadata": {},
   "source": "## Q17 \u2013 Column Ordering\n\nAssemble a cleaned view `titanic_cleaned` with key demographics first (survived, class, sex, age_filled, fare_capped, deck, family_size)."
  },
  {
   "cell_type": "code",
   "metadata": {},
   "execution_count": null,
   "outputs": [],
   "source": ""
  },
  {
   "cell_type": "markdown",
   "metadata": {},
   "source": "## Q18 \u2013 Class Summary\n\nProduce an aggregated summary by passenger class for `fare_capped`, `age_filled`, and `family_size` (mean, median)."
  },
  {
   "cell_type": "code",
   "metadata": {},
   "execution_count": null,
   "outputs": [],
   "source": ""
  },
  {
   "cell_type": "markdown",
   "metadata": {},
   "source": "## Q19 \u2013 Deck Survival Rate\n\nCompute survival rates by `deck`, sorting from highest to lowest, and include the passenger count per deck."
  },
  {
   "cell_type": "code",
   "metadata": {},
   "execution_count": null,
   "outputs": [],
   "source": ""
  },
  {
   "cell_type": "markdown",
   "metadata": {},
   "source": "## Q20 \u2013 Cleaning Checklist\n\nCompile a Python list called `cleaning_steps` summarizing the major transformations applied so far, then display it."
  },
  {
   "cell_type": "code",
   "metadata": {},
   "execution_count": null,
   "outputs": [],
   "source": ""
  }
 ],
 "metadata": {
  "kernelspec": {
   "display_name": "leet-ish",
   "language": "python",
   "name": "python3"
  },
  "language_info": {
   "codemirror_mode": {
    "name": "ipython",
    "version": 3
   },
   "file_extension": ".py",
   "mimetype": "text/x-python",
   "name": "python",
   "nbconvert_exporter": "python",
   "pygments_lexer": "ipython3",
   "version": "3.12.11"
  }
 },
 "nbformat": 4,
 "nbformat_minor": 5
}
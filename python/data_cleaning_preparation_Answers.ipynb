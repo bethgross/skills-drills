{
 "cells": [
  {
   "cell_type": "markdown",
   "metadata": {},
   "source": "# Answers"
  },
  {
   "cell_type": "markdown",
   "metadata": {},
   "source": "## A1 \u2013 Initial Overview\n\n_Load the `titanic` dataset from seaborn, report its shape, and preview the first five rows._"
  },
  {
   "cell_type": "code",
   "metadata": {},
   "execution_count": null,
   "outputs": [],
   "source": "import pandas as pd\nimport numpy as np\nimport seaborn as sns\n\nsns.set_theme(style='whitegrid')\n\ntitanic = sns.load_dataset('titanic')\nprint(f'Shape: {titanic.shape}')\ntitanic.head()\n# Observation: The dataset contains a few hundred passengers with rich demographic and survival detail.\n"
  },
  {
   "cell_type": "markdown",
   "metadata": {},
   "source": "## A2 \u2013 Column Types\n\n_Inspect the current data types and convert passenger descriptors (`sex`, `embarked`, `class`, `who`, `adult_male`, `alone`, `alive`) to categorical dtypes._"
  },
  {
   "cell_type": "code",
   "metadata": {},
   "execution_count": null,
   "outputs": [],
   "source": "dtype_series = titanic.dtypes.sort_values()\nprint(dtype_series)\n\ncategory_cols = ['sex', 'embarked', 'class', 'who', 'adult_male', 'alone', 'alive']\ntitanic[category_cols] = titanic[category_cols].astype('category')\ntitanic.dtypes.loc[category_cols]\n# Observation: Casting to categorical reduces memory footprint and clarifies the nominal nature of these fields.\n"
  },
  {
   "cell_type": "markdown",
   "metadata": {},
   "source": "## A3 \u2013 Missingness Scan\n\n_Compute the count and percentage of missing values for every column, sorted by the highest percentage first._"
  },
  {
   "cell_type": "code",
   "metadata": {},
   "execution_count": null,
   "outputs": [],
   "source": "missing_summary = (\n    titanic.isna().sum()\n    .to_frame(name='missing_count')\n    .assign(missing_pct=lambda df_: (df_['missing_count'] / len(titanic)) * 100)\n    .sort_values('missing_pct', ascending=False)\n    .round(2)\n)\nmissing_summary\n# Observation: Cabin is the sparsest field, while many core demographic columns are fully populated.\n"
  },
  {
   "cell_type": "markdown",
   "metadata": {},
   "source": "## A4 \u2013 Median Age Imputation\n\n_Create an `age_filled` column by imputing missing ages with the median age within each passenger class._"
  },
  {
   "cell_type": "code",
   "metadata": {},
   "execution_count": null,
   "outputs": [],
   "source": "titanic['age_filled'] = titanic.groupby('class')['age'].transform(lambda s: s.fillna(s.median()))\ntitanic[['age', 'age_filled']].head()\n# Observation: Class-based medians preserve broad age differences between passenger tiers.\n"
  },
  {
   "cell_type": "markdown",
   "metadata": {},
   "source": "## A5 \u2013 Embarkation Cleanup\n\n_Fill missing `embarked` values with the most frequent embarkation port in the dataset and confirm no nulls remain._"
  },
  {
   "cell_type": "code",
   "metadata": {},
   "execution_count": null,
   "outputs": [],
   "source": "embarked_mode = titanic['embarked'].mode(dropna=True)[0]\ntitanic['embarked'] = titanic['embarked'].fillna(embarked_mode)\ntitanic['embarked'].isna().sum()\n# Observation: The mode is typically 'S', so remaining blanks default to Southampton.\n"
  },
  {
   "cell_type": "markdown",
   "metadata": {},
   "source": "## A6 \u2013 Duplicate Detection\n\n_Check for duplicate passenger records using all columns and remove any that exist, keeping the first occurrence._"
  },
  {
   "cell_type": "code",
   "metadata": {},
   "execution_count": null,
   "outputs": [],
   "source": "dup_mask = titanic.duplicated()\nprint(f'Duplicate rows: {dup_mask.sum()}')\n\ntitanic = titanic.loc[~dup_mask].reset_index(drop=True)\nprint(f'Post-drop shape: {titanic.shape}')\n# Observation: The seaborn titanic sample ships without duplicates, so shape remains unchanged.\n"
  },
  {
   "cell_type": "markdown",
   "metadata": {},
   "source": "## A7 \u2013 Cabin Availability Flag\n\n_Create a boolean `has_cabin` indicator based on whether the `cabin` field is known, and show the value counts._"
  },
  {
   "cell_type": "code",
   "metadata": {},
   "execution_count": null,
   "outputs": [],
   "source": "titanic['has_cabin'] = titanic['cabin'].notna()\ntitanic['has_cabin'].value_counts()\n# Observation: Only a small minority of passengers have recorded cabin information.\n"
  },
  {
   "cell_type": "markdown",
   "metadata": {},
   "source": "## A8 \u2013 Deck Extraction\n\n_Derive a new categorical `deck` column by taking the first letter of `cabin` and report its distribution._"
  },
  {
   "cell_type": "code",
   "metadata": {},
   "execution_count": null,
   "outputs": [],
   "source": "titanic['deck'] = titanic['cabin'].str[0]\ntitanic['deck'] = titanic['deck'].astype('category')\ntitanic['deck'].value_counts(dropna=False)\n# Observation: Deck C dominates among known cabins, while many entries remain missing.\n"
  },
  {
   "cell_type": "markdown",
   "metadata": {},
   "source": "## A9 \u2013 Deck Imputation\n\n_Fill missing `deck` values with `'Unknown'` and store the result as an ordered categorical feature with `Unknown` last._"
  },
  {
   "cell_type": "code",
   "metadata": {},
   "execution_count": null,
   "outputs": [],
   "source": "deck_categories = sorted([c for c in titanic['deck'].dropna().unique()]) + ['Unknown']\ntitanic['deck'] = titanic['deck'].cat.add_categories(['Unknown']).fillna('Unknown')\ntitanic['deck'] = titanic['deck'].cat.reorder_categories(deck_categories, ordered=True)\ntitanic['deck'].value_counts()\n# Observation: Treating Unknown as an explicit level makes grouping logic downstream more transparent.\n"
  },
  {
   "cell_type": "markdown",
   "metadata": {},
   "source": "## A10 \u2013 Fare Log Transform\n\n_Add a `fare_log` column using the natural log of `fare + 1` to dampen skewness, and describe the new feature._"
  },
  {
   "cell_type": "code",
   "metadata": {},
   "execution_count": null,
   "outputs": [],
   "source": "titanic['fare_log'] = np.log1p(titanic['fare'])\ntitanic['fare_log'].describe().round(2)\n# Observation: The log transform compresses extreme fares, yielding a more symmetric distribution.\n"
  },
  {
   "cell_type": "markdown",
   "metadata": {},
   "source": "## A11 \u2013 Age Bands\n\n_Bin `age_filled` into categorical bands (`Child`, `Teen`, `Adult`, `Mature`, `Senior`) using appropriate numeric cutoffs._"
  },
  {
   "cell_type": "code",
   "metadata": {},
   "execution_count": null,
   "outputs": [],
   "source": "age_bins = [0, 12, 18, 40, 60, titanic['age_filled'].max()]\nage_labels = ['Child', 'Teen', 'Adult', 'Mature', 'Senior']\ntitanic['age_band'] = pd.cut(titanic['age_filled'], bins=age_bins, labels=age_labels, right=False)\ntitanic['age_band'].value_counts()\n# Observation: Adults dominate the manifest, with far fewer children and seniors aboard.\n"
  },
  {
   "cell_type": "markdown",
   "metadata": {},
   "source": "## A12 \u2013 Family Size Feature\n\n_Create `family_size` as `sibsp + parch + 1` and display its distribution._"
  },
  {
   "cell_type": "code",
   "metadata": {},
   "execution_count": null,
   "outputs": [],
   "source": "titanic['family_size'] = titanic['sibsp'] + titanic['parch'] + 1\ntitanic['family_size'].value_counts().sort_index()\n# Observation: Most passengers traveled alone or with one companion, while large families were rare.\n"
  },
  {
   "cell_type": "markdown",
   "metadata": {},
   "source": "## A13 \u2013 Fare Outliers\n\n_Calculate the interquartile range for `fare` and count how many fares exceed the upper fence._"
  },
  {
   "cell_type": "code",
   "metadata": {},
   "execution_count": null,
   "outputs": [],
   "source": "q1, q3 = titanic['fare'].quantile([0.25, 0.75])\niqr = q3 - q1\nupper_fence = q3 + 1.5 * iqr\noutlier_count = (titanic['fare'] > upper_fence).sum()\nprint(f'IQR: {iqr:.2f}, Upper fence: {upper_fence:.2f}, Outliers: {outlier_count}')\n# Observation: A handful of luxury fares sit well above the Tukey upper fence.\n"
  },
  {
   "cell_type": "markdown",
   "metadata": {},
   "source": "## A14 \u2013 Fare Capping\n\n_Create a `fare_capped` column where values above the upper fence are replaced with the 95th percentile fare._"
  },
  {
   "cell_type": "code",
   "metadata": {},
   "execution_count": null,
   "outputs": [],
   "source": "cap_value = titanic['fare'].quantile(0.95)\ntitanic['fare_capped'] = titanic['fare'].clip(upper=cap_value)\ntitanic[['fare', 'fare_capped']].describe().round(2)\n# Observation: Capping trims extreme fares while leaving the bulk of the distribution untouched.\n"
  },
  {
   "cell_type": "markdown",
   "metadata": {},
   "source": "## A15 \u2013 Scaled Ages\n\n_Standardize `age_filled` to a 0\u20131 range as `age_scaled` and confirm the min/max boundaries._"
  },
  {
   "cell_type": "code",
   "metadata": {},
   "execution_count": null,
   "outputs": [],
   "source": "age_min = titanic['age_filled'].min()\nage_max = titanic['age_filled'].max()\ntitanic['age_scaled'] = (titanic['age_filled'] - age_min) / (age_max - age_min)\ntitanic['age_scaled'].agg(['min', 'max']).round(3)\n# Observation: Min-max scaling maps the youngest passenger to 0 and the oldest to 1 for downstream comparability.\n"
  },
  {
   "cell_type": "markdown",
   "metadata": {},
   "source": "## A16 \u2013 Boolean Encoding\n\n_Convert the `adult_male` indicator to an integer `adult_male_int` column._"
  },
  {
   "cell_type": "code",
   "metadata": {},
   "execution_count": null,
   "outputs": [],
   "source": "titanic['adult_male_int'] = titanic['adult_male'].astype('int')\ntitanic[['adult_male', 'adult_male_int']].head()\n# Observation: Boolean casts provide clean 0/1 columns for modeling pipelines.\n"
  },
  {
   "cell_type": "markdown",
   "metadata": {},
   "source": "## A17 \u2013 Column Ordering\n\n_Assemble a cleaned view `titanic_cleaned` with key demographics first (survived, class, sex, age_filled, fare_capped, deck, family_size)._"
  },
  {
   "cell_type": "code",
   "metadata": {},
   "execution_count": null,
   "outputs": [],
   "source": "ordered_cols = ['survived', 'class', 'sex', 'age_filled', 'fare_capped', 'deck', 'family_size']\nsecondary_cols = [c for c in titanic.columns if c not in ordered_cols]\ntitanic_cleaned = titanic[ordered_cols + secondary_cols]\ntitanic_cleaned.head()\n# Observation: Reordering surfaces the most relevant modeling columns at a glance.\n"
  },
  {
   "cell_type": "markdown",
   "metadata": {},
   "source": "## A18 \u2013 Class Summary\n\n_Produce an aggregated summary by passenger class for `fare_capped`, `age_filled`, and `family_size` (mean, median)._"
  },
  {
   "cell_type": "code",
   "metadata": {},
   "execution_count": null,
   "outputs": [],
   "source": "class_summary = titanic_cleaned.groupby('class').agg({\n    'fare_capped': ['mean', 'median'],\n    'age_filled': ['mean', 'median'],\n    'family_size': ['mean', 'median']\n}).round(2)\nclass_summary\n# Observation: First-class travelers pay far higher fares and skew slightly older on average.\n"
  },
  {
   "cell_type": "markdown",
   "metadata": {},
   "source": "## A19 \u2013 Deck Survival Rate\n\n_Compute survival rates by `deck`, sorting from highest to lowest, and include the passenger count per deck._"
  },
  {
   "cell_type": "code",
   "metadata": {},
   "execution_count": null,
   "outputs": [],
   "source": "deck_survival = (\n    titanic_cleaned.groupby('deck')\n    .agg(passengers=('survived', 'size'), survival_rate=('survived', 'mean'))\n    .sort_values('survival_rate', ascending=False)\n    .round({'survival_rate': 3})\n)\ndeck_survival\n# Observation: Upper decks report higher survival, though sample sizes vary markedly.\n"
  },
  {
   "cell_type": "markdown",
   "metadata": {},
   "source": "## A20 \u2013 Cleaning Checklist\n\n_Compile a Python list called `cleaning_steps` summarizing the major transformations applied so far, then display it._"
  },
  {
   "cell_type": "code",
   "metadata": {},
   "execution_count": null,
   "outputs": [],
   "source": "cleaning_steps = [\n    'Cast categorical descriptors to category dtype',\n    'Imputed age by passenger class median',\n    'Filled missing embarkation ports with global mode',\n    'Flagged cabin availability and standardized deck levels',\n    'Log-transformed and capped fare to reduce skew',\n    'Engineered family size, age bands, and scaled ages'\n]\ncleaning_steps\n# Observation: Documenting steps clarifies the reproducible data-prep pipeline for collaborators.\n"
  }
 ],
 "metadata": {
  "kernelspec": {
   "display_name": "leet-ish",
   "language": "python",
   "name": "python3"
  },
  "language_info": {
   "codemirror_mode": {
    "name": "ipython",
    "version": 3
   },
   "file_extension": ".py",
   "mimetype": "text/x-python",
   "name": "python",
   "nbconvert_exporter": "python",
   "pygments_lexer": "ipython3",
   "version": "3.12.11"
  }
 },
 "nbformat": 4,
 "nbformat_minor": 5
}
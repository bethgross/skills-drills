{
 "cells": [
  {
   "cell_type": "markdown",
   "metadata": {},
   "source": "# Questions"
  },
  {
   "cell_type": "markdown",
   "metadata": {},
   "source": "## Q1 \u2013 Goal: Tuple Basics.\n\nCreate a tuple named `colors` containing `'red'`, `'green'`, `'blue'`, `'yellow'`. Print the first and last elements."
  },
  {
   "cell_type": "code",
   "metadata": {},
   "execution_count": null,
   "outputs": [],
   "source": ""
  },
  {
   "cell_type": "markdown",
   "metadata": {},
   "source": "## Q2 \u2013 Goal: Tuple Unpacking.\n\nGiven the tuple `person = ('Ada', 'Lovelace', 36, 'London')`, unpack it into `first_name`, `last_name`, `age`, and `city`, then print `Ada Lovelace (36) - London`."
  },
  {
   "cell_type": "code",
   "metadata": {},
   "execution_count": null,
   "outputs": [],
   "source": ""
  },
  {
   "cell_type": "markdown",
   "metadata": {},
   "source": "## Q3 \u2013 Goal: Build a Dictionary from Two Lists.\n\nUse the lists `keys = ['id', 'name', 'email']` and `values = [101, 'Sasha', 'sasha@example.com']` to create a dictionary named `user` via `zip`, then print it."
  },
  {
   "cell_type": "code",
   "metadata": {},
   "execution_count": null,
   "outputs": [],
   "source": ""
  },
  {
   "cell_type": "markdown",
   "metadata": {},
   "source": "## Q4 \u2013 Goal: Merge Configuration Dictionaries.\n\nStart from `defaults = {'theme': 'dark', 'language': 'en'}` and `overrides = {'language': 'es', 'autosave': True}`. Create a new dictionary combining them so overrides take precedence."
  },
  {
   "cell_type": "code",
   "metadata": {},
   "execution_count": null,
   "outputs": [],
   "source": ""
  },
  {
   "cell_type": "markdown",
   "metadata": {},
   "source": "## Q5 \u2013 Goal: Filter Words with a Dictionary Comprehension.\n\nGiven `words = ['python', 'data', 'science', 'loop', 'tuple']`, build a dictionary mapping each word longer than four letters to its length."
  },
  {
   "cell_type": "code",
   "metadata": {},
   "execution_count": null,
   "outputs": [],
   "source": ""
  },
  {
   "cell_type": "markdown",
   "metadata": {},
   "source": "## Q6 \u2013 Goal: Count Character Frequency.\n\nUsing a `for` loop, count the frequency of each character in the string `message = 'Never odd or even'` ignoring spaces and case, storing the results in a dictionary named `counts`."
  },
  {
   "cell_type": "code",
   "metadata": {},
   "execution_count": null,
   "outputs": [],
   "source": ""
  },
  {
   "cell_type": "markdown",
   "metadata": {},
   "source": "## Q7 \u2013 Goal: Compare Skill Sets.\n\nWith `backend = {'python', 'java', 'go'}` and `frontend = {'javascript', 'typescript', 'python'}`, compute the intersection and the difference for languages that are backend-only. Print both sets."
  },
  {
   "cell_type": "code",
   "metadata": {},
   "execution_count": null,
   "outputs": [],
   "source": ""
  },
  {
   "cell_type": "markdown",
   "metadata": {},
   "source": "## Q8 \u2013 Goal: Square Even Numbers.\n\nUsing a list comprehension, generate a list of squares for even numbers from 0 through 20."
  },
  {
   "cell_type": "code",
   "metadata": {},
   "execution_count": null,
   "outputs": [],
   "source": ""
  },
  {
   "cell_type": "markdown",
   "metadata": {},
   "source": "## Q9 \u2013 Goal: Flatten a Nested List.\n\nFlatten the nested list `matrix = [[1, 2, 3], [4, 5], [6]]` into a single list using a list comprehension."
  },
  {
   "cell_type": "code",
   "metadata": {},
   "execution_count": null,
   "outputs": [],
   "source": ""
  },
  {
   "cell_type": "markdown",
   "metadata": {},
   "source": "## Q10 \u2013 Goal: Label Numbers.\n\nGiven `numbers = list(range(1, 11))`, use a list comprehension to produce `labels` where each element is `'even'` or `'odd'`."
  },
  {
   "cell_type": "code",
   "metadata": {},
   "execution_count": null,
   "outputs": [],
   "source": ""
  },
  {
   "cell_type": "markdown",
   "metadata": {},
   "source": "## Q11 \u2013 Goal: Sort Records with a Lambda.\n\nSort `people = [{'name': 'Alex', 'age': 29}, {'name': 'Jo', 'age': 34}, {'name': 'Sam', 'age': 25}]` by age in descending order using `sorted` with a lambda key."
  },
  {
   "cell_type": "code",
   "metadata": {},
   "execution_count": null,
   "outputs": [],
   "source": ""
  },
  {
   "cell_type": "markdown",
   "metadata": {},
   "source": "## Q12 \u2013 Goal: Convert Temperatures with map.\n\nUse `map` with a lambda to convert the Celsius temperatures `temps_c = [0, 12.5, 30]` to Fahrenheit, rounding to one decimal place."
  },
  {
   "cell_type": "code",
   "metadata": {},
   "execution_count": null,
   "outputs": [],
   "source": ""
  },
  {
   "cell_type": "markdown",
   "metadata": {},
   "source": "## Q13 \u2013 Goal: Build Running Totals.\n\nUsing a `for` loop, build `running_totals` that stores cumulative sums of `values = [3, 7, 2, 5]`."
  },
  {
   "cell_type": "code",
   "metadata": {},
   "execution_count": null,
   "outputs": [],
   "source": ""
  },
  {
   "cell_type": "markdown",
   "metadata": {},
   "source": "## Q14 \u2013 Goal: Number Items with enumerate.\n\nUse `enumerate` to create a list of strings in the format `'1: apple'` from `fruits = ['apple', 'banana', 'cherry']`, where numbering starts at 1."
  },
  {
   "cell_type": "code",
   "metadata": {},
   "execution_count": null,
   "outputs": [],
   "source": ""
  },
  {
   "cell_type": "markdown",
   "metadata": {},
   "source": "## Q15 \u2013 Goal: Generate Multiples with a while Loop.\n\nUse a `while` loop to build a list of multiples of 3 that are less than 40."
  },
  {
   "cell_type": "code",
   "metadata": {},
   "execution_count": null,
   "outputs": [],
   "source": ""
  },
  {
   "cell_type": "markdown",
   "metadata": {},
   "source": "## Q16 \u2013 Goal: Build a Multiplication Table.\n\nUse nested `for` loops to build a list of tuples representing a 3 x 3 multiplication table `(row, col, product)` for rows 1-3 and columns 1-3."
  },
  {
   "cell_type": "code",
   "metadata": {},
   "execution_count": null,
   "outputs": [],
   "source": ""
  },
  {
   "cell_type": "markdown",
   "metadata": {},
   "source": "## Q17 \u2013 Goal: Implement factorial iteratively.\n\nWrite a function `factorial(n)` that returns the factorial of a non-negative integer using iteration and raises `ValueError` for negative inputs."
  },
  {
   "cell_type": "code",
   "metadata": {},
   "execution_count": null,
   "outputs": [],
   "source": ""
  },
  {
   "cell_type": "markdown",
   "metadata": {},
   "source": "## Q18 \u2013 Goal: Use Default Arguments.\n\nWrite a function `greet(name, greeting='Hello')` that returns a formatted greeting and demonstrate it with both the default and a custom greeting."
  },
  {
   "cell_type": "code",
   "metadata": {},
   "execution_count": null,
   "outputs": [],
   "source": ""
  },
  {
   "cell_type": "markdown",
   "metadata": {},
   "source": "## Q19 \u2013 Goal: Work with *args and **kwargs.\n\nCreate a function `build_profile(username, *hobbies, **settings)` that returns a dictionary containing the username, a list of hobbies, and any settings provided."
  },
  {
   "cell_type": "code",
   "metadata": {},
   "execution_count": null,
   "outputs": [],
   "source": ""
  },
  {
   "cell_type": "markdown",
   "metadata": {},
   "source": "## Q20 \u2013 Goal: Model a Rectangle Class.\n\nDefine a `Rectangle` class with attributes `width` and `height`, an `area` method, and a `scale(factor)` method that returns a new `Rectangle` with scaled dimensions. Demonstrate the class."
  },
  {
   "cell_type": "code",
   "metadata": {},
   "execution_count": null,
   "outputs": [],
   "source": ""
  },
  {
   "cell_type": "markdown",
   "metadata": {},
   "source": "## Q21 \u2013 Goal: Inherit from Rectangle.\n\nCreate a `Square` subclass of `Rectangle` that enforces equal sides and inherits the `area` method. Instantiate a square of side 5 and compute its area."
  },
  {
   "cell_type": "code",
   "metadata": {},
   "execution_count": null,
   "outputs": [],
   "source": ""
  },
  {
   "cell_type": "markdown",
   "metadata": {},
   "source": "## Q22 \u2013 Goal: Use the array Module.\n\nUsing the `array` module, create an integer array from the list `[2, 4, 6]`, append `8`, and convert it to a Python list."
  },
  {
   "cell_type": "code",
   "metadata": {},
   "execution_count": null,
   "outputs": [],
   "source": ""
  },
  {
   "cell_type": "markdown",
   "metadata": {},
   "source": "## Q23 \u2013 Goal: Compute NumPy Column Means.\n\nCreate a 2x3 NumPy array from `[[1, 2, 3], [4, 5, 6]]` and compute the column means."
  },
  {
   "cell_type": "code",
   "metadata": {},
   "execution_count": null,
   "outputs": [],
   "source": ""
  },
  {
   "cell_type": "markdown",
   "metadata": {},
   "source": "## Q24 \u2013 Goal: Build a pandas DataFrame.\n\nConstruct a pandas DataFrame named `inventory` from the dictionary `{'item': ['pen', 'paper', 'stapler'], 'quantity': [20, 35, 12], 'price': [1.5, 0.5, 6.0]}` and add a `value` column equal to `quantity * price`."
  },
  {
   "cell_type": "code",
   "metadata": {},
   "execution_count": null,
   "outputs": [],
   "source": ""
  },
  {
   "cell_type": "markdown",
   "metadata": {},
   "source": "## Q25 \u2013 Goal: Filter DataFrame Rows.\n\nUsing the `inventory` structure, filter rows where `quantity` is at least 15 and return only the `item` and `value` columns."
  },
  {
   "cell_type": "code",
   "metadata": {},
   "execution_count": null,
   "outputs": [],
   "source": ""
  },
  {
   "cell_type": "markdown",
   "metadata": {},
   "source": "## Q26 \u2013 Goal: Summarize Orders by Customer.\n\nCreate a DataFrame `orders` with columns `customer`, `category`, `total` from the data `[('Ana', 'books', 45.0), ('Ana', 'games', 65.0), ('Ben', 'books', 30.0), ('Ana', 'books', 20.0), ('Ben', 'games', 55.0)]` and compute the total spend per customer."
  },
  {
   "cell_type": "code",
   "metadata": {},
   "execution_count": null,
   "outputs": [],
   "source": ""
  }
 ],
 "metadata": {
  "kernelspec": {
   "display_name": "leet-ish",
   "language": "python",
   "name": "python3"
  },
  "language_info": {
   "codemirror_mode": {
    "name": "ipython",
    "version": 3
   },
   "file_extension": ".py",
   "mimetype": "text/x-python",
   "name": "python",
   "nbconvert_exporter": "python",
   "pygments_lexer": "ipython3",
   "version": "3.12.11"
  }
 },
 "nbformat": 4,
 "nbformat_minor": 5
}
{
 "cells": [
  {
   "cell_type": "markdown",
   "metadata": {},
   "source": [
    "# Questions"
   ]
  },
  {
   "cell_type": "markdown",
   "metadata": {},
   "source": [
    "## Q1 – Goal: Tuple Basics.\n",
    "\n",
    "Create a tuple named `colors` containing `'red'`, `'green'`, `'blue'`, `'yellow'`. Print the first and last elements."
   ]
  },
  {
   "cell_type": "code",
   "execution_count": null,
   "id": "3306e7a8",
   "metadata": {},
   "outputs": [],
   "source": []
  },
  {
   "cell_type": "markdown",
   "id": "1ada3351",
   "metadata": {},
   "source": [
    "## Q2 – Goal: Tuple Unpacking.\n",
    "\n",
    "Given the tuple `person = ('Ada', 'Lovelace', 36, 'London')`, unpack it into `first_name`, `last_name`, `age`, and `city`, then print `Ada Lovelace (36) - London`."
   ]
  },
  {
   "cell_type": "code",
   "execution_count": null,
   "id": "e6e24ffa",
   "metadata": {},
   "outputs": [],
   "source": []
  },
  {
   "cell_type": "markdown",
   "id": "2c098640",
   "metadata": {},
   "source": [
    "## Q3 – Goal: Build a Dictionary from Two Lists.\n",
    "\n",
    "Use the lists `keys = ['id', 'name', 'email']` and `values = [101, 'Sasha', 'sasha@example.com']` to create a dictionary named `user` via `zip`, then print it."
   ]
  },
  {
   "cell_type": "code",
   "execution_count": null,
   "id": "52fcdea9",
   "metadata": {},
   "outputs": [],
   "source": []
  },
  {
   "cell_type": "markdown",
   "id": "3f748f14",
   "metadata": {},
   "source": [
    "## Q4 – Goal: Merge Configuration Dictionaries.\n",
    "\n",
    "Start from `defaults = {'theme': 'dark', 'language': 'en'}` and `overrides = {'language': 'es', 'autosave': True}`. Create a new dictionary combining them so overrides take precedence."
   ]
  },
  {
   "cell_type": "code",
   "execution_count": null,
   "id": "d3c47abd",
   "metadata": {},
   "outputs": [],
   "source": []
  },
  {
   "cell_type": "markdown",
   "id": "74f7ff60",
   "metadata": {},
   "source": [
    "## Q5 – Goal: Filter Words with a Dictionary Comprehension.\n",
    "\n",
    "Given `words = ['python', 'data', 'science', 'loop', 'tuple']`, build a dictionary mapping each word longer than four letters to its length."
   ]
  },
  {
   "cell_type": "code",
   "execution_count": null,
   "id": "cd3fec32",
   "metadata": {},
   "outputs": [],
   "source": []
  },
  {
   "cell_type": "markdown",
   "id": "f1b2b376",
   "metadata": {},
   "source": [
    "## Q6 – Goal: Count Character Frequency.\n",
    "\n",
    "Using a `for` loop, count the frequency of each character in the string `message = 'Never odd or even'` ignoring spaces and case, storing the results in a dictionary named `counts`."
   ]
  },
  {
   "cell_type": "code",
   "execution_count": null,
   "id": "f2a6102b",
   "metadata": {},
   "outputs": [],
   "source": []
  },
  {
   "cell_type": "markdown",
   "id": "88beabcd",
   "metadata": {},
   "source": [
    "## Q7 – Goal: Compare Skill Sets.\n",
    "\n",
    "With `backend = {'python', 'java', 'go'}` and `frontend = {'javascript', 'typescript', 'python'}`, compute the intersection and the difference for languages that are backend-only. Print both sets."
   ]
  },
  {
   "cell_type": "code",
   "execution_count": null,
   "id": "a3aa346e",
   "metadata": {},
   "outputs": [],
   "source": []
  },
  {
   "cell_type": "markdown",
   "id": "65e81dc8",
   "metadata": {},
   "source": [
    "## Q8 – Goal: Square Even Numbers.\n",
    "\n",
    "Using a list comprehension, generate a list of squares for even numbers from 0 through 20."
   ]
  },
  {
   "cell_type": "code",
   "execution_count": null,
   "id": "24d2c133",
   "metadata": {},
   "outputs": [],
   "source": []
  },
  {
   "cell_type": "markdown",
   "id": "80033f3e",
   "metadata": {},
   "source": [
    "## Q9 – Goal: Flatten a Nested List.\n",
    "\n",
    "Flatten the nested list `matrix = [[1, 2, 3], [4, 5], [6]]` into a single list using a list comprehension."
   ]
  },
  {
   "cell_type": "code",
   "execution_count": null,
   "id": "5c6b1531",
   "metadata": {},
   "outputs": [],
   "source": []
  },
  {
   "cell_type": "markdown",
   "id": "2089b680",
   "metadata": {},
   "source": [
    "## Q10 – Goal: Label Numbers.\n",
    "\n",
    "Given `numbers = list(range(1, 11))`, use a list comprehension to produce `labels` where each element is `'even'` or `'odd'`."
   ]
  },
  {
   "cell_type": "code",
   "execution_count": null,
   "id": "578b151a",
   "metadata": {},
   "outputs": [],
   "source": []
  },
  {
   "cell_type": "markdown",
   "id": "68e6f8e8",
   "metadata": {},
   "source": [
    "## Q11 – Goal: Sort Records with a Lambda.\n",
    "\n",
    "Sort `people = [{'name': 'Alex', 'age': 29}, {'name': 'Jo', 'age': 34}, {'name': 'Sam', 'age': 25}]` by age in descending order using `sorted` with a lambda key."
   ]
  },
  {
   "cell_type": "code",
   "execution_count": null,
   "id": "d31c90a0",
   "metadata": {},
   "outputs": [],
   "source": []
  },
  {
   "cell_type": "markdown",
   "id": "c7dd42c1",
   "metadata": {},
   "source": [
    "## Q12 – Goal: Convert Temperatures with map.\n",
    "\n",
    "Use `map` with a lambda to convert the Celsius temperatures `temps_c = [0, 12.5, 30]` to Fahrenheit, rounding to one decimal place."
   ]
  },
  {
   "cell_type": "code",
   "execution_count": null,
   "id": "e509bf02",
   "metadata": {},
   "outputs": [],
   "source": []
  },
  {
   "cell_type": "markdown",
   "id": "61a2c506",
   "metadata": {},
   "source": [
    "## Q13 – Goal: Build Running Totals.\n",
    "\n",
    "Using a `for` loop, build `running_totals` that stores cumulative sums of `values = [3, 7, 2, 5]`."
   ]
  },
  {
   "cell_type": "code",
   "execution_count": null,
   "id": "27066528",
   "metadata": {},
   "outputs": [],
   "source": []
  },
  {
   "cell_type": "markdown",
   "id": "1fb8e4da",
   "metadata": {},
   "source": [
    "## Q14 – Goal: Number Items with enumerate.\n",
    "\n",
    "Use `enumerate` to create a list of strings in the format `'1: apple'` from `fruits = ['apple', 'banana', 'cherry']`, where numbering starts at 1."
   ]
  },
  {
   "cell_type": "code",
   "execution_count": null,
   "id": "bc0c30f6",
   "metadata": {},
   "outputs": [],
   "source": []
  },
  {
   "cell_type": "markdown",
   "id": "abf6ebc1",
   "metadata": {},
   "source": [
    "## Q15 – Goal: Generate Multiples with a while Loop.\n",
    "\n",
    "Use a `while` loop to build a list of multiples of 3 that are less than 40."
   ]
  },
  {
   "cell_type": "code",
   "execution_count": null,
   "id": "8f2f71c1",
   "metadata": {},
   "outputs": [],
   "source": []
  },
  {
   "cell_type": "markdown",
   "id": "f7681e9c",
   "metadata": {},
   "source": [
    "## Q16 – Goal: Build a Multiplication Table.\n",
    "\n",
    "Use nested `for` loops to build a list of tuples representing a 3 x 3 multiplication table `(row, col, product)` for rows 1-3 and columns 1-3."
   ]
  },
  {
   "cell_type": "code",
   "execution_count": null,
   "id": "2655483f",
   "metadata": {},
   "outputs": [],
   "source": []
  },
  {
   "cell_type": "markdown",
   "metadata": {},
   "source": [
    "## Q17 – Goal: Implement factorial iteratively.\n",
    "\n",
    "Write a function `factorial(n)` that returns the factorial of a non-negative integer using iteration and raises `ValueError` for negative inputs."
   ]
  },
  {
   "cell_type": "code",
   "execution_count": null,
   "metadata": {},
   "outputs": [],
   "source": []
  },
  {
   "cell_type": "markdown",
   "metadata": {},
   "source": [
    "## Q18 – Goal: Use Default Arguments.\n",
    "\n",
    "Write a function `greet(name, greeting='Hello')` that returns a formatted greeting and demonstrate it with both the default and a custom greeting."
   ]
  },
  {
   "cell_type": "code",
   "execution_count": null,
   "metadata": {},
   "outputs": [],
   "source": []
  },
  {
   "cell_type": "markdown",
   "metadata": {},
   "source": [
    "## Q19 – Goal: Work with *args and **kwargs.\n",
    "\n",
    "Create a function `build_profile(username, *hobbies, **settings)` that returns a dictionary containing the username, a list of hobbies, and any settings provided."
   ]
  },
  {
   "cell_type": "code",
   "execution_count": null,
   "metadata": {},
   "outputs": [],
   "source": []
  },
  {
   "cell_type": "markdown",
   "metadata": {},
   "source": [
    "## Q20 – Goal: Model a Rectangle Class.\n",
    "\n",
    "Define a `Rectangle` class with attributes `width` and `height`, an `area` method, and a `scale(factor)` method that returns a new `Rectangle` with scaled dimensions. Demonstrate the class."
   ]
  },
  {
   "cell_type": "code",
   "execution_count": null,
   "metadata": {},
   "outputs": [],
   "source": []
  },
  {
   "cell_type": "markdown",
   "metadata": {},
   "source": [
    "## Q21 – Goal: Inherit from Rectangle.\n",
    "\n",
    "Create a `Square` subclass of `Rectangle` that enforces equal sides and inherits the `area` method. Instantiate a square of side 5 and compute its area."
   ]
  },
  {
   "cell_type": "code",
   "execution_count": null,
   "metadata": {},
   "outputs": [],
   "source": []
  },
  {
   "cell_type": "markdown",
   "metadata": {},
   "source": [
    "## Q22 – Goal: Use the array Module.\n",
    "\n",
    "Using the `array` module, create an integer array from the list `[2, 4, 6]`, append `8`, and convert it to a Python list."
   ]
  },
  {
   "cell_type": "code",
   "execution_count": null,
   "metadata": {},
   "outputs": [],
   "source": []
  },
  {
   "cell_type": "markdown",
   "metadata": {},
   "source": [
    "## Q23 – Goal: Compute NumPy Column Means.\n",
    "\n",
    "Create a 2x3 NumPy array from `[[1, 2, 3], [4, 5, 6]]` and compute the column means."
   ]
  },
  {
   "cell_type": "code",
   "execution_count": null,
   "metadata": {},
   "outputs": [],
   "source": []
  },
  {
   "cell_type": "markdown",
   "metadata": {},
   "source": [
    "## Q24 – Goal: Build a pandas DataFrame.\n",
    "\n",
    "Construct a pandas DataFrame named `inventory` from the dictionary `{'item': ['pen', 'paper', 'stapler'], 'quantity': [20, 35, 12], 'price': [1.5, 0.5, 6.0]}` and add a `value` column equal to `quantity * price`."
   ]
  },
  {
   "cell_type": "code",
   "execution_count": null,
   "metadata": {},
   "outputs": [],
   "source": []
  },
  {
   "cell_type": "markdown",
   "metadata": {},
   "source": [
    "## Q25 – Goal: Filter DataFrame Rows.\n",
    "\n",
    "Using the `inventory` structure, filter rows where `quantity` is at least 15 and return only the `item` and `value` columns."
   ]
  },
  {
   "cell_type": "code",
   "execution_count": null,
   "metadata": {},
   "outputs": [],
   "source": []
  },
  {
   "cell_type": "markdown",
   "metadata": {},
   "source": [
    "## Q26 – Goal: Summarize Orders by Customer.\n",
    "\n",
    "Create a DataFrame `orders` with columns `customer`, `category`, `total` from the data `[('Ana', 'books', 45.0), ('Ana', 'games', 65.0), ('Ben', 'books', 30.0), ('Ana', 'books', 20.0), ('Ben', 'games', 55.0)]` and compute the total spend per customer."
   ]
  },
  {
   "cell_type": "code",
   "execution_count": null,
   "metadata": {},
   "outputs": [],
   "source": []
  }
 ],
 "metadata": {
  "kernelspec": {
   "display_name": "leet-ish",
   "language": "python",
   "name": "python3"
  },
  "language_info": {
   "codemirror_mode": {
    "name": "ipython",
    "version": 3
   },
   "file_extension": ".py",
   "mimetype": "text/x-python",
   "name": "python",
   "nbconvert_exporter": "python",
   "pygments_lexer": "ipython3",
   "version": "3.12.11"
  }
 },
 "nbformat": 4,
 "nbformat_minor": 5
}

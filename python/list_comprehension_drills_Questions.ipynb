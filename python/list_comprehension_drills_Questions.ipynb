{
 "cells": [
  {
   "cell_type": "markdown",
   "metadata": {},
   "source": "# Questions\n"
  },
  {
   "cell_type": "markdown",
   "metadata": {},
   "source": "## Q1 \u2013 Goal: Square a Range.\n\nUsing a list comprehension, build `squares` containing the squares of numbers from 1 through 5.\n\n"
  },
  {
   "cell_type": "code",
   "metadata": {},
   "execution_count": null,
   "outputs": [],
   "source": ""
  },
  {
   "cell_type": "markdown",
   "metadata": {},
   "source": "## Q2 \u2013 Goal: Double Each Value.\n\nGiven `nums = [2, 5, 8, 11]`, use a list comprehension to create `doubled` where each value is twice the original.\n\n"
  },
  {
   "cell_type": "code",
   "metadata": {},
   "execution_count": null,
   "outputs": [],
   "source": ""
  },
  {
   "cell_type": "markdown",
   "metadata": {},
   "source": "## Q3 \u2013 Goal: Normalize Words to Uppercase.\n\nStarting from `words = ['python', 'loop', 'comprehension']`, create `uppercased` using a list comprehension that uppercases every string.\n\n"
  },
  {
   "cell_type": "code",
   "metadata": {},
   "execution_count": null,
   "outputs": [],
   "source": ""
  },
  {
   "cell_type": "markdown",
   "metadata": {},
   "source": "## Q4 \u2013 Goal: Keep Even Numbers.\n\nUsing a list comprehension, build `evens` from `numbers = list(range(1, 13))` that keeps only the even values.\n\n"
  },
  {
   "cell_type": "code",
   "metadata": {},
   "execution_count": null,
   "outputs": [],
   "source": ""
  },
  {
   "cell_type": "markdown",
   "metadata": {},
   "source": "## Q5 \u2013 Goal: Filter Names Containing \"a\".\n\nGiven `names = ['Ava', 'Eli', 'Maya', 'Noah', 'Lia']`, use a list comprehension to collect the names containing the letter `'a'` (case-insensitive).\n\n"
  },
  {
   "cell_type": "code",
   "metadata": {},
   "execution_count": null,
   "outputs": [],
   "source": ""
  },
  {
   "cell_type": "markdown",
   "metadata": {},
   "source": "## Q6 \u2013 Goal: Select Multiples of Three and Five.\n\nFrom `nums = list(range(1, 61))`, create `fifteens` via list comprehension containing numbers divisible by both three and five.\n\n"
  },
  {
   "cell_type": "code",
   "metadata": {},
   "execution_count": null,
   "outputs": [],
   "source": ""
  },
  {
   "cell_type": "markdown",
   "metadata": {},
   "source": "## Q7 \u2013 Goal: Label Parity.\n\nFor `numbers = list(range(1, 8))`, use a list comprehension with a conditional expression to build `labels` containing `'even'` or `'odd'` for each value.\n\n"
  },
  {
   "cell_type": "code",
   "metadata": {},
   "execution_count": null,
   "outputs": [],
   "source": ""
  },
  {
   "cell_type": "markdown",
   "metadata": {},
   "source": "## Q8 \u2013 Goal: Classify Temperatures.\n\nWith `temps_c = [-5, 3, 12, 18, 27]`, produce `labels` via list comprehension where readings under 10 are `'cold'` and the rest `'warm'.\n\n"
  },
  {
   "cell_type": "code",
   "metadata": {},
   "execution_count": null,
   "outputs": [],
   "source": ""
  },
  {
   "cell_type": "markdown",
   "metadata": {},
   "source": "## Q9 \u2013 Goal: Tag Exam Scores.\n\nGiven `scores = [92, 67, 81, 74, 58]`, build `outcomes` using a list comprehension that labels scores `>= 70` as `'pass'` and the rest `'retake'.\n\n"
  },
  {
   "cell_type": "code",
   "metadata": {},
   "execution_count": null,
   "outputs": [],
   "source": ""
  },
  {
   "cell_type": "markdown",
   "metadata": {},
   "source": "## Q10 \u2013 Goal: Flatten a Matrix.\n\nUsing a list comprehension, flatten `matrix = [[1, 2, 3], [4, 5, 6], [7, 8]]` into a single list named `flat`.\n\n"
  },
  {
   "cell_type": "code",
   "metadata": {},
   "execution_count": null,
   "outputs": [],
   "source": ""
  },
  {
   "cell_type": "markdown",
   "metadata": {},
   "source": "## Q11 \u2013 Goal: Build Coordinate Pairs.\n\nWith `rows = [1, 2, 3]` and `cols = ['A', 'B']`, construct `coordinates` via a nested list comprehension that captures every `(row, col)` pair.\n\n"
  },
  {
   "cell_type": "code",
   "metadata": {},
   "execution_count": null,
   "outputs": [],
   "source": ""
  },
  {
   "cell_type": "markdown",
   "metadata": {},
   "source": "## Q12 \u2013 Goal: Generate Times Table Strings.\n\nUsing a list comprehension and `table = [1, 2, 3]`, build `entries` storing formatted strings like `'2 x 3 = 6'` for every combination, then print each line.\n\n"
  },
  {
   "cell_type": "code",
   "metadata": {},
   "execution_count": null,
   "outputs": [],
   "source": ""
  },
  {
   "cell_type": "markdown",
   "metadata": {},
   "source": "## Q13 \u2013 Goal: Measure Clean Word Lengths.\n\nStarting with `raw_words = [' data ', 'loop\\n', '\\tpython', 'AI ']`, use a list comprehension to create `lengths` containing the length of each word after stripping whitespace.\n\n"
  },
  {
   "cell_type": "code",
   "metadata": {},
   "execution_count": null,
   "outputs": [],
   "source": ""
  },
  {
   "cell_type": "markdown",
   "metadata": {},
   "source": "## Q14 \u2013 Goal: Extract Active Usernames.\n\nGiven `users = [{'name': 'Ava', 'active': True}, {'name': 'Liam', 'active': False}, {'name': 'Noa', 'active': True}, {'name': 'Eli', 'active': False}]`, build `active_usernames` using a list comprehension that keeps the `name` for active users only.\n\n"
  },
  {
   "cell_type": "code",
   "metadata": {},
   "execution_count": null,
   "outputs": [],
   "source": ""
  },
  {
   "cell_type": "markdown",
   "metadata": {},
   "source": "## Q15 \u2013 Goal: Compute Line Totals.\n\nUsing `cart = [{'item': 'pen', 'qty': 3, 'price': 1.5}, {'item': 'notebook', 'qty': 2, 'price': 4.0}, {'item': 'staples', 'qty': 1, 'price': 5.25}]`, create `line_totals` via list comprehension capturing `qty * price` for each entry.\n\n"
  },
  {
   "cell_type": "code",
   "metadata": {},
   "execution_count": null,
   "outputs": [],
   "source": ""
  },
  {
   "cell_type": "markdown",
   "metadata": {},
   "source": "## Q16 \u2013 Goal: Sum Matrix Rows.\n\nGiven `matrix = [[2, 4], [5, 7], [1, 9]]`, produce `row_sums` using a list comprehension with `sum`.\n\n"
  },
  {
   "cell_type": "code",
   "metadata": {},
   "execution_count": null,
   "outputs": [],
   "source": ""
  },
  {
   "cell_type": "markdown",
   "metadata": {},
   "source": "## Q17 \u2013 Goal: Collect Letters Without Spaces.\n\nFrom `phrases = ['data science', 'list comprehension', 'python']`, build `chars` via list comprehension that gathers every non-space character in order.\n\n"
  },
  {
   "cell_type": "code",
   "metadata": {},
   "execution_count": null,
   "outputs": [],
   "source": ""
  },
  {
   "cell_type": "markdown",
   "metadata": {},
   "source": "## Q18 \u2013 Goal: Pair Students With Passing Grades.\n\nGiven `students = ['Ana', 'Ben', 'Cara', 'Don']` and `grades = [88, 76, 95, 64]`, use a list comprehension to build formatted strings like `'Ana: 88'` for grades `>= 80`.\n\n"
  },
  {
   "cell_type": "code",
   "metadata": {},
   "execution_count": null,
   "outputs": [],
   "source": ""
  },
  {
   "cell_type": "markdown",
   "metadata": {},
   "source": "## Q19 \u2013 Goal: Identify Prime Numbers.\n\nUsing a list comprehension and `candidates = range(2, 31)`, build `primes` that keeps numbers with no divisors other than 1 and themselves.\n\n"
  },
  {
   "cell_type": "code",
   "metadata": {},
   "execution_count": null,
   "outputs": [],
   "source": ""
  },
  {
   "cell_type": "markdown",
   "metadata": {},
   "source": "## Q20 \u2013 Goal: Expand Temperature Logs.\n\nFor `temperature_logs = {'NY': [23, 25, 21], 'LA': [19, 20], 'CHI': [18]}`, use a list comprehension to create dictionaries with keys `'city'`, `'day'` (1-based), and `'temp'` for every reading.\n\n"
  },
  {
   "cell_type": "code",
   "metadata": {},
   "execution_count": null,
   "outputs": [],
   "source": ""
  }
 ],
 "metadata": {
  "kernelspec": {
   "display_name": "leet-ish",
   "language": "python",
   "name": "python3"
  },
  "language_info": {
   "codemirror_mode": {
    "name": "ipython",
    "version": 3
   },
   "file_extension": ".py",
   "mimetype": "text/x-python",
   "name": "python",
   "nbconvert_exporter": "python",
   "pygments_lexer": "ipython3",
   "version": "3.12.11"
  }
 },
 "nbformat": 4,
 "nbformat_minor": 5
}
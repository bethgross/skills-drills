{
 "cells": [
  {
   "cell_type": "markdown",
   "metadata": {},
   "source": "# Questions"
  },
  {
   "cell_type": "markdown",
   "metadata": {},
   "source": "## Q1 \u2013 Bill Scatter Overview\n\nLoad seaborn's `penguins` dataset, set a colorblind theme, and plot bill length vs bill depth colored by species."
  },
  {
   "cell_type": "code",
   "metadata": {},
   "execution_count": null,
   "outputs": [],
   "source": ""
  },
  {
   "cell_type": "markdown",
   "metadata": {},
   "source": "## Q2 \u2013 Facet Scatter\n\nCreate a facet grid of flipper length vs body mass, splitting columns by sex and coloring points by species."
  },
  {
   "cell_type": "code",
   "metadata": {},
   "execution_count": null,
   "outputs": [],
   "source": ""
  },
  {
   "cell_type": "markdown",
   "metadata": {},
   "source": "## Q3 \u2013 Markers by Island\n\nDraw a scatter of bill length vs body mass using different markers per island and position the legend outside the plot."
  },
  {
   "cell_type": "code",
   "metadata": {},
   "execution_count": null,
   "outputs": [],
   "source": ""
  },
  {
   "cell_type": "markdown",
   "metadata": {},
   "source": "## Q4 \u2013 Overlapping Histograms\n\nPlot overlapping histograms of `flipper_length_mm` for each species using transparency and contrasting edge colors."
  },
  {
   "cell_type": "code",
   "metadata": {},
   "execution_count": null,
   "outputs": [],
   "source": ""
  },
  {
   "cell_type": "markdown",
   "metadata": {},
   "source": "## Q5 \u2013 Bill Depth Density\n\nCreate shaded KDE curves for bill depth by species on shared axes, including a vertical line at the overall median."
  },
  {
   "cell_type": "code",
   "metadata": {},
   "execution_count": null,
   "outputs": [],
   "source": ""
  },
  {
   "cell_type": "markdown",
   "metadata": {},
   "source": "## Q6 \u2013 Violin with Means\n\nPlot body mass by species using a violin plot with inner quartile boxes and annotate the mean mass atop each violin."
  },
  {
   "cell_type": "code",
   "metadata": {},
   "execution_count": null,
   "outputs": [],
   "source": ""
  },
  {
   "cell_type": "markdown",
   "metadata": {},
   "source": "## Q7 \u2013 Pairplot Tweaks\n\nConstruct a pairplot over numeric penguin features with species hue, smaller markers, and histograms on the diagonal."
  },
  {
   "cell_type": "code",
   "metadata": {},
   "execution_count": null,
   "outputs": [],
   "source": ""
  },
  {
   "cell_type": "markdown",
   "metadata": {},
   "source": "## Q8 \u2013 Correlation Heatmap\n\nCompute the correlation matrix of numeric penguin features and display it with a diverging heatmap and annotations."
  },
  {
   "cell_type": "code",
   "metadata": {},
   "execution_count": null,
   "outputs": [],
   "source": ""
  },
  {
   "cell_type": "markdown",
   "metadata": {},
   "source": "## Q9 \u2013 Dual-Axis Trend\n\nUsing the `flights` dataset, plot monthly passengers on the primary axis and a 12-month rolling sum on the secondary axis."
  },
  {
   "cell_type": "code",
   "metadata": {},
   "execution_count": null,
   "outputs": [],
   "source": ""
  },
  {
   "cell_type": "markdown",
   "metadata": {},
   "source": "## Q10 \u2013 Area Chart\n\nPlot a filled area chart of normalized monthly passengers (divided by max) from the flights data."
  },
  {
   "cell_type": "code",
   "metadata": {},
   "execution_count": null,
   "outputs": [],
   "source": ""
  },
  {
   "cell_type": "markdown",
   "metadata": {},
   "source": "## Q11 \u2013 Peak Annotation\n\nAdd an annotation for the month with the highest passenger count showing the value on the flights line series."
  },
  {
   "cell_type": "code",
   "metadata": {},
   "execution_count": null,
   "outputs": [],
   "source": ""
  },
  {
   "cell_type": "markdown",
   "metadata": {},
   "source": "## Q12 \u2013 Load Tips Dataset\n\nLoad seaborn's `tips` dataset for the remaining plotting tasks and preview the first rows."
  },
  {
   "cell_type": "code",
   "metadata": {},
   "execution_count": null,
   "outputs": [],
   "source": ""
  },
  {
   "cell_type": "markdown",
   "metadata": {},
   "source": "## Q13 \u2013 Stacked Bar Chart\n\nCreate a stacked bar chart of total tips by day and smoker status with custom colors and an external legend."
  },
  {
   "cell_type": "code",
   "metadata": {},
   "execution_count": null,
   "outputs": [],
   "source": ""
  },
  {
   "cell_type": "markdown",
   "metadata": {},
   "source": "## Q14 \u2013 Boxen and Swarm\n\nCombine a boxen plot of total bill by day with an overlaid swarm plot colored by meal time."
  },
  {
   "cell_type": "code",
   "metadata": {},
   "execution_count": null,
   "outputs": [],
   "source": ""
  },
  {
   "cell_type": "markdown",
   "metadata": {},
   "source": "## Q15 \u2013 Manual Facet Histograms\n\nUse matplotlib subplots to plot histograms of total bill for each day (2\u00d72 grid) with shared axes."
  },
  {
   "cell_type": "code",
   "metadata": {},
   "execution_count": null,
   "outputs": [],
   "source": ""
  },
  {
   "cell_type": "markdown",
   "metadata": {},
   "source": "## Q16 \u2013 Tip Percentage Catplot\n\nCalculate tip percentage and draw a seaborn catplot (pointplot) of average tip percentage by day for each meal time."
  },
  {
   "cell_type": "code",
   "metadata": {},
   "execution_count": null,
   "outputs": [],
   "source": ""
  },
  {
   "cell_type": "markdown",
   "metadata": {},
   "source": "## Q17 \u2013 Joint Regression Plot\n\nCreate a seaborn jointplot of total bill vs tip with a regression line and marginal histograms."
  },
  {
   "cell_type": "code",
   "metadata": {},
   "execution_count": null,
   "outputs": [],
   "source": ""
  },
  {
   "cell_type": "markdown",
   "metadata": {},
   "source": "## Q18 \u2013 ECDF Plot\n\nPlot an empirical cumulative distribution function (ECDF) of total bill amounts grouped by meal time."
  },
  {
   "cell_type": "code",
   "metadata": {},
   "execution_count": null,
   "outputs": [],
   "source": ""
  },
  {
   "cell_type": "markdown",
   "metadata": {},
   "source": "## Q19 \u2013 Hexbin Density\n\nUse matplotlib's `hexbin` to visualize the density of total bill vs tip values with a colorbar."
  },
  {
   "cell_type": "code",
   "metadata": {},
   "execution_count": null,
   "outputs": [],
   "source": ""
  },
  {
   "cell_type": "markdown",
   "metadata": {},
   "source": "## Q20 \u2013 Style Context\n\nWithin a seaborn style context (`darkgrid`), plot the average tip percentage by day to demonstrate temporary styling."
  },
  {
   "cell_type": "code",
   "metadata": {},
   "execution_count": null,
   "outputs": [],
   "source": ""
  }
 ],
 "metadata": {
  "kernelspec": {
   "display_name": "leet-ish",
   "language": "python",
   "name": "python3"
  },
  "language_info": {
   "codemirror_mode": {
    "name": "ipython",
    "version": 3
   },
   "file_extension": ".py",
   "mimetype": "text/x-python",
   "name": "python",
   "nbconvert_exporter": "python",
   "pygments_lexer": "ipython3",
   "version": "3.12.11"
  }
 },
 "nbformat": 4,
 "nbformat_minor": 5
}
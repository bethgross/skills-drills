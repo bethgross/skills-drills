{
 "cells": [
  {
   "cell_type": "markdown",
   "metadata": {},
   "source": [
    "# Answers\n"
   ]
  },
  {
   "cell_type": "markdown",
   "metadata": {},
   "source": [
    "## A1 – Goal: Square a Range.\n",
    "\n",
    "_Using a list comprehension, build `squares` containing the squares of numbers from 1 through 5._\n",
    "\n"
   ]
  },
  {
   "cell_type": "code",
   "execution_count": 1,
   "metadata": {},
   "outputs": [
    {
     "name": "stdout",
     "output_type": "stream",
     "text": [
      "[1, 4, 9, 16, 25]\n"
     ]
    }
   ],
   "source": [
    "# List comprehension keeps the transformation concise without manual loops.\n",
    "squares = [n**2 for n in range(1, 6)]\n",
    "print(squares)\n"
   ]
  },
  {
   "cell_type": "markdown",
   "metadata": {},
   "source": [
    "## A2 – Goal: Double Each Value.\n",
    "\n",
    "_Given `nums = [2, 5, 8, 11]`, use a list comprehension to create `doubled` where each value is twice the original._\n",
    "\n"
   ]
  },
  {
   "cell_type": "code",
   "execution_count": 2,
   "metadata": {},
   "outputs": [
    {
     "name": "stdout",
     "output_type": "stream",
     "text": [
      "[4, 10, 16, 22]\n"
     ]
    }
   ],
   "source": [
    "# Applying the multiplier inline avoids mutating the original list.\n",
    "nums = [2, 5, 8, 11]\n",
    "doubled = [value * 2 for value in nums]\n",
    "print(doubled)\n"
   ]
  },
  {
   "cell_type": "markdown",
   "metadata": {},
   "source": [
    "## A3 – Goal: Normalize Words to Uppercase.\n",
    "\n",
    "_Starting from `words = ['python', 'loop', 'comprehension']`, create `uppercased` using a list comprehension that uppercases every string._\n",
    "\n"
   ]
  },
  {
   "cell_type": "code",
   "execution_count": 3,
   "metadata": {},
   "outputs": [
    {
     "name": "stdout",
     "output_type": "stream",
     "text": [
      "['PYTHON', 'LOOP', 'COMPREHENSION']\n"
     ]
    }
   ],
   "source": [
    "# Comprehension lets us normalize every token in a single expressive line.\n",
    "words = ['python', 'loop', 'comprehension']\n",
    "uppercased = [word.upper() for word in words]\n",
    "print(uppercased)\n"
   ]
  },
  {
   "cell_type": "markdown",
   "metadata": {},
   "source": [
    "## A4 – Goal: Keep Even Numbers.\n",
    "\n",
    "_Using a list comprehension, build `evens` from `numbers = list(range(1, 13))` that keeps only the even values._\n",
    "\n"
   ]
  },
  {
   "cell_type": "code",
   "execution_count": 4,
   "metadata": {},
   "outputs": [
    {
     "name": "stdout",
     "output_type": "stream",
     "text": [
      "[2, 4, 6, 8, 10, 12]\n"
     ]
    }
   ],
   "source": [
    "# The conditional keeps only even values while iterating once.\n",
    "numbers = list(range(1, 13))\n",
    "evens = [n for n in numbers if n % 2 == 0]\n",
    "print(evens)\n"
   ]
  },
  {
   "cell_type": "markdown",
   "metadata": {},
   "source": [
    "## A5 – Goal: Filter Names Containing \"a\".\n",
    "\n",
    "_Given `names = ['Ava', 'Eli', 'Maya', 'Noah', 'Lia']`, use a list comprehension to collect the names containing the letter `'a'` (case-insensitive)._\n",
    "\n"
   ]
  },
  {
   "cell_type": "code",
   "execution_count": 5,
   "metadata": {},
   "outputs": [
    {
     "name": "stdout",
     "output_type": "stream",
     "text": [
      "['Ava', 'Maya', 'Noah', 'Lia']\n"
     ]
    }
   ],
   "source": [
    "# Lowercasing once per word keeps the filter reliable regardless of original case.\n",
    "names = ['Ava', 'Eli', 'Maya', 'Noah', 'Lia']\n",
    "has_a = [name for name in names if 'a' in name.lower()]\n",
    "print(has_a)\n"
   ]
  },
  {
   "cell_type": "markdown",
   "metadata": {},
   "source": [
    "## A6 – Goal: Select Multiples of Three and Five.\n",
    "\n",
    "_From `nums = list(range(1, 61))`, create `fifteens` via list comprehension containing numbers divisible by both three and five._\n",
    "\n"
   ]
  },
  {
   "cell_type": "code",
   "execution_count": 6,
   "metadata": {},
   "outputs": [
    {
     "name": "stdout",
     "output_type": "stream",
     "text": [
      "[15, 30, 45, 60]\n"
     ]
    }
   ],
   "source": [
    "# Combining the divisibility checks directly inside the comprehension avoids nested conditionals.\n",
    "nums = list(range(1, 61))\n",
    "fifteens = [n for n in nums if n % 3 == 0 and n % 5 == 0]\n",
    "print(fifteens)\n"
   ]
  },
  {
   "cell_type": "markdown",
   "metadata": {},
   "source": [
    "## A7 – Goal: Label Parity.\n",
    "\n",
    "_For `numbers = list(range(1, 8))`, use a list comprehension with a conditional expression to build `labels` containing `'even'` or `'odd'` for each value._\n",
    "\n"
   ]
  },
  {
   "cell_type": "code",
   "execution_count": 7,
   "metadata": {},
   "outputs": [
    {
     "name": "stdout",
     "output_type": "stream",
     "text": [
      "['odd', 'even', 'odd', 'even', 'odd', 'even', 'odd']\n"
     ]
    }
   ],
   "source": [
    "# Embedding the conditional expression yields a compact parity labeler.\n",
    "numbers = list(range(1, 8))\n",
    "labels = ['even' if n % 2 == 0 else 'odd' for n in numbers]\n",
    "print(labels)\n"
   ]
  },
  {
   "cell_type": "markdown",
   "metadata": {},
   "source": [
    "## A8 – Goal: Classify Temperatures.\n",
    "\n",
    "_With `temps_c = [-5, 3, 12, 18, 27]`, produce `labels` via list comprehension where readings under 10 are `'cold'` and the rest `'warm'._\n",
    "\n"
   ]
  },
  {
   "cell_type": "code",
   "execution_count": 8,
   "metadata": {},
   "outputs": [
    {
     "name": "stdout",
     "output_type": "stream",
     "text": [
      "['cold', 'cold', 'warm', 'warm', 'warm']\n"
     ]
    }
   ],
   "source": [
    "# The comprehension maps each reading to a label without extra loops or temporary lists.\n",
    "temps_c = [-5, 3, 12, 18, 27]\n",
    "labels = ['cold' if t < 10 else 'warm' for t in temps_c]\n",
    "print(labels)\n"
   ]
  },
  {
   "cell_type": "markdown",
   "metadata": {},
   "source": [
    "## A9 – Goal: Tag Exam Scores.\n",
    "\n",
    "_Given `scores = [92, 67, 81, 74, 58]`, build `outcomes` using a list comprehension that labels scores `>= 70` as `'pass'` and the rest `'retake'._\n",
    "\n"
   ]
  },
  {
   "cell_type": "code",
   "execution_count": 9,
   "metadata": {},
   "outputs": [
    {
     "name": "stdout",
     "output_type": "stream",
     "text": [
      "['pass', 'retake', 'pass', 'pass', 'retake']\n"
     ]
    }
   ],
   "source": [
    "# Inline conditionals keep the classification logic close to the data.\n",
    "scores = [92, 67, 81, 74, 58]\n",
    "outcomes = ['pass' if score >= 70 else 'retake' for score in scores]\n",
    "print(outcomes)\n"
   ]
  },
  {
   "cell_type": "markdown",
   "metadata": {},
   "source": [
    "## A10 – Goal: Flatten a Matrix.\n",
    "\n",
    "_Using a list comprehension, flatten `matrix = [[1, 2, 3], [4, 5, 6], [7, 8]]` into a single list named `flat`._\n",
    "\n"
   ]
  },
  {
   "cell_type": "code",
   "execution_count": 10,
   "metadata": {},
   "outputs": [
    {
     "name": "stdout",
     "output_type": "stream",
     "text": [
      "[1, 2, 3, 4, 5, 6, 7, 8]\n"
     ]
    }
   ],
   "source": [
    "# Nesting the for clauses flattens the matrix in traversal order.\n",
    "matrix = [[1, 2, 3], [4, 5, 6], [7, 8]]\n",
    "flat = [value for row in matrix for value in row]\n",
    "print(flat)\n"
   ]
  },
  {
   "cell_type": "markdown",
   "metadata": {},
   "source": [
    "## A11 – Goal: Build Coordinate Pairs.\n",
    "\n",
    "_With `rows = [1, 2, 3]` and `cols = ['A', 'B']`, construct `coordinates` via a nested list comprehension that captures every `(row, col)` pair._\n",
    "\n"
   ]
  },
  {
   "cell_type": "code",
   "execution_count": 11,
   "metadata": {},
   "outputs": [
    {
     "name": "stdout",
     "output_type": "stream",
     "text": [
      "[(1, 'A'), (1, 'B'), (2, 'A'), (2, 'B'), (3, 'A'), (3, 'B')]\n"
     ]
    }
   ],
   "source": [
    "# The nested comprehension enumerates every row/column pairing succinctly.\n",
    "rows = [1, 2, 3]\n",
    "cols = ['A', 'B']\n",
    "coordinates = [(r, c) for r in rows for c in cols]\n",
    "print(coordinates)\n"
   ]
  },
  {
   "cell_type": "markdown",
   "metadata": {},
   "source": [
    "## A12 – Goal: Generate Times Table Strings.\n",
    "\n",
    "_Using a list comprehension and `table = [1, 2, 3]`, build `entries` storing formatted strings like `'2 x 3 = 6'` for every combination, then print each line._\n",
    "\n"
   ]
  },
  {
   "cell_type": "code",
   "execution_count": 12,
   "metadata": {},
   "outputs": [
    {
     "name": "stdout",
     "output_type": "stream",
     "text": [
      "1 x 1 = 1\n",
      "1 x 2 = 2\n",
      "1 x 3 = 3\n",
      "2 x 1 = 2\n",
      "2 x 2 = 4\n",
      "2 x 3 = 6\n",
      "3 x 1 = 3\n",
      "3 x 2 = 6\n",
      "3 x 3 = 9\n"
     ]
    }
   ],
   "source": [
    "# Wrapping the multiplication inside the comprehension keeps formatting consistent.\n",
    "table = [1, 2, 3]\n",
    "entries = [f'{a} x {b} = {a * b}' for a in table for b in table]\n",
    "for entry in entries:\n",
    "    print(entry)\n"
   ]
  },
  {
   "cell_type": "markdown",
   "metadata": {},
   "source": [
    "## A13 – Goal: Measure Clean Word Lengths.\n",
    "\n",
    "_Starting with `raw_words = [' data ', 'loop\\n', '\\tpython', 'AI ']`, use a list comprehension to create `lengths` containing the length of each word after stripping whitespace._\n",
    "\n"
   ]
  },
  {
   "cell_type": "code",
   "execution_count": 13,
   "metadata": {},
   "outputs": [
    {
     "name": "stdout",
     "output_type": "stream",
     "text": [
      "[4, 4, 6, 2]\n"
     ]
    }
   ],
   "source": [
    "# Using strip inside the comprehension normalizes each token before measuring length.\n",
    "raw_words = [' data ', 'loop\\n', '\\tpython', 'AI ']\n",
    "lengths = [len(word.strip()) for word in raw_words]\n",
    "print(lengths)\n"
   ]
  },
  {
   "cell_type": "markdown",
   "metadata": {},
   "source": [
    "## A14 – Goal: Extract Active Usernames.\n",
    "\n",
    "_Given `users = [{'name': 'Ava', 'active': True}, {'name': 'Liam', 'active': False}, {'name': 'Noa', 'active': True}, {'name': 'Eli', 'active': False}]`, build `active_usernames` using a list comprehension that keeps the `name` for active users only._\n",
    "\n"
   ]
  },
  {
   "cell_type": "code",
   "execution_count": 14,
   "metadata": {},
   "outputs": [
    {
     "name": "stdout",
     "output_type": "stream",
     "text": [
      "['Ava', 'Noa']\n"
     ]
    }
   ],
   "source": [
    "# Filtering within the comprehension avoids an extra temporary collection.\n",
    "users = [\n",
    "    {'name': 'Ava', 'active': True},\n",
    "    {'name': 'Liam', 'active': False},\n",
    "    {'name': 'Noa', 'active': True},\n",
    "    {'name': 'Eli', 'active': False},\n",
    "]\n",
    "active_usernames = [user['name'] for user in users if user['active']]\n",
    "print(active_usernames)\n"
   ]
  },
  {
   "cell_type": "markdown",
   "metadata": {},
   "source": [
    "## A15 – Goal: Compute Line Totals.\n",
    "\n",
    "_Using `cart = [{'item': 'pen', 'qty': 3, 'price': 1.5}, {'item': 'notebook', 'qty': 2, 'price': 4.0}, {'item': 'staples', 'qty': 1, 'price': 5.25}]`, create `line_totals` via list comprehension capturing `qty * price` for each entry._\n",
    "\n"
   ]
  },
  {
   "cell_type": "code",
   "execution_count": 15,
   "metadata": {},
   "outputs": [
    {
     "name": "stdout",
     "output_type": "stream",
     "text": [
      "[4.5, 8.0, 5.25]\n"
     ]
    }
   ],
   "source": [
    "# Calculating each extended price inline keeps the intent obvious.\n",
    "cart = [\n",
    "    {'item': 'pen', 'qty': 3, 'price': 1.5},\n",
    "    {'item': 'notebook', 'qty': 2, 'price': 4.0},\n",
    "    {'item': 'staples', 'qty': 1, 'price': 5.25},\n",
    "]\n",
    "line_totals = [entry['qty'] * entry['price'] for entry in cart]\n",
    "print(line_totals)\n"
   ]
  },
  {
   "cell_type": "markdown",
   "metadata": {},
   "source": [
    "## A16 – Goal: Sum Matrix Rows.\n",
    "\n",
    "_Given `matrix = [[2, 4], [5, 7], [1, 9]]`, produce `row_sums` using a list comprehension with `sum`._\n",
    "\n"
   ]
  },
  {
   "cell_type": "code",
   "execution_count": 16,
   "metadata": {},
   "outputs": [
    {
     "name": "stdout",
     "output_type": "stream",
     "text": [
      "[6, 12, 10]\n"
     ]
    }
   ],
   "source": [
    "# Delegating the inner addition to sum keeps the comprehension focused on iteration.\n",
    "matrix = [[2, 4], [5, 7], [1, 9]]\n",
    "row_sums = [sum(row) for row in matrix]\n",
    "print(row_sums)\n"
   ]
  },
  {
   "cell_type": "markdown",
   "metadata": {},
   "source": [
    "## A17 – Goal: Collect Letters Without Spaces.\n",
    "\n",
    "_From `phrases = ['data science', 'list comprehension', 'python']`, build `chars` via list comprehension that gathers every non-space character in order._\n",
    "\n"
   ]
  },
  {
   "cell_type": "code",
   "execution_count": 17,
   "metadata": {},
   "outputs": [
    {
     "name": "stdout",
     "output_type": "stream",
     "text": [
      "['d', 'a', 't', 'a', 's', 'c', 'i', 'e', 'n', 'c', 'e', 'l', 'i', 's', 't', 'c', 'o', 'm', 'p', 'r', 'e', 'h', 'e', 'n', 's', 'i', 'o', 'n', 'p', 'y', 't', 'h', 'o', 'n']\n"
     ]
    }
   ],
   "source": [
    "# Layering comprehension clauses flattens the phrases while skipping spaces.\n",
    "phrases = ['data science', 'list comprehension', 'python']\n",
    "chars = [char for phrase in phrases for char in phrase if char != ' ']\n",
    "print(chars)\n"
   ]
  },
  {
   "cell_type": "markdown",
   "metadata": {},
   "source": [
    "## A18 – Goal: Pair Students With Passing Grades.\n",
    "\n",
    "_Given `students = ['Ana', 'Ben', 'Cara', 'Don']` and `grades = [88, 76, 95, 64]`, use a list comprehension to build formatted strings like `'Ana: 88'` for grades `>= 80`._\n",
    "\n"
   ]
  },
  {
   "cell_type": "code",
   "execution_count": 18,
   "metadata": {},
   "outputs": [
    {
     "name": "stdout",
     "output_type": "stream",
     "text": [
      "['Ana: 88', 'Cara: 95']\n"
     ]
    }
   ],
   "source": [
    "# Zipping inside the comprehension lets us align student names with their results neatly.\n",
    "students = ['Ana', 'Ben', 'Cara', 'Don']\n",
    "grades = [88, 76, 95, 64]\n",
    "passed = [f\"{name}: {grade}\" for name, grade in zip(students, grades) if grade >= 80]\n",
    "print(passed)\n"
   ]
  },
  {
   "cell_type": "markdown",
   "metadata": {},
   "source": [
    "## A19 – Goal: Identify Prime Numbers.\n",
    "\n",
    "_Using a list comprehension and `candidates = range(2, 31)`, build `primes` that keeps numbers with no divisors other than 1 and themselves._\n",
    "\n"
   ]
  },
  {
   "cell_type": "code",
   "execution_count": 19,
   "metadata": {},
   "outputs": [
    {
     "name": "stdout",
     "output_type": "stream",
     "text": [
      "[2, 3, 5, 7, 11, 13, 17, 19, 23, 29]\n"
     ]
    }
   ],
   "source": [
    "# The nested all-check keeps the comprehension pure while avoiding redundant trial divisions.\n",
    "candidates = range(2, 31)\n",
    "primes = [n for n in candidates if all(n % divisor for divisor in range(2, int(n**0.5) + 1))]\n",
    "print(primes)\n"
   ]
  },
  {
   "cell_type": "markdown",
   "metadata": {},
   "source": [
    "## A20 – Goal: Expand Temperature Logs.\n",
    "\n",
    "_For `temperature_logs = {'NY': [23, 25, 21], 'LA': [19, 20], 'CHI': [18]}`, use a list comprehension to create dictionaries with keys `'city'`, `'day'` (1-based), and `'temp'` for every reading._\n",
    "\n"
   ]
  },
  {
   "cell_type": "code",
   "execution_count": 20,
   "metadata": {},
   "outputs": [
    {
     "name": "stdout",
     "output_type": "stream",
     "text": [
      "[{'city': 'NY', 'day': 1, 'temp': 23}, {'city': 'NY', 'day': 2, 'temp': 25}, {'city': 'NY', 'day': 3, 'temp': 21}, {'city': 'LA', 'day': 1, 'temp': 19}, {'city': 'LA', 'day': 2, 'temp': 20}, {'city': 'CHI', 'day': 1, 'temp': 18}]\n"
     ]
    }
   ],
   "source": [
    "# Enumerating inside the comprehension captures both the reading order and value per city.\n",
    "temperature_logs = {\n",
    "    'NY': [23, 25, 21],\n",
    "    'LA': [19, 20],\n",
    "    'CHI': [18],\n",
    "}\n",
    "records = [\n",
    "    {'city': city, 'day': day, 'temp': temp}\n",
    "    for city, temps in temperature_logs.items()\n",
    "    for day, temp in enumerate(temps, start=1)\n",
    "]\n",
    "print(records)\n"
   ]
  }
 ],
 "metadata": {
  "kernelspec": {
   "display_name": "leet-ish",
   "language": "python",
   "name": "python3"
  },
  "language_info": {
   "codemirror_mode": {
    "name": "ipython",
    "version": 3
   },
   "file_extension": ".py",
   "mimetype": "text/x-python",
   "name": "python",
   "nbconvert_exporter": "python",
   "pygments_lexer": "ipython3",
   "version": "3.12.11"
  }
 },
 "nbformat": 4,
 "nbformat_minor": 5
}

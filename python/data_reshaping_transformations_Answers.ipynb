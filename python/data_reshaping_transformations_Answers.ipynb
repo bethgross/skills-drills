{
 "cells": [
  {
   "cell_type": "markdown",
   "metadata": {},
   "source": "# Answers"
  },
  {
   "cell_type": "markdown",
   "metadata": {},
   "source": "## A1 \u2013 Load Flights Dataset\n\n_Import the `flights` dataset from seaborn, report its shape, and preview the first rows._"
  },
  {
   "cell_type": "code",
   "metadata": {},
   "execution_count": null,
   "outputs": [],
   "source": "import pandas as pd\nimport numpy as np\nimport seaborn as sns\n\nsns.set_theme(style='whitegrid')\n\nflights = sns.load_dataset('flights')\nprint(f'Shape: {flights.shape}')\nflights.head()\n# Observation: The flights table spans multiple decades of monthly passenger counts.\n"
  },
  {
   "cell_type": "markdown",
   "metadata": {},
   "source": "## A2 \u2013 Ordered Months\n\n_Ensure the `month` column is an ordered categorical variable following calendar order, then display its categories._"
  },
  {
   "cell_type": "code",
   "metadata": {},
   "execution_count": null,
   "outputs": [],
   "source": "month_order = list(flights['month'].unique())\nflights['month'] = pd.Categorical(flights['month'], categories=month_order, ordered=True)\nflights['month'].cat.categories\n# Observation: Enforcing month order prevents alphabetical sorting mishaps during pivots.\n"
  },
  {
   "cell_type": "markdown",
   "metadata": {},
   "source": "## A3 \u2013 Monthly Pivot\n\n_Pivot the data into a matrix of `month` by `year` showing passenger counts, naming the result `flights_pivot`._"
  },
  {
   "cell_type": "code",
   "metadata": {},
   "execution_count": null,
   "outputs": [],
   "source": "flights_pivot = flights.pivot(index='month', columns='year', values='passengers')\nflights_pivot.head()\n# Observation: The pivot reveals steady passenger growth across calendar months.\n"
  },
  {
   "cell_type": "markdown",
   "metadata": {},
   "source": "## A4 \u2013 Monthly Totals\n\n_Add a `total` column to `flights_pivot` representing the sum across all years for each month._"
  },
  {
   "cell_type": "code",
   "metadata": {},
   "execution_count": null,
   "outputs": [],
   "source": "flights_pivot['total'] = flights_pivot.sum(axis=1)\nflights_pivot.head()\n# Observation: Late-summer months dominate total passenger counts over the full horizon.\n"
  },
  {
   "cell_type": "markdown",
   "metadata": {},
   "source": "## A5 \u2013 Year-over-Year Growth\n\n_Compute the year-over-year percentage change across columns in `flights_pivot` (excluding `total`) and store it as `flights_growth`._"
  },
  {
   "cell_type": "code",
   "metadata": {},
   "execution_count": null,
   "outputs": [],
   "source": "growth_only = flights_pivot.drop(columns=['total'])\nflights_growth = growth_only.pct_change(axis=1) * 100\nflights_growth.head()\n# Observation: Annual growth rates accelerate in the late 1950s before tapering off.\n"
  },
  {
   "cell_type": "markdown",
   "metadata": {},
   "source": "## A6 \u2013 Stacked View\n\n_Stack `flights_pivot` (without the `total` column) back to a long index with `month` and `year`, naming the series `passengers`._"
  },
  {
   "cell_type": "code",
   "metadata": {},
   "execution_count": null,
   "outputs": [],
   "source": "stacked = growth_only.stack().rename('passengers')\nstacked.head()\n# Observation: Stack reverses the pivot to a MultiIndex Series useful for chained reshapes.\n"
  },
  {
   "cell_type": "markdown",
   "metadata": {},
   "source": "## A7 \u2013 Datetime Period\n\n_Create a `date` column in the original `flights` frame combining `year` and `month` as the first day of the month, then set it as the index._"
  },
  {
   "cell_type": "code",
   "metadata": {},
   "execution_count": null,
   "outputs": [],
   "source": "flights['date'] = pd.to_datetime(flights['year'].astype(str) + '-' + flights['month'].astype(str))\nflights = flights.set_index('date').sort_index()\nflights.head()\n# Observation: A datetime index unlocks convenient resampling for time-based aggregates.\n"
  },
  {
   "cell_type": "markdown",
   "metadata": {},
   "source": "## A8 \u2013 Quarterly Aggregation\n\n_Resample the flights data to quarterly frequency, summing passengers into `flights_q`._"
  },
  {
   "cell_type": "code",
   "metadata": {},
   "execution_count": null,
   "outputs": [],
   "source": "flights_q = flights['passengers'].resample('Q').sum()\nflights_q.head()\n# Observation: Quarterly aggregates smooth monthly volatility while retaining seasonal waves.\n"
  },
  {
   "cell_type": "markdown",
   "metadata": {},
   "source": "## A9 \u2013 Quarter-on-Quarter Change\n\n_Compute the quarter-on-quarter percentage change of `flights_q` and name the Series `qoq_change`._"
  },
  {
   "cell_type": "code",
   "metadata": {},
   "execution_count": null,
   "outputs": [],
   "source": "qoq_change = flights_q.pct_change() * 100\nqoq_change.head()\n# Observation: Growth bounces between positive and negative as seasonal peaks and troughs alternate.\n"
  },
  {
   "cell_type": "markdown",
   "metadata": {},
   "source": "## A10 \u2013 Rolling Annual Total\n\n_Calculate a 12-month rolling sum of passengers in the monthly data and assign it to `flights['rolling_year']`._"
  },
  {
   "cell_type": "code",
   "metadata": {},
   "execution_count": null,
   "outputs": [],
   "source": "flights['rolling_year'] = flights['passengers'].rolling(12, min_periods=1).sum()\nflights[['passengers', 'rolling_year']].head(15)\n# Observation: Rolling totals trend consistently upward, reflecting long-run demand growth.\n"
  },
  {
   "cell_type": "markdown",
   "metadata": {},
   "source": "## A11 \u2013 Load Tips Dataset\n\n_Import the `tips` dataset for use in reshaping exercises and display its head._"
  },
  {
   "cell_type": "code",
   "metadata": {},
   "execution_count": null,
   "outputs": [],
   "source": "tips = sns.load_dataset('tips')\ntips.head()\n# Observation: The tips dataset offers categorical dimensions ideal for pivoting practice.\n"
  },
  {
   "cell_type": "markdown",
   "metadata": {},
   "source": "## A12 \u2013 Day-Time Pivot\n\n_Create `tips_pivot` summarizing average tip percentage (`tip / total_bill`) by `day` (rows) and `time` (columns)._"
  },
  {
   "cell_type": "code",
   "metadata": {},
   "execution_count": null,
   "outputs": [],
   "source": "tips = tips.assign(tip_pct=tips['tip'] / tips['total_bill'])\ntips_pivot = tips.pivot_table(values='tip_pct', index='day', columns='time', aggfunc='mean').round(3)\ntips_pivot\n# Observation: Dinner services consistently earn higher tip percentages than lunch.\n"
  },
  {
   "cell_type": "markdown",
   "metadata": {},
   "source": "## A13 \u2013 Flatten Columns\n\n_Reset the index on `tips_pivot` and flatten the resulting columns into simple snake_case names._"
  },
  {
   "cell_type": "code",
   "metadata": {},
   "execution_count": null,
   "outputs": [],
   "source": "tips_pivot_reset = tips_pivot.reset_index()\ntips_pivot_reset.columns = ['day'] + [f'tip_pct_{col.lower()}' for col in tips_pivot_reset.columns[1:]]\ntips_pivot_reset\n# Observation: Flattened names improve joinability with other tables requiring consistent column formats.\n"
  },
  {
   "cell_type": "markdown",
   "metadata": {},
   "source": "## A14 \u2013 Melt Back to Long\n\n_Melt the flattened pivot back into long format with columns `day`, `time`, and `tip_pct`._"
  },
  {
   "cell_type": "code",
   "metadata": {},
   "execution_count": null,
   "outputs": [],
   "source": "tips_long = tips_pivot_reset.melt(id_vars='day', var_name='time', value_name='tip_pct')\ntips_long\n# Observation: Melting restores the original tidy layout after wide transformations.\n"
  },
  {
   "cell_type": "markdown",
   "metadata": {},
   "source": "## A15 \u2013 Customer Size Buckets\n\n_Bin party `size` into labels (`solo`, `pair`, `small_group`, `large_group`) and append this to the `tips` frame._"
  },
  {
   "cell_type": "code",
   "metadata": {},
   "execution_count": null,
   "outputs": [],
   "source": "size_bins = [1, 2, 3, 5, tips['size'].max()]\nsize_labels = ['solo', 'pair', 'small_group', 'large_group']\ntips['party_bucket'] = pd.cut(tips['size'], bins=size_bins, labels=size_labels, right=False)\ntips[['size', 'party_bucket']].head()\n# Observation: Most dining parties fall into the pair or small group categories.\n"
  },
  {
   "cell_type": "markdown",
   "metadata": {},
   "source": "## A16 \u2013 Nested Pivot\n\n_Create a pivot table showing average `tip_pct` by `day` and `party_bucket`, with `time` as columns (a three-level summary)._"
  },
  {
   "cell_type": "code",
   "metadata": {},
   "execution_count": null,
   "outputs": [],
   "source": "nested_pivot = tips.pivot_table(\n    values='tip_pct',\n    index=['day', 'party_bucket'],\n    columns='time',\n    aggfunc='mean'\n).round(3)\nnested_pivot\n# Observation: Larger dinner parties slightly dilute tip percentage, especially on weekdays.\n"
  },
  {
   "cell_type": "markdown",
   "metadata": {},
   "source": "## A17 \u2013 Stack MultiIndex\n\n_Stack the columns of `nested_pivot` to produce a Series with a three-level MultiIndex (day, party_bucket, time)._"
  },
  {
   "cell_type": "code",
   "metadata": {},
   "execution_count": null,
   "outputs": [],
   "source": "stacked_nested = nested_pivot.stack().rename('tip_pct')\nstacked_nested.head()\n# Observation: The stacked view simplifies filtering specific combinations with `.xs` selections.\n"
  },
  {
   "cell_type": "markdown",
   "metadata": {},
   "source": "## A18 \u2013 Cross Tabulation\n\n_Build a contingency table counting meals by `smoker` status and `time`, storing the result in `smoker_time_ct`._"
  },
  {
   "cell_type": "code",
   "metadata": {},
   "execution_count": null,
   "outputs": [],
   "source": "smoker_time_ct = pd.crosstab(tips['smoker'], tips['time'])\nsmoker_time_ct\n# Observation: Smokers appear more frequently during dinner service than lunch.\n"
  },
  {
   "cell_type": "markdown",
   "metadata": {},
   "source": "## A19 \u2013 Normalize Crosstab\n\n_Normalize `smoker_time_ct` by row totals to obtain proportional shares per smoker group._"
  },
  {
   "cell_type": "code",
   "metadata": {},
   "execution_count": null,
   "outputs": [],
   "source": "smoker_time_share = pd.crosstab(tips['smoker'], tips['time'], normalize='index').round(3)\nsmoker_time_share\n# Observation: Row normalization highlights that non-smokers split more evenly between lunch and dinner.\n"
  },
  {
   "cell_type": "markdown",
   "metadata": {},
   "source": "## A20 \u2013 Wide-to-Long Slice\n\n_Using `flights_pivot`, reshape passenger counts for 1956\u20131959 into a long DataFrame with columns `month`, `year`, `passengers` only for that slice._"
  },
  {
   "cell_type": "code",
   "metadata": {},
   "execution_count": null,
   "outputs": [],
   "source": "wide_slice = flights_pivot.loc[:, 1956:1959]\nflights_slice_long = wide_slice.reset_index().melt(id_vars='month', var_name='year', value_name='passengers')\nflights_slice_long.head()\n# Observation: The slice reveals the rapid passenger ramp in the late 1950s.\n"
  }
 ],
 "metadata": {
  "kernelspec": {
   "display_name": "leet-ish",
   "language": "python",
   "name": "python3"
  },
  "language_info": {
   "codemirror_mode": {
    "name": "ipython",
    "version": 3
   },
   "file_extension": ".py",
   "mimetype": "text/x-python",
   "name": "python",
   "nbconvert_exporter": "python",
   "pygments_lexer": "ipython3",
   "version": "3.12.11"
  }
 },
 "nbformat": 4,
 "nbformat_minor": 5
}
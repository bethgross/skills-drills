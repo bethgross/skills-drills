{
 "cells": [
  {
   "cell_type": "markdown",
   "metadata": {},
   "source": [
    "# Answers"
   ]
  },
  {
   "cell_type": "markdown",
   "metadata": {},
   "source": [
    "## A1 – Goal: Tuple Basics.\n",
    "\n",
    "_Create a tuple named `colors` containing `'red'`, `'green'`, `'blue'`, `'yellow'`. Print the first and last elements._"
   ]
  },
  {
   "cell_type": "code",
   "execution_count": null,
   "metadata": {},
   "outputs": [],
   "source": [
    "# Direct tuple indexing keeps retrieval O(1); converting to a list would add overhead.\n",
    "colors = ('red', 'green', 'blue', 'yellow')\n",
    "first_color = colors[0]\n",
    "last_color = colors[-1]\n",
    "print(first_color)\n",
    "print(last_color)\n"
   ]
  },
  {
   "cell_type": "markdown",
   "metadata": {},
   "source": [
    "## A2 – Goal: Tuple Unpacking.\n",
    "\n",
    "_Given the tuple `person = ('Ada', 'Lovelace', 36, 'London')`, unpack it into `first_name`, `last_name`, `age`, and `city`, then print `Ada Lovelace (36) - London`._"
   ]
  },
  {
   "cell_type": "code",
   "execution_count": null,
   "metadata": {},
   "outputs": [],
   "source": [
    "# Tuple unpacking keeps the variable assignment declarative and avoids manual indexing.\n",
    "person = ('Ada', 'Lovelace', 36, 'London')\n",
    "first_name, last_name, age, city = person\n",
    "print(f\"{first_name} {last_name} ({age}) - {city}\")\n"
   ]
  },
  {
   "cell_type": "markdown",
   "metadata": {},
   "source": [
    "## A3 – Goal: Build a Dictionary from Two Lists.\n",
    "\n",
    "_Use the lists `keys = ['id', 'name', 'email']` and `values = [101, 'Sasha', 'sasha@example.com']` to create a dictionary named `user` via `zip`, then print it._"
   ]
  },
  {
   "cell_type": "code",
   "execution_count": null,
   "metadata": {},
   "outputs": [],
   "source": [
    "# dict(zip(...)) pairs each key with a value without needing index management.\n",
    "keys = ['id', 'name', 'email']\n",
    "values = [101, 'Sasha', 'sasha@example.com']\n",
    "user = dict(zip(keys, values))\n",
    "print(user)\n"
   ]
  },
  {
   "cell_type": "markdown",
   "metadata": {},
   "source": [
    "## A4 – Goal: Merge Configuration Dictionaries.\n",
    "\n",
    "_Start from `defaults = {'theme': 'dark', 'language': 'en'}` and `overrides = {'language': 'es', 'autosave': True}`. Create a new dictionary combining them so overrides take precedence._"
   ]
  },
  {
   "cell_type": "code",
   "execution_count": null,
   "metadata": {},
   "outputs": [],
   "source": [
    "# The dictionary union operator preserves the right-hand overrides in Python 3.9+.\n",
    "defaults = {'theme': 'dark', 'language': 'en'}\n",
    "overrides = {'language': 'es', 'autosave': True}\n",
    "combined = defaults | overrides\n",
    "print(combined)\n"
   ]
  },
  {
   "cell_type": "markdown",
   "metadata": {},
   "source": [
    "## A5 – Goal: Filter Words with a Dictionary Comprehension.\n",
    "\n",
    "_Given `words = ['python', 'data', 'science', 'loop', 'tuple']`, build a dictionary mapping each word longer than four letters to its length._"
   ]
  },
  {
   "cell_type": "code",
   "execution_count": null,
   "metadata": {},
   "outputs": [],
   "source": [
    "# A single comprehension keeps the filter and transformation concise.\n",
    "words = ['python', 'data', 'science', 'loop', 'tuple']\n",
    "word_lengths = {word: len(word) for word in words if len(word) > 4}\n",
    "print(word_lengths)\n"
   ]
  },
  {
   "cell_type": "markdown",
   "metadata": {},
   "source": [
    "## A6 – Goal: Count Character Frequency.\n",
    "\n",
    "_Using a `for` loop, count the frequency of each character in the string `message = 'Never odd or even'` ignoring spaces and case, storing the results in a dictionary named `counts`._"
   ]
  },
  {
   "cell_type": "code",
   "execution_count": null,
   "metadata": {},
   "outputs": [],
   "source": [
    "# Normalizing to lowercase and skipping non-letters avoids redundant dictionary keys.\n",
    "message = 'Never odd or even'\n",
    "counts = {}\n",
    "for char in message.lower():\n",
    "    if not char.isalpha():\n",
    "        continue\n",
    "    counts[char] = counts.get(char, 0) + 1\n",
    "print(counts)\n"
   ]
  },
  {
   "cell_type": "markdown",
   "metadata": {},
   "source": [
    "## A7 – Goal: Compare Skill Sets.\n",
    "\n",
    "_With `backend = {'python', 'java', 'go'}` and `frontend = {'javascript', 'typescript', 'python'}`, compute the intersection and the difference for languages that are backend-only. Print both sets._"
   ]
  },
  {
   "cell_type": "code",
   "execution_count": null,
   "metadata": {},
   "outputs": [],
   "source": [
    "# Set operators express the intent more clearly than manual membership checks.\n",
    "backend = {'python', 'java', 'go'}\n",
    "frontend = {'javascript', 'typescript', 'python'}\n",
    "common = backend & frontend\n",
    "backend_only = backend - frontend\n",
    "print(common)\n",
    "print(backend_only)\n"
   ]
  },
  {
   "cell_type": "markdown",
   "metadata": {},
   "source": [
    "## A8 – Goal: Square Even Numbers.\n",
    "\n",
    "_Using a list comprehension, generate a list of squares for even numbers from 0 through 20._"
   ]
  },
  {
   "cell_type": "code",
   "execution_count": null,
   "metadata": {},
   "outputs": [],
   "source": [
    "# The step argument in range lets the comprehension focus only on even numbers.\n",
    "squares = [n ** 2 for n in range(0, 21, 2)]\n",
    "print(squares)\n"
   ]
  },
  {
   "cell_type": "markdown",
   "metadata": {},
   "source": [
    "## A9 – Goal: Flatten a Nested List.\n",
    "\n",
    "_Flatten the nested list `matrix = [[1, 2, 3], [4, 5], [6]]` into a single list using a list comprehension._"
   ]
  },
  {
   "cell_type": "code",
   "execution_count": null,
   "metadata": {},
   "outputs": [],
   "source": [
    "# A nested comprehension keeps the flattening inline and readable.\n",
    "matrix = [[1, 2, 3], [4, 5], [6]]\n",
    "flat = [value for row in matrix for value in row]\n",
    "print(flat)\n"
   ]
  },
  {
   "cell_type": "markdown",
   "metadata": {},
   "source": [
    "## A10 – Goal: Label Numbers.\n",
    "\n",
    "_Given `numbers = list(range(1, 11))`, use a list comprehension to produce `labels` where each element is `'even'` or `'odd'`._"
   ]
  },
  {
   "cell_type": "code",
   "execution_count": null,
   "metadata": {},
   "outputs": [],
   "source": [
    "# Inline conditional expressions keep the comprehension focused on the transformation.\n",
    "numbers = list(range(1, 11))\n",
    "labels = ['even' if n % 2 == 0 else 'odd' for n in numbers]\n",
    "print(labels)\n"
   ]
  },
  {
   "cell_type": "markdown",
   "metadata": {},
   "source": [
    "## A11 – Goal: Sort Records with a Lambda.\n",
    "\n",
    "_Sort `people = [{'name': 'Alex', 'age': 29}, {'name': 'Jo', 'age': 34}, {'name': 'Sam', 'age': 25}]` by age in descending order using `sorted` with a lambda key._"
   ]
  },
  {
   "cell_type": "code",
   "execution_count": null,
   "metadata": {},
   "outputs": [],
   "source": [
    "# A lambda keeps the key function concise without an extra def block.\n",
    "people = [{'name': 'Alex', 'age': 29}, {'name': 'Jo', 'age': 34}, {'name': 'Sam', 'age': 25}]\n",
    "sorted_people = sorted(people, key=lambda person: person['age'], reverse=True)\n",
    "print(sorted_people)\n"
   ]
  },
  {
   "cell_type": "markdown",
   "metadata": {},
   "source": [
    "## A12 – Goal: Convert Temperatures with map.\n",
    "\n",
    "_Use `map` with a lambda to convert the Celsius temperatures `temps_c = [0, 12.5, 30]` to Fahrenheit, rounding to one decimal place._"
   ]
  },
  {
   "cell_type": "code",
   "execution_count": null,
   "metadata": {},
   "outputs": [],
   "source": [
    "# map keeps the transformation lazy; wrapping with list realizes the results for printing.\n",
    "temps_c = [0, 12.5, 30]\n",
    "temps_f = list(map(lambda c: round(c * 9 / 5 + 32, 1), temps_c))\n",
    "print(temps_f)\n"
   ]
  },
  {
   "cell_type": "markdown",
   "metadata": {},
   "source": [
    "## A13 – Goal: Build Running Totals.\n",
    "\n",
    "_Using a `for` loop, build `running_totals` that stores cumulative sums of `values = [3, 7, 2, 5]`._"
   ]
  },
  {
   "cell_type": "code",
   "execution_count": null,
   "metadata": {},
   "outputs": [],
   "source": [
    "# Tracking the rolling sum avoids recomputing partial sums on each iteration.\n",
    "values = [3, 7, 2, 5]\n",
    "running_totals = []\n",
    "current = 0\n",
    "for value in values:\n",
    "    current += value\n",
    "    running_totals.append(current)\n",
    "print(running_totals)\n"
   ]
  },
  {
   "cell_type": "markdown",
   "metadata": {},
   "source": [
    "## A14 – Goal: Number Items with enumerate.\n",
    "\n",
    "_Use `enumerate` to create a list of strings in the format `'1: apple'` from `fruits = ['apple', 'banana', 'cherry']`, where numbering starts at 1._"
   ]
  },
  {
   "cell_type": "code",
   "execution_count": null,
   "metadata": {},
   "outputs": [],
   "source": [
    "# enumerate supplies the counter so there is no need for manual index tracking.\n",
    "fruits = ['apple', 'banana', 'cherry']\n",
    "labels = [f\"{index}: {fruit}\" for index, fruit in enumerate(fruits, start=1)]\n",
    "print(labels)\n"
   ]
  },
  {
   "cell_type": "markdown",
   "metadata": {},
   "source": [
    "## A15 – Goal: Generate Multiples with a while Loop.\n",
    "\n",
    "_Use a `while` loop to build a list of multiples of 3 that are less than 40._"
   ]
  },
  {
   "cell_type": "code",
   "execution_count": null,
   "metadata": {},
   "outputs": [],
   "source": [
    "# A while loop makes it easy to stop once the next multiple would exceed the bound.\n",
    "multiples_of_three = []\n",
    "current = 3\n",
    "while current < 40:\n",
    "    multiples_of_three.append(current)\n",
    "    current += 3\n",
    "print(multiples_of_three)\n"
   ]
  },
  {
   "cell_type": "markdown",
   "metadata": {},
   "source": [
    "## A16 – Goal: Build a Multiplication Table.\n",
    "\n",
    "_Use nested `for` loops to build a list of tuples representing a 3 x 3 multiplication table `(row, col, product)` for rows 1-3 and columns 1-3._"
   ]
  },
  {
   "cell_type": "code",
   "execution_count": null,
   "metadata": {},
   "outputs": [],
   "source": [
    "# Nesting the loops enumerates every row and column pair explicitly.\n",
    "multiplication_table = []\n",
    "for row in range(1, 4):\n",
    "    for col in range(1, 4):\n",
    "        multiplication_table.append((row, col, row * col))\n",
    "print(multiplication_table)\n"
   ]
  },
  {
   "cell_type": "markdown",
   "metadata": {},
   "source": [
    "## A17 – Goal: Implement factorial iteratively.\n",
    "\n",
    "_Write a function `factorial(n)` that returns the factorial of a non-negative integer using iteration and raises `ValueError` for negative inputs._"
   ]
  },
  {
   "cell_type": "code",
   "execution_count": null,
   "metadata": {},
   "outputs": [],
   "source": [
    "# Iteration avoids recursion limits and keeps the function efficient for larger n.\n",
    "def factorial(n: int) -> int:\n",
    "    if n < 0:\n",
    "        raise ValueError('factorial is undefined for negative numbers')\n",
    "    result = 1\n",
    "    for value in range(2, n + 1):\n",
    "        result *= value\n",
    "    return result\n",
    "\n",
    "print(factorial(5))\n"
   ]
  },
  {
   "cell_type": "markdown",
   "metadata": {},
   "source": [
    "## A18 – Goal: Use Default Arguments.\n",
    "\n",
    "_Write a function `greet(name, greeting='Hello')` that returns a formatted greeting and demonstrate it with both the default and a custom greeting._"
   ]
  },
  {
   "cell_type": "code",
   "execution_count": null,
   "metadata": {},
   "outputs": [],
   "source": [
    "# Default parameters let callers override the greeting while keeping a sensible fallback.\n",
    "def greet(name: str, greeting: str = 'Hello') -> str:\n",
    "    return f\"{greeting}, {name}!\"\n",
    "\n",
    "print(greet('Avery'))\n",
    "print(greet('Avery', 'Welcome'))\n"
   ]
  },
  {
   "cell_type": "markdown",
   "metadata": {},
   "source": [
    "## A19 – Goal: Work with *args and **kwargs.\n",
    "\n",
    "_Create a function `build_profile(username, *hobbies, **settings)` that returns a dictionary containing the username, a list of hobbies, and any settings provided._"
   ]
  },
  {
   "cell_type": "code",
   "execution_count": null,
   "metadata": {},
   "outputs": [],
   "source": [
    "# Accepting *args and **kwargs keeps the function flexible for future fields.\n",
    "def build_profile(username: str, *hobbies, **settings):\n",
    "    return {\n",
    "        'username': username,\n",
    "        'hobbies': list(hobbies),\n",
    "        'settings': dict(settings),\n",
    "    }\n",
    "\n",
    "profile = build_profile('jdoe', 'cycling', 'reading', theme='dark', notifications=False)\n",
    "print(profile)\n"
   ]
  },
  {
   "cell_type": "markdown",
   "metadata": {},
   "source": [
    "## A20 – Goal: Model a Rectangle Class.\n",
    "\n",
    "_Define a `Rectangle` class with attributes `width` and `height`, an `area` method, and a `scale(factor)` method that returns a new `Rectangle` with scaled dimensions. Demonstrate the class._"
   ]
  },
  {
   "cell_type": "code",
   "execution_count": null,
   "metadata": {},
   "outputs": [],
   "source": [
    "# Returning a new Rectangle from scale keeps the original instance unchanged.\n",
    "class Rectangle:\n",
    "    def __init__(self, width: float, height: float):\n",
    "        self.width = width\n",
    "        self.height = height\n",
    "\n",
    "    def area(self) -> float:\n",
    "        return self.width * self.height\n",
    "\n",
    "    def scale(self, factor: float) -> 'Rectangle':\n",
    "        return Rectangle(self.width * factor, self.height * factor)\n",
    "\n",
    "rect = Rectangle(3, 4)\n",
    "bigger = rect.scale(1.5)\n",
    "print(rect.area())\n",
    "print(bigger.width, bigger.height, bigger.area())\n"
   ]
  },
  {
   "cell_type": "markdown",
   "metadata": {},
   "source": [
    "## A21 – Goal: Inherit from Rectangle.\n",
    "\n",
    "_Create a `Square` subclass of `Rectangle` that enforces equal sides and inherits the `area` method. Instantiate a square of side 5 and compute its area._"
   ]
  },
  {
   "cell_type": "code",
   "execution_count": null,
   "metadata": {},
   "outputs": [],
   "source": [
    "# Subclassing Rectangle lets Square reuse the validated area implementation.\n",
    "class Rectangle:\n",
    "    def __init__(self, width: float, height: float):\n",
    "        self.width = width\n",
    "        self.height = height\n",
    "\n",
    "    def area(self) -> float:\n",
    "        return self.width * self.height\n",
    "\n",
    "\n",
    "class Square(Rectangle):\n",
    "    def __init__(self, side: float):\n",
    "        super().__init__(side, side)\n",
    "\n",
    "square = Square(5)\n",
    "print(square.area())\n"
   ]
  },
  {
   "cell_type": "markdown",
   "metadata": {},
   "source": [
    "## A22 – Goal: Use the array Module.\n",
    "\n",
    "_Using the `array` module, create an integer array from the list `[2, 4, 6]`, append `8`, and convert it to a Python list._"
   ]
  },
  {
   "cell_type": "code",
   "execution_count": null,
   "metadata": {},
   "outputs": [],
   "source": [
    "# The array module stores compact typed data when lists are too flexible.\n",
    "from array import array\n",
    "\n",
    "numbers = array('i', [2, 4, 6])\n",
    "numbers.append(8)\n",
    "as_list = numbers.tolist()\n",
    "print(numbers)\n",
    "print(as_list)\n"
   ]
  },
  {
   "cell_type": "markdown",
   "metadata": {},
   "source": [
    "## A23 – Goal: Compute NumPy Column Means.\n",
    "\n",
    "_Create a 2x3 NumPy array from `[[1, 2, 3], [4, 5, 6]]` and compute the column means._"
   ]
  },
  {
   "cell_type": "code",
   "execution_count": null,
   "metadata": {},
   "outputs": [],
   "source": [
    "# NumPy handles vectorized arithmetic so the mean is a one-liner.\n",
    "import numpy as np\n",
    "\n",
    "data = np.array([[1, 2, 3], [4, 5, 6]])\n",
    "column_means = data.mean(axis=0)\n",
    "print(column_means)\n"
   ]
  },
  {
   "cell_type": "markdown",
   "metadata": {},
   "source": [
    "## A24 – Goal: Build a pandas DataFrame.\n",
    "\n",
    "_Construct a pandas DataFrame named `inventory` from the dictionary `{'item': ['pen', 'paper', 'stapler'], 'quantity': [20, 35, 12], 'price': [1.5, 0.5, 6.0]}` and add a `value` column equal to `quantity * price`._"
   ]
  },
  {
   "cell_type": "code",
   "execution_count": null,
   "metadata": {},
   "outputs": [],
   "source": [
    "# Creating the DataFrame from a dict keeps the columns aligned by key.\n",
    "import pandas as pd\n",
    "\n",
    "inventory = pd.DataFrame(\n",
    "    {'item': ['pen', 'paper', 'stapler'], 'quantity': [20, 35, 12], 'price': [1.5, 0.5, 6.0]}\n",
    ")\n",
    "inventory['value'] = inventory['quantity'] * inventory['price']\n",
    "print(inventory)\n"
   ]
  },
  {
   "cell_type": "markdown",
   "metadata": {},
   "source": [
    "## A25 – Goal: Filter DataFrame Rows.\n",
    "\n",
    "_Using the `inventory` structure, filter rows where `quantity` is at least 15 and return only the `item` and `value` columns._"
   ]
  },
  {
   "cell_type": "code",
   "execution_count": null,
   "metadata": {},
   "outputs": [],
   "source": [
    "# Re-creating the DataFrame keeps the cell runnable on its own.\n",
    "import pandas as pd\n",
    "\n",
    "inventory = pd.DataFrame(\n",
    "    {'item': ['pen', 'paper', 'stapler'], 'quantity': [20, 35, 12], 'price': [1.5, 0.5, 6.0]}\n",
    ")\n",
    "inventory['value'] = inventory['quantity'] * inventory['price']\n",
    "filtered = inventory.loc[inventory['quantity'] >= 15, ['item', 'value']]\n",
    "print(filtered)\n"
   ]
  },
  {
   "cell_type": "markdown",
   "metadata": {},
   "source": [
    "## A26 – Goal: Summarize Orders by Customer.\n",
    "\n",
    "_Create a DataFrame `orders` with columns `customer`, `category`, `total` from the data `[('Ana', 'books', 45.0), ('Ana', 'games', 65.0), ('Ben', 'books', 30.0), ('Ana', 'books', 20.0), ('Ben', 'games', 55.0)]` and compute the total spend per customer._"
   ]
  },
  {
   "cell_type": "code",
   "execution_count": null,
   "metadata": {},
   "outputs": [],
   "source": [
    "# groupby with sum aggregates the totals per customer in a single step.\n",
    "import pandas as pd\n",
    "\n",
    "orders = pd.DataFrame(\n",
    "    [\n",
    "        ('Ana', 'books', 45.0),\n",
    "        ('Ana', 'games', 65.0),\n",
    "        ('Ben', 'books', 30.0),\n",
    "        ('Ana', 'books', 20.0),\n",
    "        ('Ben', 'games', 55.0),\n",
    "    ],\n",
    "    columns=['customer', 'category', 'total'],\n",
    ")\n",
    "totals = orders.groupby('customer', as_index=False)['total'].sum()\n",
    "print(totals)\n"
   ]
  }
 ],
 "metadata": {
  "kernelspec": {
   "display_name": "leet-ish",
   "language": "python",
   "name": "python3"
  },
  "language_info": {
   "codemirror_mode": {
    "name": "ipython",
    "version": 3
   },
   "file_extension": ".py",
   "mimetype": "text/x-python",
   "name": "python",
   "nbconvert_exporter": "python",
   "pygments_lexer": "ipython3",
   "version": "3.12.11"
  }
 },
 "nbformat": 4,
 "nbformat_minor": 5
}

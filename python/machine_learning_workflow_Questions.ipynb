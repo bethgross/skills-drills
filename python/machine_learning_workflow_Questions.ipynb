{
 "cells": [
  {
   "cell_type": "markdown",
   "metadata": {},
   "source": "# Questions"
  },
  {
   "cell_type": "markdown",
   "metadata": {},
   "source": "## Q1 \u2013 Load Penguins and Define Features\n\nLoad the `penguins` dataset, drop rows with missing predictors, and separate features (`X_penguins`) from the target species (`y_penguins`)."
  },
  {
   "cell_type": "code",
   "metadata": {},
   "execution_count": null,
   "outputs": [],
   "source": ""
  },
  {
   "cell_type": "markdown",
   "metadata": {},
   "source": "## Q2 \u2013 Train-Test Split\n\nPerform a stratified 75/25 train-test split on the penguins data, storing the result as `X_train_peng`, `X_test_peng`, `y_train_peng`, `y_test_peng`."
  },
  {
   "cell_type": "code",
   "metadata": {},
   "execution_count": null,
   "outputs": [],
   "source": ""
  },
  {
   "cell_type": "markdown",
   "metadata": {},
   "source": "## Q3 \u2013 Logistic Pipeline\n\nBuild a preprocessing-and-model pipeline with standardized numeric features, one-hot encoded categoricals, and a multinomial logistic regression classifier."
  },
  {
   "cell_type": "code",
   "metadata": {},
   "execution_count": null,
   "outputs": [],
   "source": ""
  },
  {
   "cell_type": "markdown",
   "metadata": {},
   "source": "## Q4 \u2013 Fit and Evaluate Logistic Model\n\nTrain the logistic pipeline on the training data and report accuracy on the held-out test set."
  },
  {
   "cell_type": "code",
   "metadata": {},
   "execution_count": null,
   "outputs": [],
   "source": ""
  },
  {
   "cell_type": "markdown",
   "metadata": {},
   "source": "## Q5 \u2013 Classification Report\n\nGenerate a detailed classification report (precision, recall, F1) for the logistic predictions."
  },
  {
   "cell_type": "code",
   "metadata": {},
   "execution_count": null,
   "outputs": [],
   "source": ""
  },
  {
   "cell_type": "markdown",
   "metadata": {},
   "source": "## Q6 \u2013 Confusion Matrix Visualization\n\nCompute the confusion matrix for the logistic model and display it as a annotated heatmap."
  },
  {
   "cell_type": "code",
   "metadata": {},
   "execution_count": null,
   "outputs": [],
   "source": ""
  },
  {
   "cell_type": "markdown",
   "metadata": {},
   "source": "## Q7 \u2013 Cross-Validation Accuracy\n\nEvaluate the logistic pipeline with 5-fold stratified cross-validation accuracy on the full dataset."
  },
  {
   "cell_type": "code",
   "metadata": {},
   "execution_count": null,
   "outputs": [],
   "source": ""
  },
  {
   "cell_type": "markdown",
   "metadata": {},
   "source": "## Q8 \u2013 Random Forest Pipeline\n\nConstruct a random forest classification pipeline using the same preprocessing steps and 300 estimators."
  },
  {
   "cell_type": "code",
   "metadata": {},
   "execution_count": null,
   "outputs": [],
   "source": ""
  },
  {
   "cell_type": "markdown",
   "metadata": {},
   "source": "## Q9 \u2013 Random Forest Evaluation\n\nFit the random forest pipeline and compute test accuracy; compare to the logistic result."
  },
  {
   "cell_type": "code",
   "metadata": {},
   "execution_count": null,
   "outputs": [],
   "source": ""
  },
  {
   "cell_type": "markdown",
   "metadata": {},
   "source": "## Q10 \u2013 Model Comparison\n\nRun 5-fold cross-validation for both pipelines and summarize their mean accuracies side-by-side."
  },
  {
   "cell_type": "code",
   "metadata": {},
   "execution_count": null,
   "outputs": [],
   "source": ""
  },
  {
   "cell_type": "markdown",
   "metadata": {},
   "source": "## Q11 \u2013 Permutation Importance\n\nEstimate permutation feature importances for the random forest model on the test set and list the top drivers."
  },
  {
   "cell_type": "code",
   "metadata": {},
   "execution_count": null,
   "outputs": [],
   "source": ""
  },
  {
   "cell_type": "markdown",
   "metadata": {},
   "source": "## Q12 \u2013 Load MPG Dataset\n\nLoad seaborn's `mpg` dataset, drop rows missing `mpg`, and separate features (`X_mpg`) from the target `y_mpg`."
  },
  {
   "cell_type": "code",
   "metadata": {},
   "execution_count": null,
   "outputs": [],
   "source": ""
  },
  {
   "cell_type": "markdown",
   "metadata": {},
   "source": "## Q13 \u2013 MPG Train-Test Split\n\nSplit the MPG data into training and test sets (80/20) using a fixed random seed."
  },
  {
   "cell_type": "code",
   "metadata": {},
   "execution_count": null,
   "outputs": [],
   "source": ""
  },
  {
   "cell_type": "markdown",
   "metadata": {},
   "source": "## Q14 \u2013 Regression Pipeline\n\nCreate a preprocessing pipeline that imputes numeric features with the median, categoricals with the mode, applies one-hot encoding, and fits a random forest regressor (400 trees)."
  },
  {
   "cell_type": "code",
   "metadata": {},
   "execution_count": null,
   "outputs": [],
   "source": ""
  },
  {
   "cell_type": "markdown",
   "metadata": {},
   "source": "## Q15 \u2013 Fit Random Forest Regressor\n\nTrain the regression pipeline and report RMSE and R\u00b2 on the test set."
  },
  {
   "cell_type": "code",
   "metadata": {},
   "execution_count": null,
   "outputs": [],
   "source": ""
  },
  {
   "cell_type": "markdown",
   "metadata": {},
   "source": "## Q16 \u2013 Regression Permutation Importance\n\nCompute permutation importances for the regression model on the test data and show the top 8 features."
  },
  {
   "cell_type": "code",
   "metadata": {},
   "execution_count": null,
   "outputs": [],
   "source": ""
  },
  {
   "cell_type": "markdown",
   "metadata": {},
   "source": "## Q17 \u2013 Predicted vs Actual Plot\n\nPlot predicted vs actual MPG for the test set along with the identity line and compute mean absolute error."
  },
  {
   "cell_type": "code",
   "metadata": {},
   "execution_count": null,
   "outputs": [],
   "source": ""
  },
  {
   "cell_type": "markdown",
   "metadata": {},
   "source": "## Q18 \u2013 Cross-Validation RMSE\n\nEvaluate the regression pipeline with 5-fold cross-validation using negative RMSE scoring and display the fold scores."
  },
  {
   "cell_type": "code",
   "metadata": {},
   "execution_count": null,
   "outputs": [],
   "source": ""
  },
  {
   "cell_type": "markdown",
   "metadata": {},
   "source": "## Q19 \u2013 Baseline Linear Regression\n\nTrain a linear regression pipeline with the same preprocessing and compare RMSE/R\u00b2 against the random forest model."
  },
  {
   "cell_type": "code",
   "metadata": {},
   "execution_count": null,
   "outputs": [],
   "source": ""
  },
  {
   "cell_type": "markdown",
   "metadata": {},
   "source": "## Q20 \u2013 Random Forest Grid Search\n\nRun a brief grid search over `n_estimators` (200, 400) and `max_depth` (None, 10, 20) for the random forest regressor using 3-fold CV."
  },
  {
   "cell_type": "code",
   "metadata": {},
   "execution_count": null,
   "outputs": [],
   "source": ""
  },
  {
   "cell_type": "markdown",
   "metadata": {},
   "source": "## Q21 \u2013 Refit with Best Params\n\nRefit the random forest pipeline with the best grid-search parameters and evaluate new test RMSE and R\u00b2."
  },
  {
   "cell_type": "code",
   "metadata": {},
   "execution_count": null,
   "outputs": [],
   "source": ""
  },
  {
   "cell_type": "markdown",
   "metadata": {},
   "source": "## Q22 \u2013 Modeling Checklist\n\nCreate a Python list named `modeling_steps` summarizing the key stages executed across classification and regression workflows."
  },
  {
   "cell_type": "code",
   "metadata": {},
   "execution_count": null,
   "outputs": [],
   "source": ""
  }
 ],
 "metadata": {
  "kernelspec": {
   "display_name": "leet-ish",
   "language": "python",
   "name": "python3"
  },
  "language_info": {
   "codemirror_mode": {
    "name": "ipython",
    "version": 3
   },
   "file_extension": ".py",
   "mimetype": "text/x-python",
   "name": "python",
   "nbconvert_exporter": "python",
   "pygments_lexer": "ipython3",
   "version": "3.12.11"
  }
 },
 "nbformat": 4,
 "nbformat_minor": 5
}
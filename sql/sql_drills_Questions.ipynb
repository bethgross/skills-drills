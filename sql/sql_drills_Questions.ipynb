{
 "cells": [
  {
   "cell_type": "markdown",
   "metadata": {},
   "source": [
    "# Questions"
   ]
  },
  {
   "cell_type": "markdown",
   "metadata": {},
   "source": [
    "## Q1 – Connect and Load Data\n",
    "\n",
    "Connect to your local DuckDB database and load the `penguins` table into a pandas dataframe using Python."
   ]
  },
  {
   "cell_type": "code",
   "execution_count": null,
   "id": "7803a65e",
   "metadata": {},
   "outputs": [],
   "source": [
    "# TODO: Connect to DuckDB and load the penguins table into pandas\n",
    "\n"
   ]
  },
  {
   "cell_type": "markdown",
   "metadata": {},
   "source": [
    "## Q2 – Count Penguins by Species\n",
    "\n",
    "Query `penguins` to list each species alongside its row count, ordered from most to fewest records."
   ]
  },
  {
   "cell_type": "code",
   "execution_count": null,
   "metadata": {},
   "outputs": [],
   "source": [
    "# TODO: Write the SQL for Question 2\n",
    "\n"
   ]
  },
  {
   "cell_type": "markdown",
   "metadata": {},
   "source": [
    "## Q3 – Average Body Mass by Island\n",
    "\n",
    "Calculate the average `body_mass_g` for penguins on each island and round the result to the nearest gram."
   ]
  },
  {
   "cell_type": "code",
   "execution_count": null,
   "metadata": {},
   "outputs": [],
   "source": [
    "# TODO: Write the SQL for Question 3\n",
    "\n"
   ]
  },
  {
   "cell_type": "markdown",
   "metadata": {},
   "source": [
    "## Q4 – Top Heaviest Penguins\n",
    "\n",
    "Return the 10 heaviest penguins with their species, sex, island, and `body_mass_g`, ordered by mass descending."
   ]
  },
  {
   "cell_type": "code",
   "execution_count": null,
   "metadata": {},
   "outputs": [],
   "source": [
    "# TODO: Write the SQL for Question 4\n",
    "\n"
   ]
  },
  {
   "cell_type": "markdown",
   "metadata": {},
   "source": [
    "## Q5 – Bill Metrics by Species and Sex\n",
    "\n",
    "Compute the average `bill_length_mm` and `bill_depth_mm` for each combination of species and sex, excluding rows where sex is NULL."
   ]
  },
  {
   "cell_type": "code",
   "execution_count": null,
   "metadata": {},
   "outputs": [],
   "source": [
    "# TODO: Write the SQL for Question 5\n",
    "\n"
   ]
  },
  {
   "cell_type": "markdown",
   "metadata": {},
   "source": [
    "## Q6 – Flipper Length Change by Year\n",
    "\n",
    "For each species, calculate the average `flipper_length_mm` by year and add a column showing the change from the previous year."
   ]
  },
  {
   "cell_type": "code",
   "execution_count": null,
   "metadata": {},
   "outputs": [],
   "source": [
    "# TODO: Write the SQL for Question 6\n"
   ]
  },
  {
   "cell_type": "markdown",
   "metadata": {},
   "source": [
    "## Q7 – Missing Body Mass Share\n",
    "\n",
    "For each species, compute the percentage of records with NULL `body_mass_g`."
   ]
  },
  {
   "cell_type": "code",
   "execution_count": null,
   "metadata": {},
   "outputs": [],
   "source": [
    "# TODO: Write the SQL for Question 7\n"
   ]
  },
  {
   "cell_type": "markdown",
   "metadata": {},
   "source": [
    "## Q8 – Average Tip Percentage by Day and Time\n",
    "\n",
    "Using the `tips` table, calculate the average tip percentage (`tip / total_bill`) for each combination of `day` and `time`."
   ]
  },
  {
   "cell_type": "code",
   "execution_count": null,
   "metadata": {},
   "outputs": [],
   "source": [
    "# TODO: Write the SQL for Question 8\n"
   ]
  },
  {
   "cell_type": "markdown",
   "metadata": {},
   "source": [
    "## Q9 – Top Tip Percentages\n",
    "\n",
    "Return the five rows with the highest tip percentage, showing `total_bill`, `tip`, `size`, and the calculated percentage. Break ties by higher `total_bill`."
   ]
  },
  {
   "cell_type": "code",
   "execution_count": null,
   "metadata": {},
   "outputs": [],
   "source": [
    "# TODO: Write the SQL for Question 9\n"
   ]
  },
  {
   "cell_type": "markdown",
   "metadata": {},
   "source": [
    "## Q10 – Smoker and Sex Comparison\n",
    "\n",
    "Compute the average tip percentage for each grouping of `smoker` status and `sex`, including the number of meals in each group."
   ]
  },
  {
   "cell_type": "code",
   "execution_count": null,
   "metadata": {},
   "outputs": [],
   "source": [
    "# TODO: Write the SQL for Question 10\n"
   ]
  },
  {
   "cell_type": "markdown",
   "metadata": {},
   "source": [
    "## Q11 – Party Size Revenue Summary\n",
    "\n",
    "Summarize the `tips` data by party `size`, returning the count of bills, total `total_bill`, average `tip`, and average tip percentage."
   ]
  },
  {
   "cell_type": "code",
   "execution_count": null,
   "metadata": {},
   "outputs": [],
   "source": [
    "# TODO: Write the SQL for Question 11\n"
   ]
  },
  {
   "cell_type": "markdown",
   "metadata": {},
   "source": [
    "## Q12 – Highest Median Total Bill Day\n",
    "\n",
    "Calculate the median `total_bill` for each `day` and identify the day(s) with the highest median."
   ]
  },
  {
   "cell_type": "code",
   "execution_count": null,
   "metadata": {},
   "outputs": [],
   "source": [
    "# TODO: Write the SQL for Question 12\n"
   ]
  },
  {
   "cell_type": "markdown",
   "metadata": {},
   "source": [
    "## Q13 – Rank Tip Percentage Within Day\n",
    "\n",
    "Within each `day`, rank meals by tip percentage using `DENSE_RANK`, retaining `total_bill`, `tip`, and the computed rank."
   ]
  },
  {
   "cell_type": "code",
   "execution_count": null,
   "metadata": {},
   "outputs": [],
   "source": [
    "# TODO: Write the SQL for Question 13\n"
   ]
  },
  {
   "cell_type": "markdown",
   "metadata": {},
   "source": [
    "## Q14 – Overall Survival Rate\n",
    "\n",
    "From the `titanic` table, compute the overall survival rate as the percentage of passengers where `survived = 1`."
   ]
  },
  {
   "cell_type": "code",
   "execution_count": null,
   "metadata": {},
   "outputs": [],
   "source": [
    "# TODO: Write the SQL for Question 14\n"
   ]
  },
  {
   "cell_type": "markdown",
   "metadata": {},
   "source": [
    "## Q15 – Survival by Class and Sex\n",
    "\n",
    "Calculate the survival rate for each combination of passenger class (`pclass`) and `sex`."
   ]
  },
  {
   "cell_type": "code",
   "execution_count": null,
   "metadata": {},
   "outputs": [],
   "source": [
    "# TODO: Write the SQL for Question 15\n"
   ]
  },
  {
   "cell_type": "markdown",
   "metadata": {},
   "source": [
    "## Q16 – Average Age by Survival and Class\n",
    "\n",
    "Determine the average age for survivors and non-survivors within each `pclass`, excluding rows with NULL `age`."
   ]
  },
  {
   "cell_type": "code",
   "execution_count": null,
   "metadata": {},
   "outputs": [],
   "source": [
    "# TODO: Write the SQL for Question 16\n"
   ]
  },
  {
   "cell_type": "markdown",
   "metadata": {},
   "source": [
    "## Q17 – Large Family Proportion\n",
    "\n",
    "Create a `family_size` metric as `sibsp + parch + 1` and compute the percentage of passengers with `family_size > 3`."
   ]
  },
  {
   "cell_type": "code",
   "execution_count": null,
   "metadata": {},
   "outputs": [],
   "source": [
    "# TODO: Write the SQL for Question 17\n"
   ]
  },
  {
   "cell_type": "markdown",
   "metadata": {},
   "source": [
    "## Q18 – Survival by Embarkation Town\n",
    "\n",
    "Report the survival rate for each `embark_town`, along with the passenger count per town, ordered by survival rate descending."
   ]
  },
  {
   "cell_type": "code",
   "execution_count": null,
   "metadata": {},
   "outputs": [],
   "source": [
    "# TODO: Write the SQL for Question 18\n"
   ]
  },
  {
   "cell_type": "markdown",
   "metadata": {},
   "source": [
    "## Q19 – Survival by Age Bucket\n",
    "\n",
    "Group passengers into age buckets (0-12, 13-17, 18-29, 30-49, 50+) and compute the survival rate in each bucket."
   ]
  },
  {
   "cell_type": "code",
   "execution_count": null,
   "metadata": {},
   "outputs": [],
   "source": [
    "# TODO: Write the SQL for Question 19\n"
   ]
  },
  {
   "cell_type": "markdown",
   "metadata": {},
   "source": [
    "## Q20 – Fare and Age Correlation\n",
    "\n",
    "Calculate the correlation coefficient between `fare` and `age`, ignoring rows where either value is NULL."
   ]
  },
  {
   "cell_type": "code",
   "execution_count": null,
   "metadata": {},
   "outputs": [],
   "source": [
    "# TODO: Write the SQL for Question 20\n"
   ]
  }
 ],
 "metadata": {
  "kernelspec": {
   "display_name": "leet-ish",
   "language": "python",
   "name": "python3"
  },
  "language_info": {
   "codemirror_mode": {
    "name": "ipython",
    "version": 3
   },
   "file_extension": ".py",
   "mimetype": "text/x-python",
   "name": "python",
   "nbconvert_exporter": "python",
   "pygments_lexer": "ipython3",
   "version": "3.12.11"
  }
 },
 "nbformat": 4,
 "nbformat_minor": 5
}

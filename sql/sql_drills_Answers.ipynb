{
 "cells": [
  {
   "cell_type": "markdown",
   "metadata": {},
   "source": [
    "# Answers"
   ]
  },
  {
   "cell_type": "markdown",
   "metadata": {},
   "source": [
    "## A1 – Connect and Load Data\n",
    "\n",
    "_Connect to your local DuckDB database and load the `penguins` table into a pandas dataframe using Python._"
   ]
  },
  {
   "cell_type": "code",
   "execution_count": null,
   "metadata": {},
   "outputs": [],
   "source": [
    "import duckdb\n",
    "import pandas as pd\n",
    "import os\n",
    "from dotenv import load_dotenv\n",
    "\n",
    "load_dotenv()\n",
    "\n",
    "# Read the DuckDB database file from .env file\n",
    "DB_PATH = os.getenv(\"DUCKDB_DATABASE_PATH\")\n",
    "\n",
    "# update with the path to your DuckDB database file\n",
    "con = duckdb.connect(database=DB_PATH, read_only=True)\n",
    "\n",
    "penguins_df = con.execute(\n",
    "    \"SELECT * FROM penguins;\"\n",
    ").df()\n",
    "penguins_df.head()\n",
    "# Preview the first rows of the penguins dataset now loaded in pandas.\n"
   ]
  },
  {
   "cell_type": "markdown",
   "metadata": {},
   "source": [
    "## A2 – Count Penguins by Species\n",
    "\n",
    "_Query `penguins` to list each species alongside its row count, ordered from most to fewest records._"
   ]
  },
  {
   "cell_type": "code",
   "execution_count": null,
   "metadata": {},
   "outputs": [],
   "source": [
    "con.execute(\n",
    "    \"\"\"\n",
    "    SELECT\n",
    "        species,\n",
    "        COUNT(*) AS penguin_count\n",
    "    FROM penguins\n",
    "    GROUP BY species\n",
    "    ORDER BY penguin_count DESC;\n",
    "    \"\"\"\n",
    ").df()\n",
    "# Adelie typically appears with the highest count.\n"
   ]
  },
  {
   "cell_type": "markdown",
   "metadata": {},
   "source": [
    "## A3 – Average Body Mass by Island\n",
    "\n",
    "_Calculate the average `body_mass_g` for penguins on each island and round the result to the nearest gram._"
   ]
  },
  {
   "cell_type": "code",
   "execution_count": null,
   "metadata": {},
   "outputs": [],
   "source": [
    "con.execute(\n",
    "    \"\"\"\n",
    "    SELECT\n",
    "        island,\n",
    "        ROUND(AVG(body_mass_g)) AS avg_body_mass_g\n",
    "    FROM penguins\n",
    "    GROUP BY island\n",
    "    ORDER BY island;\n",
    "    \"\"\"\n",
    ").df()\n",
    "# Shows how average body mass differs by island habitat.\n"
   ]
  },
  {
   "cell_type": "markdown",
   "metadata": {},
   "source": [
    "## A4 – Top Heaviest Penguins\n",
    "\n",
    "_Return the 10 heaviest penguins with their species, sex, island, and `body_mass_g`, ordered by mass descending._"
   ]
  },
  {
   "cell_type": "code",
   "execution_count": null,
   "metadata": {},
   "outputs": [],
   "source": [
    "con.execute(\n",
    "    \"\"\"\n",
    "    SELECT\n",
    "        species,\n",
    "        sex,\n",
    "        island,\n",
    "        body_mass_g\n",
    "    FROM penguins\n",
    "    WHERE body_mass_g IS NOT NULL\n",
    "    ORDER BY body_mass_g DESC\n",
    "    LIMIT 10;\n",
    "    \"\"\"\n",
    ").df()\n",
    "# Highlights the individuals with the greatest recorded body mass.\n"
   ]
  },
  {
   "cell_type": "markdown",
   "metadata": {},
   "source": [
    "## A5 – Bill Metrics by Species and Sex\n",
    "\n",
    "_Compute the average `bill_length_mm` and `bill_depth_mm` for each combination of species and sex, excluding rows where sex is NULL._"
   ]
  },
  {
   "cell_type": "code",
   "execution_count": null,
   "metadata": {},
   "outputs": [],
   "source": [
    "con.execute(\n",
    "    \"\"\"\n",
    "    SELECT\n",
    "        species,\n",
    "        sex,\n",
    "        ROUND(AVG(bill_length_mm), 2) AS avg_bill_length_mm,\n",
    "        ROUND(AVG(bill_depth_mm), 2) AS avg_bill_depth_mm\n",
    "    FROM penguins\n",
    "    WHERE sex IS NOT NULL\n",
    "    GROUP BY species, sex\n",
    "    ORDER BY species, sex;\n",
    "    \"\"\"\n",
    ").df()\n",
    "# Provides side-by-side bill metrics by species-sex group.\n"
   ]
  },
  {
   "cell_type": "markdown",
   "metadata": {},
   "source": [
    "## A6 – Flipper Length Change by Year\n",
    "\n",
    "_For each species, calculate the average `flipper_length_mm` by year and add a column showing the change from the previous year._"
   ]
  },
  {
   "cell_type": "code",
   "execution_count": null,
   "id": "2412fa63",
   "metadata": {},
   "outputs": [],
   "source": [
    "con.close()"
   ]
  },
  {
   "cell_type": "code",
   "execution_count": null,
   "metadata": {},
   "outputs": [],
   "source": [
    "con.execute(\n",
    "    \"\"\"\n",
    "    WITH avg_flipper AS (\n",
    "        SELECT\n",
    "            species,\n",
    "            island,\n",
    "            AVG(flipper_length_mm) AS avg_flipper_length_mm\n",
    "        FROM penguins\n",
    "        GROUP BY species, island\n",
    "    )\n",
    "    SELECT\n",
    "        species,\n",
    "        island,\n",
    "        ROUND(avg_flipper_length_mm, 2) AS avg_flipper_length_mm,\n",
    "        ROUND(\n",
    "            avg_flipper_length_mm - LAG(avg_flipper_length_mm) OVER (\n",
    "                PARTITION BY species ORDER BY island\n",
    "            ),\n",
    "            2\n",
    "        ) AS change_from_prior_island\n",
    "    FROM avg_flipper\n",
    "    ORDER BY species, island;\n",
    "    \"\"\"\n",
    ").df()\n",
    "# Shows average flipper length and change across islands for each species.\n"
   ]
  },
  {
   "cell_type": "markdown",
   "metadata": {},
   "source": [
    "## A7 – Missing Body Mass Share\n",
    "\n",
    "_For each species, compute the percentage of records with NULL `body_mass_g`._"
   ]
  },
  {
   "cell_type": "code",
   "execution_count": null,
   "metadata": {},
   "outputs": [],
   "source": [
    "con.execute(\n",
    "    \"\"\"\n",
    "    SELECT\n",
    "        species,\n",
    "        ROUND(\n",
    "            100.0 * SUM(CASE WHEN body_mass_g IS NULL THEN 1 ELSE 0 END) / COUNT(*),\n",
    "            2\n",
    "        ) AS pct_missing_body_mass\n",
    "    FROM penguins\n",
    "    GROUP BY species\n",
    "    ORDER BY species;\n",
    "    \"\"\"\n",
    ").df()\n",
    "# Reveals how prevalent missing body mass measurements are per species.\n"
   ]
  },
  {
   "cell_type": "markdown",
   "metadata": {},
   "source": [
    "## A8 – Average Tip Percentage by Day and Time\n",
    "\n",
    "_Using the `tips` table, calculate the average tip percentage (`tip / total_bill`) for each combination of `day` and `time`._"
   ]
  },
  {
   "cell_type": "code",
   "execution_count": null,
   "metadata": {},
   "outputs": [],
   "source": [
    "con.execute(\n",
    "    \"\"\"\n",
    "    SELECT\n",
    "        day,\n",
    "        time,\n",
    "        ROUND(AVG(tip / total_bill) * 100, 2) AS avg_tip_pct\n",
    "    FROM tips\n",
    "    GROUP BY day, time\n",
    "    ORDER BY day, time;\n",
    "    \"\"\"\n",
    ").df()\n",
    "# Displays tipping tendencies across day/time combinations.\n"
   ]
  },
  {
   "cell_type": "markdown",
   "metadata": {},
   "source": [
    "## A9 – Top Tip Percentages\n",
    "\n",
    "_Return the five rows with the highest tip percentage, showing `total_bill`, `tip`, `size`, and the calculated percentage. Break ties by higher `total_bill`._"
   ]
  },
  {
   "cell_type": "code",
   "execution_count": null,
   "metadata": {},
   "outputs": [],
   "source": [
    "con.execute(\n",
    "    \"\"\"\n",
    "    SELECT\n",
    "        total_bill,\n",
    "        tip,\n",
    "        size,\n",
    "        ROUND(tip / total_bill * 100, 2) AS tip_pct\n",
    "    FROM tips\n",
    "    ORDER BY tip_pct DESC, total_bill DESC\n",
    "    LIMIT 5;\n",
    "    \"\"\"\n",
    ").df()\n",
    "# Captures the most generous tipping instances, favoring larger bills on ties.\n"
   ]
  },
  {
   "cell_type": "markdown",
   "metadata": {},
   "source": [
    "## A10 – Smoker and Sex Comparison\n",
    "\n",
    "_Compute the average tip percentage for each grouping of `smoker` status and `sex`, including the number of meals in each group._"
   ]
  },
  {
   "cell_type": "code",
   "execution_count": null,
   "metadata": {},
   "outputs": [],
   "source": [
    "con.execute(\n",
    "    \"\"\"\n",
    "    SELECT\n",
    "        smoker,\n",
    "        sex,\n",
    "        COUNT(*) AS meal_count,\n",
    "        ROUND(AVG(tip / total_bill) * 100, 2) AS avg_tip_pct\n",
    "    FROM tips\n",
    "    GROUP BY smoker, sex\n",
    "    ORDER BY smoker, sex;\n",
    "    \"\"\"\n",
    ").df()\n",
    "# Helps compare tipping behavior across smoker/sex combinations.\n"
   ]
  },
  {
   "cell_type": "markdown",
   "metadata": {},
   "source": [
    "## A11 – Party Size Revenue Summary\n",
    "\n",
    "_Summarize the `tips` data by party `size`, returning the count of bills, total `total_bill`, average `tip`, and average tip percentage._"
   ]
  },
  {
   "cell_type": "code",
   "execution_count": null,
   "metadata": {},
   "outputs": [],
   "source": [
    "con.execute(\n",
    "    \"\"\"\n",
    "    SELECT\n",
    "        size,\n",
    "        COUNT(*) AS bill_count,\n",
    "        ROUND(SUM(total_bill), 2) AS total_revenue,\n",
    "        ROUND(AVG(tip), 2) AS avg_tip,\n",
    "        ROUND(AVG(tip / total_bill) * 100, 2) AS avg_tip_pct\n",
    "    FROM tips\n",
    "    GROUP BY size\n",
    "    ORDER BY size;\n",
    "    \"\"\"\n",
    ").df()\n",
    "# Summarizes revenue and generosity patterns by table size.\n"
   ]
  },
  {
   "cell_type": "markdown",
   "metadata": {},
   "source": [
    "## A12 – Highest Median Total Bill Day\n",
    "\n",
    "_Calculate the median `total_bill` for each `day` and identify the day(s) with the highest median._"
   ]
  },
  {
   "cell_type": "code",
   "execution_count": null,
   "metadata": {},
   "outputs": [],
   "source": [
    "con.execute(\n",
    "    \"\"\"\n",
    "    WITH day_medians AS (\n",
    "        SELECT\n",
    "            day,\n",
    "            MEDIAN(total_bill) AS median_total_bill\n",
    "        FROM tips\n",
    "        GROUP BY day\n",
    "    )\n",
    "    SELECT\n",
    "        day,\n",
    "        ROUND(median_total_bill, 2) AS median_total_bill,\n",
    "        CASE\n",
    "            WHEN median_total_bill = (SELECT MAX(median_total_bill) FROM day_medians)\n",
    "            THEN TRUE\n",
    "            ELSE FALSE\n",
    "        END AS is_highest_median\n",
    "    FROM day_medians\n",
    "    ORDER BY median_total_bill DESC;\n",
    "    \"\"\"\n",
    ").df()\n",
    "# Flags the day(s) with the top median spending.\n"
   ]
  },
  {
   "cell_type": "markdown",
   "metadata": {},
   "source": [
    "## A13 – Rank Tip Percentage Within Day\n",
    "\n",
    "_Within each `day`, rank meals by tip percentage using `DENSE_RANK`, retaining `total_bill`, `tip`, and the computed rank._"
   ]
  },
  {
   "cell_type": "code",
   "execution_count": null,
   "metadata": {},
   "outputs": [],
   "source": [
    "con.execute(\n",
    "    \"\"\"\n",
    "    WITH ranked AS (\n",
    "        SELECT\n",
    "            day,\n",
    "            total_bill,\n",
    "            tip,\n",
    "            ROUND(tip / total_bill * 100, 2) AS tip_pct,\n",
    "            DENSE_RANK() OVER (\n",
    "                PARTITION BY day\n",
    "                ORDER BY tip / total_bill DESC\n",
    "            ) AS tip_pct_rank\n",
    "        FROM tips\n",
    "    )\n",
    "    SELECT\n",
    "        day,\n",
    "        total_bill,\n",
    "        tip,\n",
    "        tip_pct,\n",
    "        tip_pct_rank\n",
    "    FROM ranked\n",
    "    ORDER BY day, tip_pct_rank, tip_pct DESC;\n",
    "    \"\"\"\n",
    ").df()\n",
    "# Produces within-day rankings for tip generosity.\n"
   ]
  },
  {
   "cell_type": "markdown",
   "metadata": {},
   "source": [
    "## A14 – Overall Survival Rate\n",
    "\n",
    "_From the `titanic` table, compute the overall survival rate as the percentage of passengers where `survived = 1`._"
   ]
  },
  {
   "cell_type": "code",
   "execution_count": null,
   "metadata": {},
   "outputs": [],
   "source": [
    "con.execute(\n",
    "    \"\"\"\n",
    "    SELECT\n",
    "        ROUND(AVG(CAST(survived AS DOUBLE)) * 100, 2) AS survival_rate_pct\n",
    "    FROM titanic;\n",
    "    \"\"\"\n",
    ").df()\n",
    "# Returns the overall survival percentage across all passengers.\n"
   ]
  },
  {
   "cell_type": "markdown",
   "metadata": {},
   "source": [
    "## A15 – Survival by Class and Sex\n",
    "\n",
    "_Calculate the survival rate for each combination of passenger class (`pclass`) and `sex`._"
   ]
  },
  {
   "cell_type": "code",
   "execution_count": null,
   "metadata": {},
   "outputs": [],
   "source": [
    "con.execute(\n",
    "    \"\"\"\n",
    "    SELECT\n",
    "        pclass,\n",
    "        sex,\n",
    "        COUNT(*) AS passenger_count,\n",
    "        ROUND(AVG(CAST(survived AS DOUBLE)) * 100, 2) AS survival_rate_pct\n",
    "    FROM titanic\n",
    "    GROUP BY pclass, sex\n",
    "    ORDER BY pclass, sex;\n",
    "    \"\"\"\n",
    ").df()\n",
    "# Breaks down survival rates across class and sex combinations.\n"
   ]
  },
  {
   "cell_type": "markdown",
   "metadata": {},
   "source": [
    "## A16 – Average Age by Survival and Class\n",
    "\n",
    "_Determine the average age for survivors and non-survivors within each `pclass`, excluding rows with NULL `age`._"
   ]
  },
  {
   "cell_type": "code",
   "execution_count": null,
   "metadata": {},
   "outputs": [],
   "source": [
    "con.execute(\n",
    "    \"\"\"\n",
    "    SELECT\n",
    "        pclass,\n",
    "        survived,\n",
    "        ROUND(AVG(age), 2) AS avg_age\n",
    "    FROM titanic\n",
    "    WHERE age IS NOT NULL\n",
    "    GROUP BY pclass, survived\n",
    "    ORDER BY pclass, survived;\n",
    "    \"\"\"\n",
    ").df()\n",
    "# Shows age differences by survival outcome within each class.\n"
   ]
  },
  {
   "cell_type": "markdown",
   "metadata": {},
   "source": [
    "## A17 – Large Family Proportion\n",
    "\n",
    "_Create a `family_size` metric as `sibsp + parch + 1` and compute the percentage of passengers with `family_size > 3`._"
   ]
  },
  {
   "cell_type": "code",
   "execution_count": null,
   "metadata": {},
   "outputs": [],
   "source": [
    "con.execute(\n",
    "    \"\"\"\n",
    "    WITH families AS (\n",
    "        SELECT\n",
    "            *,\n",
    "            sibsp + parch + 1 AS family_size\n",
    "        FROM titanic\n",
    "    )\n",
    "    SELECT\n",
    "        ROUND(100.0 * SUM(CASE WHEN family_size > 3 THEN 1 ELSE 0 END) / COUNT(*), 2) AS pct_large_family\n",
    "    FROM families;\n",
    "    \"\"\"\n",
    ").df()\n",
    "# Reveals how common larger travel parties were on the Titanic manifest.\n"
   ]
  },
  {
   "cell_type": "markdown",
   "metadata": {},
   "source": [
    "## A18 – Survival by Embarkation Town\n",
    "\n",
    "_Report the survival rate for each `embark_town`, along with the passenger count per town, ordered by survival rate descending._"
   ]
  },
  {
   "cell_type": "code",
   "execution_count": null,
   "metadata": {},
   "outputs": [],
   "source": [
    "con.execute(\n",
    "    \"\"\"\n",
    "    SELECT\n",
    "        embark_town,\n",
    "        COUNT(*) AS passenger_count,\n",
    "        ROUND(AVG(CAST(survived AS DOUBLE)) * 100, 2) AS survival_rate_pct\n",
    "    FROM titanic\n",
    "    WHERE embark_town IS NOT NULL\n",
    "    GROUP BY embark_town\n",
    "    ORDER BY survival_rate_pct DESC;\n",
    "    \"\"\"\n",
    ").df()\n",
    "# Compares survival outcomes by embarkation location.\n"
   ]
  },
  {
   "cell_type": "markdown",
   "metadata": {},
   "source": [
    "## A19 – Survival by Age Bucket\n",
    "\n",
    "_Group passengers into age buckets (0-12, 13-17, 18-29, 30-49, 50+) and compute the survival rate in each bucket._"
   ]
  },
  {
   "cell_type": "code",
   "execution_count": null,
   "metadata": {},
   "outputs": [],
   "source": [
    "con.execute(\n",
    "    \"\"\"\n",
    "    WITH bucketed AS (\n",
    "        SELECT\n",
    "            CASE\n",
    "                WHEN age < 13 THEN '0-12'\n",
    "                WHEN age BETWEEN 13 AND 17 THEN '13-17'\n",
    "                WHEN age BETWEEN 18 AND 29 THEN '18-29'\n",
    "                WHEN age BETWEEN 30 AND 49 THEN '30-49'\n",
    "                ELSE '50+'\n",
    "            END AS age_bucket,\n",
    "            survived\n",
    "        FROM titanic\n",
    "        WHERE age IS NOT NULL\n",
    "    )\n",
    "    SELECT\n",
    "        age_bucket,\n",
    "        COUNT(*) AS passenger_count,\n",
    "        ROUND(AVG(CAST(survived AS DOUBLE)) * 100, 2) AS survival_rate_pct\n",
    "    FROM bucketed\n",
    "    GROUP BY age_bucket\n",
    "    ORDER BY CASE age_bucket\n",
    "        WHEN '0-12' THEN 1\n",
    "        WHEN '13-17' THEN 2\n",
    "        WHEN '18-29' THEN 3\n",
    "        WHEN '30-49' THEN 4\n",
    "        ELSE 5\n",
    "    END;\n",
    "    \"\"\"\n",
    ").df()\n",
    "# Highlights survival variability across broad age groups.\n"
   ]
  },
  {
   "cell_type": "markdown",
   "metadata": {},
   "source": [
    "## A20 – Fare and Age Correlation\n",
    "\n",
    "_Calculate the correlation coefficient between `fare` and `age`, ignoring rows where either value is NULL._"
   ]
  },
  {
   "cell_type": "code",
   "execution_count": null,
   "metadata": {},
   "outputs": [],
   "source": [
    "con.execute(\n",
    "    \"\"\"\n",
    "    SELECT\n",
    "        ROUND(CORR(fare, age), 4) AS fare_age_corr\n",
    "    FROM titanic\n",
    "    WHERE fare IS NOT NULL\n",
    "      AND age IS NOT NULL;\n",
    "    \"\"\"\n",
    ").df()\n",
    "# Measures the linear relationship between fare paid and passenger age.\n"
   ]
  }
 ],
 "metadata": {
  "kernelspec": {
   "display_name": "leet-ish",
   "language": "python",
   "name": "python3"
  },
  "language_info": {
   "codemirror_mode": {
    "name": "ipython",
    "version": 3
   },
   "file_extension": ".py",
   "mimetype": "text/x-python",
   "name": "python",
   "nbconvert_exporter": "python",
   "pygments_lexer": "ipython3",
   "version": "3.12.11"
  }
 },
 "nbformat": 4,
 "nbformat_minor": 5
}
